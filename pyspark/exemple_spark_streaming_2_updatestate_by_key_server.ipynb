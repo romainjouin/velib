{
 "cells": [
  {
   "cell_type": "code",
   "execution_count": 21,
   "metadata": {},
   "outputs": [
    {
     "name": "stdout",
     "output_type": "stream",
     "text": [
      "shutdowned\n",
      "closed\n"
     ]
    }
   ],
   "source": [
    "try    : serversocket.shutdown(socket.SHUT_RDWR); print (\"shutdowned\")\n",
    "except : pass\n",
    "try    : serversocket.close(); print (\"closed\")\n",
    "except : pass"
   ]
  },
  {
   "cell_type": "code",
   "execution_count": 23,
   "metadata": {},
   "outputs": [
    {
     "name": "stdout",
     "output_type": "stream",
     "text": [
      "socket liee a 54.37.12.49 12012\n"
     ]
    }
   ],
   "source": [
    "import socket\n",
    "import random\n",
    "import time\n",
    "ip   = \"54.37.12.49\"\n",
    "port = 12012\n",
    "serversocket = socket.socket(socket.AF_INET, socket.SOCK_STREAM)\n",
    "serversocket.bind((ip, port))\n",
    "print(\"socket liee a %s %s\"%(ip, port))"
   ]
  },
  {
   "cell_type": "code",
   "execution_count": 24,
   "metadata": {
    "collapsed": true
   },
   "outputs": [],
   "source": [
    "clients = [\"client_a\", \"client_b\", \"client_c\", \"client_d\"]"
   ]
  },
  {
   "cell_type": "code",
   "execution_count": null,
   "metadata": {},
   "outputs": [],
   "source": [
    "serversocket.listen(1)\n",
    "(clientsocket, address) = serversocket.accept()\n",
    "nb_d_envois = 120\n",
    "tps_attente = 0.1\n",
    "for i in range(nb_d_envois):\n",
    "    time.sleep(tps_attente)\n",
    "    sep     = \",\"\n",
    "    client  = \"%s\"%random.choice(clients)\n",
    "    price   = \"%s\"%random.randint(0, 100)\n",
    "    qtte    = \"%s\"%random.randint(0, 5)\n",
    "    to_send = sep.join([client, price, qtte])+\"\\n\"\n",
    "    print(to_send, end=\" \")\n",
    "    clientsocket.send(to_send.encode())"
   ]
  }
 ],
 "metadata": {
  "kernelspec": {
   "display_name": "Python 3",
   "language": "python",
   "name": "python3"
  },
  "language_info": {
   "codemirror_mode": {
    "name": "ipython",
    "version": 3
   },
   "file_extension": ".py",
   "mimetype": "text/x-python",
   "name": "python",
   "nbconvert_exporter": "python",
   "pygments_lexer": "ipython3",
   "version": "3.6.3"
  }
 },
 "nbformat": 4,
 "nbformat_minor": 2
}
