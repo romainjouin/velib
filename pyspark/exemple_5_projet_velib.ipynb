{
 "cells": [
  {
   "cell_type": "markdown",
   "metadata": {},
   "source": [
    "# -2) function definition"
   ]
  },
  {
   "cell_type": "code",
   "execution_count": 1,
   "metadata": {
    "collapsed": true
   },
   "outputs": [],
   "source": [
    "def stop_session():\n",
    "    \"\"\"\n",
    "    Stop global spark session and spark context\n",
    "    \"\"\"\n",
    "    try    : spark.stop()\n",
    "    except : pass\n",
    "    try    : sc.stop()\n",
    "    except : pass\n",
    "    "
   ]
  },
  {
   "cell_type": "code",
   "execution_count": 2,
   "metadata": {
    "collapsed": true
   },
   "outputs": [],
   "source": [
    "def get_new_session(master, appName, nb_cores):\n",
    "    \"\"\"\n",
    "    Manage session creation with given appname and nb of cores.\n",
    "    Parameters :\n",
    "        Master   : string (spark url to master - spark://xx.xx.xx.xx:port)\n",
    "        appName  : string\n",
    "        nb_cores : int\n",
    "    Return:\n",
    "        (spark, sc)\n",
    "        \n",
    "    \"\"\"\n",
    "    stop_session()\n",
    "    spark = SparkSession.builder.master(master).appName(appName).config(\"spark.cores.max\", nb_cores).getOrCreate()\n",
    "    sc    = spark.sparkContext\n",
    "    return spark, sc"
   ]
  },
  {
   "cell_type": "markdown",
   "metadata": {},
   "source": [
    "# -1) Imports"
   ]
  },
  {
   "cell_type": "code",
   "execution_count": 3,
   "metadata": {},
   "outputs": [],
   "source": [
    "# PYTHON\n",
    "from time              import time\n",
    "from datetime          import datetime\n",
    "from collections       import OrderedDict\n",
    "\n",
    "# SPARK\n",
    "from pyspark           import SparkConf\n",
    "from pyspark           import SparkContext\n",
    "from pyspark.sql       import SparkSession\n",
    "from pyspark.sql.types import *\n"
   ]
  },
  {
   "cell_type": "markdown",
   "metadata": {},
   "source": [
    "# 0) App configuration"
   ]
  },
  {
   "cell_type": "code",
   "execution_count": 4,
   "metadata": {},
   "outputs": [],
   "source": [
    "user         = \"romain\"\n",
    "current_date = datetime.now().strftime(\"%Y-%m-%d %H:%M\")\n",
    "master       = \"spark://193.70.43.207:7077\"\n",
    "appName      = \"%s le %s\"%(user, current_date)\n",
    "nb_cores     = 11"
   ]
  },
  {
   "cell_type": "markdown",
   "metadata": {},
   "source": [
    "# 1) creating new session"
   ]
  },
  {
   "cell_type": "code",
   "execution_count": 5,
   "metadata": {},
   "outputs": [],
   "source": [
    "spark, sc = get_new_session(master, appName, nb_cores)"
   ]
  },
  {
   "cell_type": "markdown",
   "metadata": {},
   "source": [
    "# 2) Reading hdfs into rdd"
   ]
  },
  {
   "cell_type": "code",
   "execution_count": 6,
   "metadata": {
    "collapsed": true
   },
   "outputs": [],
   "source": [
    "hdfs_master = \"hdfs://193.70.43.207:8020\"\n",
    "hdfs_path   = \"/logs/cycliste_debug/2017/2017_02/2017_02_20/23h/23h20/*\"\n",
    "hdfs_path   = \"/logs/cycliste_debug/2017/2017_02/2017_02_20/23h/23h18\"\n",
    "hdfs_path   = \"/logs/trajets/2017/2017_03/2017_03_11/23h/23h0*/*\"\n",
    "target_path = hdfs_master+hdfs_path"
   ]
  },
  {
   "cell_type": "code",
   "execution_count": 7,
   "metadata": {
    "collapsed": true
   },
   "outputs": [],
   "source": [
    "rdd = sc.textFile(target_path)"
   ]
  },
  {
   "cell_type": "code",
   "execution_count": 8,
   "metadata": {},
   "outputs": [
    {
     "data": {
      "text/plain": [
       "[u'aetpv,cycliste_azpfl,velo_azkn6_1489256539.78,1489269871.77,1489269872.95,1.17296504974,5.0,aekw6']"
      ]
     },
     "execution_count": 8,
     "metadata": {},
     "output_type": "execute_result"
    }
   ],
   "source": [
    "rdd.take(1)"
   ]
  },
  {
   "cell_type": "code",
   "execution_count": 9,
   "metadata": {},
   "outputs": [
    {
     "name": "stdout",
     "output_type": "stream",
     "text": [
      "duree pour rdd.count() = 17.5896041393 pour 184846 lignes \n"
     ]
    }
   ],
   "source": [
    "debut = time()\n",
    "nb_de_ligne = rdd.count()\n",
    "duree = time() - debut\n",
    "print \"duree pour rdd.count() = %s pour %s lignes \"%(duree, nb_de_ligne)"
   ]
  },
  {
   "cell_type": "markdown",
   "metadata": {},
   "source": [
    "# 2.1) Spark monte en mémoire les informations déjà calculées"
   ]
  },
  {
   "cell_type": "code",
   "execution_count": 10,
   "metadata": {},
   "outputs": [
    {
     "name": "stdout",
     "output_type": "stream",
     "text": [
      "duree pour rdd.count() = 11.8767199516 pour 184846 lignes \n"
     ]
    }
   ],
   "source": [
    "debut = time()\n",
    "nb_de_ligne = rdd.count()\n",
    "duree = time() - debut\n",
    "print \"duree pour rdd.count() = %s pour %s lignes \"%(duree, nb_de_ligne)"
   ]
  },
  {
   "cell_type": "markdown",
   "metadata": {},
   "source": [
    "# 2.2) on peut aussi forcer la mise en mémoire => [fonction 'cache' ] "
   ]
  },
  {
   "cell_type": "code",
   "execution_count": 33,
   "metadata": {},
   "outputs": [
    {
     "name": "stdout",
     "output_type": "stream",
     "text": [
      "on cache la rdd\n"
     ]
    },
    {
     "data": {
      "text/plain": [
       "hdfs://193.70.43.207:8020/logs/trajets/2017/2017_03/2017_03_11/23h/23h0*/* MapPartitionsRDD[1] at textFile at NativeMethodAccessorImpl.java:-2"
      ]
     },
     "execution_count": 33,
     "metadata": {},
     "output_type": "execute_result"
    }
   ],
   "source": [
    "print \"on cache la rdd\"\n",
    "rdd.cache()"
   ]
  },
  {
   "cell_type": "code",
   "execution_count": 34,
   "metadata": {},
   "outputs": [
    {
     "name": "stdout",
     "output_type": "stream",
     "text": [
      "duree pour rdd.count() = 8.68542218208 pour 184846 lignes \n"
     ]
    }
   ],
   "source": [
    "debut = time()\n",
    "nb_de_ligne = rdd.count()\n",
    "duree = time() - debut\n",
    "print \"duree pour rdd.count() = %s pour %s lignes \"%(duree, nb_de_ligne)"
   ]
  },
  {
   "cell_type": "markdown",
   "metadata": {},
   "source": [
    "# 2.3) testing performance by number of cores"
   ]
  },
  {
   "cell_type": "code",
   "execution_count": 35,
   "metadata": {
    "collapsed": true
   },
   "outputs": [],
   "source": [
    "if False:\n",
    "    perfs = {}"
   ]
  },
  {
   "cell_type": "code",
   "execution_count": 36,
   "metadata": {},
   "outputs": [],
   "source": [
    "if False:\n",
    "    for nb_cores in range(3,20):\n",
    "        spark, sc = get_new_session(master, appName, nb_cores)\n",
    "        debut     = time()\n",
    "        rdd     = sc.textFile(target_path)\n",
    "        rdd.count()\n",
    "        duree     = time() - debut\n",
    "        perfs[nb_cores] = duree\n",
    "        print nb_cores, \"%.1f sec\"%duree\n"
   ]
  },
  {
   "cell_type": "markdown",
   "metadata": {},
   "source": [
    "# 3) Creating a DataFrame"
   ]
  },
  {
   "cell_type": "code",
   "execution_count": 37,
   "metadata": {},
   "outputs": [
    {
     "data": {
      "text/plain": [
       "'hdfs://193.70.43.207:8020/logs/trajets/2017/2017_03/2017_03_11/23h/23h0*/*'"
      ]
     },
     "execution_count": 37,
     "metadata": {},
     "output_type": "execute_result"
    }
   ],
   "source": [
    "target_path"
   ]
  },
  {
   "cell_type": "code",
   "execution_count": 38,
   "metadata": {},
   "outputs": [],
   "source": [
    "df = spark.read.option(\"header\", True).csv(target_path)"
   ]
  },
  {
   "cell_type": "code",
   "execution_count": 39,
   "metadata": {},
   "outputs": [
    {
     "data": {
      "text/plain": [
       "[Row(aetpv=u'aexv8', cycliste_azpfl=u'cycliste_azqh3', velo_azkn6_1489256539.78=u'velo_aeuln_1489256540.14', 1489269871.77=u'1489269871.77', 1489269872.95=u'1489269872.95', 1.17296504974=u'1.17120194435', 5.0=u'3.0', aekw6=u'azqm6')]"
      ]
     },
     "execution_count": 39,
     "metadata": {},
     "output_type": "execute_result"
    }
   ],
   "source": [
    "df.take(1)"
   ]
  },
  {
   "cell_type": "code",
   "execution_count": 40,
   "metadata": {},
   "outputs": [
    {
     "name": "stdout",
     "output_type": "stream",
     "text": [
      "duree du count = 3.14616799355 pour 184797 lignes\n"
     ]
    }
   ],
   "source": [
    "debut = time()\n",
    "nb_row = df.count()\n",
    "duree = time() - debut\n",
    "print \"duree du count = %s pour %s lignes\"%(duree, nb_row)"
   ]
  },
  {
   "cell_type": "markdown",
   "metadata": {},
   "source": [
    "# 3.1) Préciser le schéma"
   ]
  },
  {
   "cell_type": "markdown",
   "metadata": {},
   "source": [
    "creation du schema"
   ]
  },
  {
   "cell_type": "code",
   "execution_count": 41,
   "metadata": {},
   "outputs": [],
   "source": [
    "champs = OrderedDict([(\"station_depart\"     , StringType() ) ,\n",
    "                      (\"cycliste\"           , StringType() ) ,\n",
    "                      (\"velo\"               , StringType() ) ,\n",
    "                      (\"heure_de_depart\"    , FloatType()  ) ,\n",
    "                      (\"heure_de_fin\"       , FloatType()  ) ,\n",
    "                      (\"duree\"              , FloatType()  ) ,\n",
    "                      (\"distance\"           , FloatType()  ) ,\n",
    "                      (\"station_arrivee\"    , StringType() ) ])"
   ]
  },
  {
   "cell_type": "code",
   "execution_count": 42,
   "metadata": {},
   "outputs": [],
   "source": [
    "fields = [StructField(champ, _type, nullable = True) for champ, _type in champs.iteritems()]"
   ]
  },
  {
   "cell_type": "code",
   "execution_count": 43,
   "metadata": {
    "collapsed": true
   },
   "outputs": [],
   "source": [
    "schema = StructType(fields)"
   ]
  },
  {
   "cell_type": "markdown",
   "metadata": {},
   "source": [
    "Application à la lecture du fichier :"
   ]
  },
  {
   "cell_type": "code",
   "execution_count": 44,
   "metadata": {
    "collapsed": true
   },
   "outputs": [],
   "source": [
    "df_avec_schema = spark.read.schema(schema).csv(target_path)"
   ]
  },
  {
   "cell_type": "code",
   "execution_count": 45,
   "metadata": {},
   "outputs": [
    {
     "name": "stdout",
     "output_type": "stream",
     "text": [
      "+--------------+--------------+--------------------+---------------+------------+--------+--------+---------------+\n",
      "|station_depart|      cycliste|                velo|heure_de_depart|heure_de_fin|   duree|distance|station_arrivee|\n",
      "+--------------+--------------+--------------------+---------------+------------+--------+--------+---------------+\n",
      "|         aetpv|cycliste_azpfl|velo_azkn6_148925...|   1.48926989E9|1.48926989E9|1.172965|     5.0|          aekw6|\n",
      "+--------------+--------------+--------------------+---------------+------------+--------+--------+---------------+\n",
      "only showing top 1 row\n",
      "\n"
     ]
    }
   ],
   "source": [
    "df_avec_schema.show(1)"
   ]
  },
  {
   "cell_type": "code",
   "execution_count": 46,
   "metadata": {},
   "outputs": [
    {
     "data": {
      "text/plain": [
       "184846"
      ]
     },
     "execution_count": 46,
     "metadata": {},
     "output_type": "execute_result"
    }
   ],
   "source": [
    "df_avec_schema.count()"
   ]
  },
  {
   "cell_type": "code",
   "execution_count": 47,
   "metadata": {},
   "outputs": [
    {
     "data": {
      "text/plain": [
       "126718"
      ]
     },
     "execution_count": 47,
     "metadata": {},
     "output_type": "execute_result"
    }
   ],
   "source": [
    "df_avec_schema.distinct().count()"
   ]
  },
  {
   "cell_type": "code",
   "execution_count": 48,
   "metadata": {},
   "outputs": [
    {
     "data": {
      "text/plain": [
       "[Row(heure_de_depart=1489269888.0),\n",
       " Row(heure_de_depart=1489270144.0),\n",
       " Row(heure_de_depart=1489270016.0)]"
      ]
     },
     "execution_count": 48,
     "metadata": {},
     "output_type": "execute_result"
    }
   ],
   "source": [
    "df_avec_schema.select(\"heure_de_depart\").distinct().collect()"
   ]
  },
  {
   "cell_type": "code",
   "execution_count": 49,
   "metadata": {},
   "outputs": [
    {
     "data": {
      "text/plain": [
       "107814"
      ]
     },
     "execution_count": 49,
     "metadata": {},
     "output_type": "execute_result"
    }
   ],
   "source": [
    "df_avec_schema.select(\"duree\").distinct().count()"
   ]
  },
  {
   "cell_type": "code",
   "execution_count": 50,
   "metadata": {},
   "outputs": [
    {
     "data": {
      "text/plain": [
       "[Row(heure_de_fin=1489269888.0),\n",
       " Row(heure_de_fin=1489270144.0),\n",
       " Row(heure_de_fin=1489270016.0)]"
      ]
     },
     "execution_count": 50,
     "metadata": {},
     "output_type": "execute_result"
    }
   ],
   "source": [
    "df_avec_schema.select(\"heure_de_fin\").distinct().collect()"
   ]
  },
  {
   "cell_type": "markdown",
   "metadata": {},
   "source": [
    "# 3.2) Avec une df on peut sélectionner les colonnes par leur nom"
   ]
  },
  {
   "cell_type": "code",
   "execution_count": 51,
   "metadata": {},
   "outputs": [
    {
     "data": {
      "text/plain": [
       "[Row(cycliste=u'cycliste_azpfl'),\n",
       " Row(cycliste=u'cycliste_azqh3'),\n",
       " Row(cycliste=u'cycliste_azejx'),\n",
       " Row(cycliste=u'cycliste_azqw7'),\n",
       " Row(cycliste=u'cycliste_azys2'),\n",
       " Row(cycliste=u'cycliste_azrb8'),\n",
       " Row(cycliste=u'cycliste_azt48'),\n",
       " Row(cycliste=u'cycliste_aztn6'),\n",
       " Row(cycliste=u'cycliste_azio1'),\n",
       " Row(cycliste=u'cycliste_aztom')]"
      ]
     },
     "execution_count": 51,
     "metadata": {},
     "output_type": "execute_result"
    }
   ],
   "source": [
    "df_avec_schema.select(\"cycliste\").take(10)"
   ]
  },
  {
   "cell_type": "code",
   "execution_count": 52,
   "metadata": {
    "collapsed": true
   },
   "outputs": [],
   "source": [
    "df_cyclistes = df_avec_schema.select(\"cycliste\")"
   ]
  },
  {
   "cell_type": "markdown",
   "metadata": {},
   "source": [
    "# 3.3) les dataframe sont plus rapides que les rdd"
   ]
  },
  {
   "cell_type": "code",
   "execution_count": 53,
   "metadata": {},
   "outputs": [
    {
     "name": "stdout",
     "output_type": "stream",
     "text": [
      "duree du count = 1.51 sec pour 184846 lignes\n"
     ]
    }
   ],
   "source": [
    "debut  = time()\n",
    "nb_row = df_avec_schema.count()\n",
    "duree  = time() - debut\n",
    "print \"duree du count = %.2f sec pour %s lignes\"%(duree, nb_row)"
   ]
  },
  {
   "cell_type": "code",
   "execution_count": 54,
   "metadata": {},
   "outputs": [
    {
     "ename": "NameError",
     "evalue": "name 'cached_df' is not defined",
     "output_type": "error",
     "traceback": [
      "\u001b[1;31m---------------------------------------------------------------------------\u001b[0m",
      "\u001b[1;31mNameError\u001b[0m                                 Traceback (most recent call last)",
      "\u001b[1;32m<ipython-input-54-937f91bb4b1a>\u001b[0m in \u001b[0;36m<module>\u001b[1;34m()\u001b[0m\n\u001b[0;32m      1\u001b[0m \u001b[1;31m# pour optimiser son code, il faut penser en terme de partitions, de filtres, etc...\u001b[0m\u001b[1;33m\u001b[0m\u001b[1;33m\u001b[0m\u001b[0m\n\u001b[1;32m----> 2\u001b[1;33m \u001b[0mcached_df\u001b[0m\u001b[1;33m.\u001b[0m\u001b[0mexplain\u001b[0m\u001b[1;33m(\u001b[0m\u001b[1;33m)\u001b[0m\u001b[1;33m\u001b[0m\u001b[0m\n\u001b[0m",
      "\u001b[1;31mNameError\u001b[0m: name 'cached_df' is not defined"
     ]
    }
   ],
   "source": [
    "# pour optimiser son code, il faut penser en terme de partitions, de filtres, etc...\n",
    "cached_df.explain()"
   ]
  },
  {
   "cell_type": "markdown",
   "metadata": {},
   "source": [
    "# 3.3) Group BY"
   ]
  },
  {
   "cell_type": "markdown",
   "metadata": {},
   "source": [
    "3.3.1) somme des distances par cycliste"
   ]
  },
  {
   "cell_type": "code",
   "execution_count": null,
   "metadata": {},
   "outputs": [],
   "source": [
    "debut = time()\n",
    "test = df_avec_schema.groupBy(\"cycliste\").sum(\"distance\")\n",
    "test.take(2)\n",
    "duree = time() -debut\n",
    "print duree"
   ]
  },
  {
   "cell_type": "code",
   "execution_count": null,
   "metadata": {},
   "outputs": [],
   "source": [
    "debut = time()\n",
    "test.take(2)\n",
    "duree = time() -debut\n",
    "print duree"
   ]
  },
  {
   "cell_type": "code",
   "execution_count": null,
   "metadata": {},
   "outputs": [],
   "source": [
    "test.cache()"
   ]
  },
  {
   "cell_type": "code",
   "execution_count": null,
   "metadata": {},
   "outputs": [],
   "source": [
    "debut = time()\n",
    "test.take(2)\n",
    "duree = time() -debut\n",
    "print duree"
   ]
  },
  {
   "cell_type": "markdown",
   "metadata": {},
   "source": [
    "3.3.1) somme triée"
   ]
  },
  {
   "cell_type": "code",
   "execution_count": null,
   "metadata": {},
   "outputs": [],
   "source": [
    "debut = time()\n",
    "df_avec_schema.groupBy(\"cycliste\").sum(\"distance\").sort(\"sum(distance)\",ascending=False).take(2)\n",
    "duree = time() - debut\n",
    "print duree"
   ]
  },
  {
   "cell_type": "code",
   "execution_count": null,
   "metadata": {},
   "outputs": [],
   "source": [
    "debut = time()\n",
    "test.sort(\"sum(distance)\",ascending=False).take(2)\n",
    "duree = time() - debut\n",
    "print duree"
   ]
  },
  {
   "cell_type": "code",
   "execution_count": null,
   "metadata": {},
   "outputs": [],
   "source": [
    "# moyenne\n",
    "df_avec_schema.groupBy(\"cycliste\").avg(\"distance\").take(5)"
   ]
  },
  {
   "cell_type": "code",
   "execution_count": null,
   "metadata": {
    "scrolled": true
   },
   "outputs": [],
   "source": [
    "# count\n",
    "df_avec_schema.groupBy(\"cycliste\").count().take(5)"
   ]
  },
  {
   "cell_type": "markdown",
   "metadata": {},
   "source": [
    "3.3.2) appel de fonctions simili-sql "
   ]
  },
  {
   "cell_type": "code",
   "execution_count": null,
   "metadata": {
    "collapsed": true
   },
   "outputs": [],
   "source": [
    "# desc = tri descendant\n",
    "from pyspark.sql.functions import desc"
   ]
  },
  {
   "cell_type": "code",
   "execution_count": null,
   "metadata": {},
   "outputs": [],
   "source": [
    "df_avec_schema.groupBy(\"cycliste\").sum(\"distance\").sort(desc(\"sum(distance)\")).take(2)"
   ]
  },
  {
   "cell_type": "code",
   "execution_count": null,
   "metadata": {
    "collapsed": true
   },
   "outputs": [],
   "source": [
    "# asc = tri ascendant\n",
    "from pyspark.sql.functions import asc"
   ]
  },
  {
   "cell_type": "code",
   "execution_count": null,
   "metadata": {},
   "outputs": [],
   "source": [
    "df_avec_schema.groupBy(\"cycliste\").sum(\"distance\").sort(asc(\"sum(distance)\")).take(2)"
   ]
  },
  {
   "cell_type": "markdown",
   "metadata": {},
   "source": [
    "3.3.3) mis en cache"
   ]
  },
  {
   "cell_type": "code",
   "execution_count": null,
   "metadata": {
    "collapsed": true
   },
   "outputs": [],
   "source": [
    "# still a lazy operation !\n",
    "cahed_df = df_avec_schema.groupBy(\"cycliste\").sum(\"distance\").cache()"
   ]
  },
  {
   "cell_type": "code",
   "execution_count": null,
   "metadata": {},
   "outputs": [],
   "source": [
    "cahed_df.take(13)"
   ]
  },
  {
   "cell_type": "code",
   "execution_count": 55,
   "metadata": {},
   "outputs": [],
   "source": [
    "cached_df_2 = df_avec_schema.cache()"
   ]
  },
  {
   "cell_type": "code",
   "execution_count": 56,
   "metadata": {},
   "outputs": [
    {
     "name": "stdout",
     "output_type": "stream",
     "text": [
      "+--------------+--------------+--------------------+---------------+------------+--------+--------+---------------+\n",
      "|station_depart|      cycliste|                velo|heure_de_depart|heure_de_fin|   duree|distance|station_arrivee|\n",
      "+--------------+--------------+--------------------+---------------+------------+--------+--------+---------------+\n",
      "|         aetpv|cycliste_azpfl|velo_azkn6_148925...|   1.48926989E9|1.48926989E9|1.172965|     5.0|          aekw6|\n",
      "|         aexv8|cycliste_azqh3|velo_aeuln_148925...|   1.48926989E9|1.48926989E9|1.171202|     3.0|          azqm6|\n",
      "+--------------+--------------+--------------------+---------------+------------+--------+--------+---------------+\n",
      "only showing top 2 rows\n",
      "\n"
     ]
    }
   ],
   "source": [
    "cached_df_2.show(2)"
   ]
  },
  {
   "cell_type": "code",
   "execution_count": null,
   "metadata": {},
   "outputs": [],
   "source": [
    "# double group\n",
    "cached_df_2.groupBy([\"cycliste\", \"station_depart\"]).avg(\"distance\").sort(\"cycliste\").take(5)"
   ]
  },
  {
   "cell_type": "code",
   "execution_count": null,
   "metadata": {},
   "outputs": [],
   "source": [
    "# enchainement de 5 transformation : groupby + count + sort + filter + select\n",
    "groupBy   = [\"cycliste\", \"station_depart\"]\n",
    "sortBy    = \"cycliste\"\n",
    "filterBy  = 'cycliste == \"cycliste_aze12\"'\n",
    "select    = [\"station_depart\", \"count\"]\n",
    "cached_df_2.groupBy(groupBy).count().sort(sortBy).filter(filterBy).select(select).collect()"
   ]
  },
  {
   "cell_type": "markdown",
   "metadata": {},
   "source": [
    "# Attention au Nommage de variables !"
   ]
  },
  {
   "cell_type": "code",
   "execution_count": 57,
   "metadata": {},
   "outputs": [],
   "source": [
    "trajets = cached_df_2"
   ]
  },
  {
   "cell_type": "code",
   "execution_count": 58,
   "metadata": {},
   "outputs": [
    {
     "name": "stdout",
     "output_type": "stream",
     "text": [
      "+--------------+--------------+--------------------+---------------+------------+--------+--------+---------------+\n",
      "|station_depart|      cycliste|                velo|heure_de_depart|heure_de_fin|   duree|distance|station_arrivee|\n",
      "+--------------+--------------+--------------------+---------------+------------+--------+--------+---------------+\n",
      "|         aetpv|cycliste_azpfl|velo_azkn6_148925...|   1.48926989E9|1.48926989E9|1.172965|     5.0|          aekw6|\n",
      "+--------------+--------------+--------------------+---------------+------------+--------+--------+---------------+\n",
      "only showing top 1 row\n",
      "\n"
     ]
    }
   ],
   "source": [
    "trajets.show(1)"
   ]
  },
  {
   "cell_type": "markdown",
   "metadata": {},
   "source": [
    "# Nombre de trajets entre deux stations"
   ]
  },
  {
   "cell_type": "code",
   "execution_count": null,
   "metadata": {},
   "outputs": [],
   "source": [
    "trajets.groupBy([\"station_depart\", \"station_arrivee\"]).count().orderBy(\"station_depart\").take(2)"
   ]
  },
  {
   "cell_type": "markdown",
   "metadata": {},
   "source": [
    "# 3.5) filtrer"
   ]
  },
  {
   "cell_type": "code",
   "execution_count": null,
   "metadata": {},
   "outputs": [],
   "source": [
    "trajets.filter(\"distance > 3\").count()"
   ]
  },
  {
   "cell_type": "code",
   "execution_count": null,
   "metadata": {},
   "outputs": [],
   "source": [
    "trajets.groupby(\"cycliste\").sum(\"distance\").filter(\"70 < sum(distance) and sum(distance) <100\").count()"
   ]
  },
  {
   "cell_type": "markdown",
   "metadata": {},
   "source": [
    "# 3.6) Cycliste ayant fait la plus petite distance"
   ]
  },
  {
   "cell_type": "code",
   "execution_count": 59,
   "metadata": {},
   "outputs": [],
   "source": [
    "from pyspark.sql import functions as F"
   ]
  },
  {
   "cell_type": "code",
   "execution_count": 60,
   "metadata": {},
   "outputs": [],
   "source": [
    "distance_par_cycliste = trajets.groupby(\"cycliste\").sum(\"distance\")"
   ]
  },
  {
   "cell_type": "code",
   "execution_count": null,
   "metadata": {},
   "outputs": [],
   "source": [
    "distance_par_cycliste.take(2)"
   ]
  },
  {
   "cell_type": "code",
   "execution_count": 61,
   "metadata": {},
   "outputs": [],
   "source": [
    "distance_minimale = distance_par_cycliste.select(F.min(\"sum(distance)\")).collect()"
   ]
  },
  {
   "cell_type": "code",
   "execution_count": null,
   "metadata": {},
   "outputs": [],
   "source": [
    "row = distance_minimale\n",
    "value = row[0][0]\n",
    "value"
   ]
  },
  {
   "cell_type": "code",
   "execution_count": null,
   "metadata": {},
   "outputs": [],
   "source": [
    "filtre = \"sum(distance) <= %.14f\"%(value)\n",
    "filtre"
   ]
  },
  {
   "cell_type": "code",
   "execution_count": null,
   "metadata": {},
   "outputs": [],
   "source": [
    "distance_par_cycliste.filter(filtre).select(\"cycliste\").collect()[0][0]"
   ]
  },
  {
   "cell_type": "markdown",
   "metadata": {},
   "source": [
    "# 4) Création de colonnes"
   ]
  },
  {
   "cell_type": "code",
   "execution_count": 62,
   "metadata": {},
   "outputs": [],
   "source": [
    "plus_grande_distance = distance_par_cycliste.select(F.max(\"sum(distance)\")).collect() [0][0]"
   ]
  },
  {
   "cell_type": "markdown",
   "metadata": {},
   "source": [
    "# 4.1) on se sert de la fonction 'lit' pour créer une colonne avec un chiffre fixe"
   ]
  },
  {
   "cell_type": "code",
   "execution_count": 63,
   "metadata": {},
   "outputs": [],
   "source": [
    "nouvelle_colonne        = F.lit(plus_grande_distance)\n",
    "nouveau_nom             = \"distance_max\"\n",
    "distance_par_cycliste_2 = distance_par_cycliste.withColumn(nouveau_nom, nouvelle_colonne)"
   ]
  },
  {
   "cell_type": "markdown",
   "metadata": {},
   "source": [
    "# 4.2) on peut renommer une colonne"
   ]
  },
  {
   "cell_type": "code",
   "execution_count": 64,
   "metadata": {
    "collapsed": true
   },
   "outputs": [],
   "source": [
    "ancien_nom              = \"sum(distance)\"\n",
    "nouveau_nom             = \"distance_parcourue\"\n",
    "distance_par_cycliste_3 = distance_par_cycliste_2.withColumnRenamed(ancien_nom, nouveau_nom)"
   ]
  },
  {
   "cell_type": "markdown",
   "metadata": {},
   "source": [
    "# 4.3) on peut faire un calcul entre deux colonnes de la même df"
   ]
  },
  {
   "cell_type": "code",
   "execution_count": 65,
   "metadata": {},
   "outputs": [],
   "source": [
    "nouvelle_colonne        = distance_par_cycliste_3.distance_parcourue / distance_par_cycliste_3.distance_max\n",
    "nouveau_nom             = \"pct_de_la_distance_max\"\n",
    "distance_par_cycliste_4 = distance_par_cycliste_3.withColumn(nouveau_nom, nouvelle_colonne)"
   ]
  },
  {
   "cell_type": "code",
   "execution_count": null,
   "metadata": {},
   "outputs": [],
   "source": [
    "distance_par_cycliste_4.show(3)"
   ]
  },
  {
   "cell_type": "markdown",
   "metadata": {},
   "source": [
    "# 5) Bucketizer"
   ]
  },
  {
   "cell_type": "code",
   "execution_count": 66,
   "metadata": {},
   "outputs": [],
   "source": [
    "import numpy as np\n",
    "splits = np.arange(0,1.5,0.05)"
   ]
  },
  {
   "cell_type": "code",
   "execution_count": 67,
   "metadata": {},
   "outputs": [
    {
     "data": {
      "text/plain": [
       "array([ 0.  ,  0.05,  0.1 ,  0.15,  0.2 ,  0.25,  0.3 ,  0.35,  0.4 ,\n",
       "        0.45,  0.5 ,  0.55,  0.6 ,  0.65,  0.7 ,  0.75,  0.8 ,  0.85,\n",
       "        0.9 ,  0.95,  1.  ,  1.05,  1.1 ,  1.15,  1.2 ,  1.25,  1.3 ,\n",
       "        1.35,  1.4 ,  1.45])"
      ]
     },
     "execution_count": 67,
     "metadata": {},
     "output_type": "execute_result"
    }
   ],
   "source": [
    "splits"
   ]
  },
  {
   "cell_type": "code",
   "execution_count": 68,
   "metadata": {},
   "outputs": [],
   "source": [
    "from pyspark.ml.feature import Bucketizer\n",
    "\n",
    "bucketizer = Bucketizer(splits    = splits                  , \n",
    "                        inputCol  = \"pct_de_la_distance_max\", \n",
    "                        outputCol = \"bucketed_distance\"     )"
   ]
  },
  {
   "cell_type": "code",
   "execution_count": 69,
   "metadata": {},
   "outputs": [
    {
     "name": "stdout",
     "output_type": "stream",
     "text": [
      "+--------------+------------------+-------------+----------------------+-----------------+\n",
      "|      cycliste|distance_parcourue| distance_max|pct_de_la_distance_max|bucketed_distance|\n",
      "+--------------+------------------+-------------+----------------------+-----------------+\n",
      "|cycliste_azy78| 411.4287202358246|1007.73123837|    0.4082722699966197|              8.0|\n",
      "|cycliste_azpqc| 619.9140572547913|1007.73123837|    0.6151581231693274|             12.0|\n",
      "|cycliste_azem5| 540.1847624778748|1007.73123837|    0.5360405055534656|             10.0|\n",
      "|cycliste_azyof| 488.1261043548584|1007.73123837|     0.484381237545439|              9.0|\n",
      "|cycliste_azub0|280.58862829208374|1007.73123837|    0.2784359734108614|              5.0|\n",
      "|cycliste_azrp9| 463.3761112689972|1007.73123837|    0.4598211245475585|              9.0|\n",
      "|cycliste_azu45| 437.9169387817383|1007.73123837|    0.4345572729193814|              8.0|\n",
      "|cycliste_azr15| 680.8278245925903|1007.73123837|    0.6756045646593488|             13.0|\n",
      "|cycliste_azom1| 559.6656198501587|1007.73123837|    0.5553719072511981|             11.0|\n",
      "|cycliste_azyj6| 610.3213114738464|1007.73123837|     0.605638972213502|             12.0|\n",
      "|cycliste_azrw8| 438.8218449354172|1007.73123837|    0.4354552367010168|              8.0|\n",
      "|cycliste_azqx6| 213.2574417591095|1007.73123837|   0.21162134668371727|              4.0|\n",
      "|cycliste_azqhx|461.60421991348267|1007.73123837|    0.4580628270094366|              9.0|\n",
      "|cycliste_azusb| 347.3020176887512|1007.73123837|    0.3446375426949257|              6.0|\n",
      "|cycliste_azol8|451.32891726493835|1007.73123837|    0.4478663557110331|              8.0|\n",
      "|cycliste_azyp4|461.83645153045654|1007.73123837|     0.458293276962888|              9.0|\n",
      "|cycliste_azrg8|  858.662220954895|1007.73123837|    0.8520746288899178|             17.0|\n",
      "|cycliste_azuxc| 423.2681109905243|1007.73123837|   0.42002082983470695|              8.0|\n",
      "|cycliste_azys2| 448.4873013496399|1007.73123837|   0.44504654045960285|              8.0|\n",
      "|cycliste_azer1| 640.8286995887756|1007.73123837|    0.6359123099382259|             12.0|\n",
      "+--------------+------------------+-------------+----------------------+-----------------+\n",
      "only showing top 20 rows\n",
      "\n"
     ]
    }
   ],
   "source": [
    "bucketedData = bucketizer.transform(distance_par_cycliste_4)\n",
    "bucketedData.show()"
   ]
  },
  {
   "cell_type": "markdown",
   "metadata": {},
   "source": [
    "# 5.1) Histogramme par bucket"
   ]
  },
  {
   "cell_type": "code",
   "execution_count": 70,
   "metadata": {},
   "outputs": [
    {
     "data": {
      "text/plain": [
       "[Row(bucketed_distance=8.0, count=204), Row(bucketed_distance=7.0, count=174)]"
      ]
     },
     "execution_count": 70,
     "metadata": {},
     "output_type": "execute_result"
    }
   ],
   "source": [
    "bucketedData.groupBy(\"bucketed_distance\").count().take(2)"
   ]
  },
  {
   "cell_type": "markdown",
   "metadata": {},
   "source": [
    "# 5.2) Passage de Spark à Python"
   ]
  },
  {
   "cell_type": "code",
   "execution_count": 71,
   "metadata": {},
   "outputs": [],
   "source": [
    "nb_cycliste_par_pctage_parcouru = bucketedData.groupBy(\"bucketed_distance\").count().collect()"
   ]
  },
  {
   "cell_type": "code",
   "execution_count": 72,
   "metadata": {
    "collapsed": true
   },
   "outputs": [],
   "source": [
    "import pandas as pd\n",
    "%matplotlib inline"
   ]
  },
  {
   "cell_type": "code",
   "execution_count": 73,
   "metadata": {},
   "outputs": [
    {
     "name": "stderr",
     "output_type": "stream",
     "text": [
      "/opt/conda/envs/python2/lib/python2.7/site-packages/ipykernel/__main__.py:2: FutureWarning: sort(columns=....) is deprecated, use sort_values(by=.....)\n",
      "  from ipykernel import kernelapp as app\n"
     ]
    }
   ],
   "source": [
    "pd_df       = pd.DataFrame(nb_cycliste_par_pctage_parcouru,\n",
    "                           columns=[\"bucket\", \"count\"]).sort(\"bucket\")\n",
    "pd_df.index = pd_df.bucket * 5\n",
    "pd_df       = pd_df.drop(\"bucket\", axis=1)"
   ]
  },
  {
   "cell_type": "code",
   "execution_count": 74,
   "metadata": {},
   "outputs": [
    {
     "data": {
      "text/plain": [
       "<matplotlib.text.Text at 0x7f273042f4d0>"
      ]
     },
     "execution_count": 74,
     "metadata": {},
     "output_type": "execute_result"
    },
    {
     "data": {
      "image/png": "[encoded data removed]",
      "text/plain": [
       "<matplotlib.figure.Figure at 0x7f27406e2810>"
      ]
     },
     "metadata": {},
     "output_type": "display_data"
    }
   ],
   "source": [
    "# parametres\n",
    "title  = u\"Nombre de cycliste par % de km parcouru p/p au meilleur\"\n",
    "xlabel = u\"% du meilleur\"\n",
    "ylabel = u\"Nb de cycliste\"\n",
    "kind   = u\"bar\"\n",
    "# algo\n",
    "ax = pd_df.plot(kind=kind, title = title)\n",
    "ax.set_xlabel(xlabel)\n",
    "ax.set_ylabel(ylabel)"
   ]
  },
  {
   "cell_type": "markdown",
   "metadata": {},
   "source": [
    "# 6) Jointure"
   ]
  },
  {
   "cell_type": "markdown",
   "metadata": {},
   "source": [
    "# 6.1) construction d'une df à joindre"
   ]
  },
  {
   "cell_type": "code",
   "execution_count": 75,
   "metadata": {
    "collapsed": true
   },
   "outputs": [],
   "source": [
    "from pyspark.sql import Row"
   ]
  },
  {
   "cell_type": "code",
   "execution_count": 76,
   "metadata": {
    "collapsed": true
   },
   "outputs": [],
   "source": [
    "path_cyclistes = \"/logs/cycliste_cyclistes.csv\"\n",
    "target_path    = hdfs_master+path_cyclistes"
   ]
  },
  {
   "cell_type": "code",
   "execution_count": 77,
   "metadata": {},
   "outputs": [
    {
     "name": "stdout",
     "output_type": "stream",
     "text": [
      "[u'cycliste', u'sportif', u'age', u'sexe', u'nb_km', u'vitesse', u'attente']\n",
      "[u'cycliste_azto8', u'4', u'61', u'homme', u'-2.90410082593', u'13.698933073', u'0.5']\n"
     ]
    }
   ],
   "source": [
    "rdd = sc.textFile(target_path).map(lambda ligne : ligne.split(\",\"))\n",
    "for i in rdd.take(2):\n",
    "    print i"
   ]
  },
  {
   "cell_type": "code",
   "execution_count": 78,
   "metadata": {},
   "outputs": [],
   "source": [
    "header = rdd.first() #extract header\n",
    "rdd    = rdd.filter(lambda row : row != header)"
   ]
  },
  {
   "cell_type": "code",
   "execution_count": 79,
   "metadata": {},
   "outputs": [],
   "source": [
    "rdd    = rdd.map(lambda p: Row( cycliste =       p[0]  , \n",
    "                                sportif  = float(p[1])  , \n",
    "                                age      = float(p[2]) , \n",
    "                                sexe     =       p[3] , \n",
    "                                nb_km    = float(p[4]) , \n",
    "                                vitesse  = float(p[5]) , \n",
    "                                attente  = float(p[6]) ))\n"
   ]
  },
  {
   "cell_type": "code",
   "execution_count": 80,
   "metadata": {
    "collapsed": true
   },
   "outputs": [],
   "source": [
    "champs = OrderedDict([(\"cycliste\"     , StringType() ) ,\n",
    "                      (\"sportif\"      , FloatType()  ) ,\n",
    "                      (\"age\"          , FloatType()  ) ,\n",
    "                      (\"sexe\"         , StringType() ) ,\n",
    "                      (\"nb_km\"        , FloatType()  ) ,\n",
    "                      (\"vitesse\"      , FloatType()  ) ,\n",
    "                      (\"attente\"      , FloatType()  ) ])\n",
    "fields = [StructField(champ, _type, nullable = True) for champ, _type in champs.iteritems()]\n",
    "schema = StructType(fields)"
   ]
  },
  {
   "cell_type": "code",
   "execution_count": 81,
   "metadata": {},
   "outputs": [],
   "source": [
    "cyclistes = spark.createDataFrame(rdd, schema=schema)"
   ]
  },
  {
   "cell_type": "code",
   "execution_count": 82,
   "metadata": {},
   "outputs": [
    {
     "name": "stdout",
     "output_type": "stream",
     "text": [
      "+--------------+-------+----+-----+---------+---------+-------+\n",
      "|      cycliste|sportif| age| sexe|    nb_km|  vitesse|attente|\n",
      "+--------------+-------+----+-----+---------+---------+-------+\n",
      "|cycliste_azto8|    4.0|61.0|homme|-2.904101|13.698933|    0.5|\n",
      "|cycliste_azpd5|    2.0|76.0|homme| 9.953279|14.768991|    0.5|\n",
      "|cycliste_azujk|    4.0|28.0|femme| 16.74885|20.958332|    0.5|\n",
      "+--------------+-------+----+-----+---------+---------+-------+\n",
      "only showing top 3 rows\n",
      "\n"
     ]
    }
   ],
   "source": [
    "cyclistes.show(3)"
   ]
  },
  {
   "cell_type": "markdown",
   "metadata": {},
   "source": [
    "# 6.2) test des valeurs numériques du schéma"
   ]
  },
  {
   "cell_type": "code",
   "execution_count": 83,
   "metadata": {},
   "outputs": [
    {
     "name": "stdout",
     "output_type": "stream",
     "text": [
      "[Row(sum(sportif)=4326.0)]\n",
      "[Row(sum(age)=87088.0)]\n",
      "[Row(sum(nb_km)=15487.366467654705)]\n",
      "[Row(sum(vitesse)=34067.05584406853)]\n",
      "[Row(sum(attente)=927.5)]\n"
     ]
    }
   ],
   "source": [
    "colonnes = [\"sportif\", \"age\", \"nb_km\", \"vitesse\", \"attente\"]\n",
    "for col in colonnes : \n",
    "    print cyclistes.select(F.sum(col)).collect()"
   ]
  },
  {
   "cell_type": "markdown",
   "metadata": {},
   "source": [
    "# 6.3) vérification de la logique de jointure"
   ]
  },
  {
   "cell_type": "code",
   "execution_count": 84,
   "metadata": {},
   "outputs": [
    {
     "data": {
      "text/plain": [
       "1855"
      ]
     },
     "execution_count": 84,
     "metadata": {},
     "output_type": "execute_result"
    }
   ],
   "source": [
    "cyclistes.distinct().count()"
   ]
  },
  {
   "cell_type": "code",
   "execution_count": 85,
   "metadata": {},
   "outputs": [
    {
     "data": {
      "text/plain": [
       "1855"
      ]
     },
     "execution_count": 85,
     "metadata": {},
     "output_type": "execute_result"
    }
   ],
   "source": [
    "trajets.select(\"cycliste\").distinct().count()"
   ]
  },
  {
   "cell_type": "code",
   "execution_count": 86,
   "metadata": {},
   "outputs": [
    {
     "name": "stdout",
     "output_type": "stream",
     "text": [
      "184846\n"
     ]
    }
   ],
   "source": [
    "print trajets.count()"
   ]
  },
  {
   "cell_type": "code",
   "execution_count": 87,
   "metadata": {},
   "outputs": [],
   "source": [
    "extended_trajets = trajets.join(cyclistes, on=\"cycliste\")"
   ]
  },
  {
   "cell_type": "code",
   "execution_count": 88,
   "metadata": {},
   "outputs": [
    {
     "name": "stdout",
     "output_type": "stream",
     "text": [
      "184846\n"
     ]
    }
   ],
   "source": [
    "print extended_trajets.count()"
   ]
  },
  {
   "cell_type": "markdown",
   "metadata": {},
   "source": [
    "# 6.4) Chargeons 700 M de data"
   ]
  },
  {
   "cell_type": "code",
   "execution_count": 89,
   "metadata": {
    "collapsed": true
   },
   "outputs": [],
   "source": [
    "path_cyclistes   = \"/logs/trajets.csv\"\n",
    "target_path      = hdfs_master+path_cyclistes"
   ]
  },
  {
   "cell_type": "markdown",
   "metadata": {},
   "source": [
    "## 6.4.1) le csv contient une ligne de header, qu'on enlève à travers une rdd avant de la convertir en dataframe."
   ]
  },
  {
   "cell_type": "code",
   "execution_count": 90,
   "metadata": {
    "collapsed": true
   },
   "outputs": [],
   "source": [
    "rdd    = sc.textFile(target_path).map(lambda ligne : ligne.split(\",\"))\n",
    "header = rdd.first() \n",
    "rdd    = rdd.filter(lambda row : row != header)\n",
    "rdd    = rdd.map(lambda p: Row( station_depart  = p[0], \n",
    "                                cycliste        = p[1], \n",
    "                                velo            = p[2], \n",
    "                                heure_de_depart = float(p[3]), \n",
    "                                heure_de_fin    = float(p[4]), \n",
    "                                duree           = float(p[5]), \n",
    "                                distance        = float(p[6]), \n",
    "                                station_arrivee = p[7]))\n"
   ]
  },
  {
   "cell_type": "markdown",
   "metadata": {},
   "source": [
    "## 6.4.2 ) conversion en dataframe"
   ]
  },
  {
   "cell_type": "code",
   "execution_count": 91,
   "metadata": {
    "collapsed": true
   },
   "outputs": [],
   "source": [
    "champs = OrderedDict([(\"station_depart\"     , StringType() ) ,\n",
    "                      (\"cycliste\"           , StringType() ) ,\n",
    "                      (\"velo\"               , StringType() ) ,\n",
    "                      (\"heure_de_depart\"    , FloatType()  ) ,\n",
    "                      (\"heure_de_fin\"       , FloatType()  ) ,\n",
    "                      (\"duree\"              , FloatType()  ) ,\n",
    "                      (\"distance\"           , FloatType()  ) ,\n",
    "                      (\"station_arrivee\"    , StringType() ) ])\n",
    "\n",
    "fields = [StructField(champ, _type, nullable = True) for champ, _type in champs.iteritems()]\n",
    "schema = StructType(fields)\n",
    "\n",
    "trajets_700_Mo = spark.createDataFrame(rdd, schema)"
   ]
  },
  {
   "cell_type": "code",
   "execution_count": 92,
   "metadata": {
    "scrolled": true
   },
   "outputs": [
    {
     "name": "stdout",
     "output_type": "stream",
     "text": [
      "+--------------+--------------+--------------------+---------------+------------+---------+---------+---------------+\n",
      "|station_depart|      cycliste|                velo|heure_de_depart|heure_de_fin|    duree| distance|station_arrivee|\n",
      "+--------------+--------------+--------------------+---------------+------------+---------+---------+---------------+\n",
      "|         azd40|cycliste_azto8|velo_aruo1_148925...|   1.48925658E9|1.48925658E9| 4.325838| 7.071068|          aecb4|\n",
      "|         azew2|cycliste_azpd5|velo_aeiq9_148925...|   1.48925658E9|1.48925658E9| 4.317812|7.2111025|          azqn6|\n",
      "|         aejw4|cycliste_azujk|velo_azes8_148925...|   1.48925658E9|1.48925658E9|  4.31454| 9.219544|          azim1|\n",
      "|         aetl1|cycliste_azu15|velo_arudb_148925...|   1.48925658E9|1.48925658E9| 4.310658|1.4142135|          azrtp|\n",
      "|         aetdw|cycliste_azi24|velo_ars18_148925...|   1.48925658E9|1.48925658E9| 4.308077|3.6055512|          azew2|\n",
      "|         arygc|cycliste_aztpk|velo_aziqj_148925...|   1.48925658E9|1.48925658E9| 4.305049|4.2426405|          aetdw|\n",
      "|         aem17|cycliste_azerd|velo_aep27_148925...|   1.48925658E9|1.48925658E9| 4.302091|      6.0|          azesd|\n",
      "|         azim1|cycliste_azukw|velo_azod6_148925...|   1.48925658E9|1.48925658E9| 4.298524|      5.0|          aeov1|\n",
      "|         azqn6|cycliste_azo78|velo_azqw5_148925...|   1.48925658E9|1.48925658E9|   4.2957| 2.828427|          ariqb|\n",
      "|         aexv8|cycliste_azub9|velo_azin2_148925...|   1.48925658E9|1.48925658E9| 4.291315|4.2426405|          aztpl|\n",
      "|         aetpv|cycliste_aztxv|velo_arth7_148925...|   1.48925658E9|1.48925658E9| 4.287508|3.6055512|          azukm|\n",
      "|         aroj5|cycliste_azev3|velo_ae260_148925...|   1.48925658E9|1.48925658E9|4.2841487|3.6055512|          azrol|\n",
      "|         aepb8|cycliste_azicv|velo_azo14_148925...|   1.48925658E9|1.48925658E9| 4.281235|7.2111025|          azsk9|\n",
      "|         ariqb|cycliste_azik5|velo_ary19_148925...|   1.48925658E9|1.48925658E9| 4.277971|3.1622777|          aeym2|\n",
      "|         azsc4|cycliste_azpdm|velo_aropl_148925...|   1.48925658E9|1.48925658E9| 4.273912|      5.0|          az790|\n",
      "|         azd40|cycliste_azqd3|velo_aeuw0_148925...|   1.48925658E9|1.48925658E9|4.2720723|6.0827627|          arp24|\n",
      "|         azsc4|cycliste_azuv8|velo_aerfw_148925...|   1.48925658E9|1.48925658E9| 4.270278|      1.0|          azukm|\n",
      "|         aehxn|cycliste_azu50|velo_azod4_148925...|   1.48925658E9|1.48925658E9| 4.268422|      5.0|          aeym2|\n",
      "|         azesd|cycliste_azqn4|velo_argk8_148925...|   1.48925658E9|1.48925658E9|  4.26599| 9.899495|          aen57|\n",
      "|         azpgx|cycliste_azq36|velo_azw70_148925...|   1.48925658E9|1.48925658E9| 4.263158|5.8309517|          azqm6|\n",
      "+--------------+--------------+--------------------+---------------+------------+---------+---------+---------------+\n",
      "only showing top 20 rows\n",
      "\n"
     ]
    }
   ],
   "source": [
    "trajets_700_Mo.show()"
   ]
  },
  {
   "cell_type": "code",
   "execution_count": null,
   "metadata": {},
   "outputs": [],
   "source": [
    "trajets_700_Mo.count()"
   ]
  },
  {
   "cell_type": "code",
   "execution_count": 93,
   "metadata": {
    "collapsed": true
   },
   "outputs": [],
   "source": [
    "extended_trajets_700_Mo = trajets_700_Mo.join(cyclistes, on=\"cycliste\")"
   ]
  },
  {
   "cell_type": "code",
   "execution_count": null,
   "metadata": {},
   "outputs": [],
   "source": [
    "extended_trajets_700_Mo.distinct().count()"
   ]
  },
  {
   "cell_type": "code",
   "execution_count": null,
   "metadata": {},
   "outputs": [],
   "source": [
    "extended_trajets_700_Mo.show()"
   ]
  },
  {
   "cell_type": "markdown",
   "metadata": {},
   "source": [
    "# 7) faire du sql"
   ]
  },
  {
   "cell_type": "markdown",
   "metadata": {},
   "source": [
    "## 7.1) on enregistre la dataframe en tant que table sql"
   ]
  },
  {
   "cell_type": "code",
   "execution_count": 94,
   "metadata": {},
   "outputs": [],
   "source": [
    "extended_trajets_700_Mo.createOrReplaceTempView(\"trajets\")"
   ]
  },
  {
   "cell_type": "markdown",
   "metadata": {},
   "source": [
    "## 7.2) on utilise la spark session pour faire du SQL dessus"
   ]
  },
  {
   "cell_type": "code",
   "execution_count": 95,
   "metadata": {},
   "outputs": [
    {
     "data": {
      "text/plain": [
       "[Row(cycliste=u'cycliste_azem5', station_depart=u'azfk9', velo=u'velo_azeq6_1489256536.82', heure_de_depart=1489256576.0, heure_de_fin=1489256576.0, duree=0.00446319580078125, distance=0.0, station_arrivee=u'azfk9', sportif=4.0, age=75.0, sexe=u'homme', nb_km=10.611597061157227, vitesse=20.202173233032227, attente=0.5)]"
      ]
     },
     "execution_count": 95,
     "metadata": {},
     "output_type": "execute_result"
    }
   ],
   "source": [
    "requete =\"\"\"\n",
    "    select *\n",
    "    from   trajets\n",
    "    limit  1\n",
    "\"\"\"\n",
    "spark.sql(requete).collect()"
   ]
  },
  {
   "cell_type": "code",
   "execution_count": 96,
   "metadata": {},
   "outputs": [
    {
     "data": {
      "text/html": [
       "<style>.container { width:100% !important; }</style>"
      ],
      "text/plain": [
       "<IPython.core.display.HTML object>"
      ]
     },
     "metadata": {},
     "output_type": "display_data"
    }
   ],
   "source": [
    "from IPython.core.display import display, HTML\n",
    "display(HTML(\"<style>.container { width:100% !important; }</style>\"))"
   ]
  },
  {
   "cell_type": "code",
   "execution_count": 97,
   "metadata": {},
   "outputs": [
    {
     "name": "stdout",
     "output_type": "stream",
     "text": [
      "+--------------+--------------+--------------------+---------------+------------+---------+---------+---------------+-------+----+-----+---------+---------+-------+\n",
      "|      cycliste|station_depart|                velo|heure_de_depart|heure_de_fin|    duree| distance|station_arrivee|sportif| age| sexe|    nb_km|  vitesse|attente|\n",
      "+--------------+--------------+--------------------+---------------+------------+---------+---------+---------------+-------+----+-----+---------+---------+-------+\n",
      "|cycliste_azem5|         aefhv|velo_aryo8_148925...|   1.48925658E9|1.48925658E9| 1.397341|5.8309517|          aey79|    4.0|75.0|homme|10.611597|20.202173|    0.5|\n",
      "|cycliste_azem5|         aze46|velo_aerwc_148925...|   1.48925658E9|1.48925658E9|1.3242779|6.4031243|          arygc|    4.0|75.0|homme|10.611597|20.202173|    0.5|\n",
      "|cycliste_azem5|         ae134|velo_aze60_148925...|   1.48925658E9|1.48925658E9| 1.334538|5.8309517|          aecb4|    4.0|75.0|homme|10.611597|20.202173|    0.5|\n",
      "+--------------+--------------+--------------------+---------------+------------+---------+---------+---------------+-------+----+-----+---------+---------+-------+\n",
      "only showing top 3 rows\n",
      "\n"
     ]
    }
   ],
   "source": [
    "extended_trajets_700_Mo.show(3)"
   ]
  },
  {
   "cell_type": "markdown",
   "metadata": {},
   "source": [
    "# 8) Machine Learning : Prédiction de la sportivité (modalité [-0.5, 0, 2, 4, 6 ])"
   ]
  },
  {
   "cell_type": "markdown",
   "metadata": {},
   "source": [
    "## 8.1) préparation de la dataFrame"
   ]
  },
  {
   "cell_type": "markdown",
   "metadata": {},
   "source": [
    "Les RF ne fonctionnent qu'avec des nombres, on va donc commencer par se limiter aux colonnes qui sont des nombres"
   ]
  },
  {
   "cell_type": "code",
   "execution_count": 151,
   "metadata": {},
   "outputs": [],
   "source": [
    "type_voulu         = \"float\"\n",
    "colonnes_acceptees = [(colonne, type_) for colonne, type_ in extended_trajets_700_Mo.dtypes if type_ == type_voulu]"
   ]
  },
  {
   "cell_type": "code",
   "execution_count": 152,
   "metadata": {},
   "outputs": [],
   "source": [
    "colonne_a_predire = \"sportif\"\n",
    "colonne_d_entree  = [ colonne for colonne, type_ in colonnes_acceptees if colonne !=colonne_a_predire]"
   ]
  },
  {
   "cell_type": "markdown",
   "metadata": {},
   "source": [
    "on doit créer colonne, avec toutes les données \"features\" utiles dedans : un vecteur"
   ]
  },
  {
   "cell_type": "code",
   "execution_count": 153,
   "metadata": {
    "collapsed": true
   },
   "outputs": [],
   "source": [
    "from pyspark.ml.feature import VectorAssembler"
   ]
  },
  {
   "cell_type": "code",
   "execution_count": 154,
   "metadata": {
    "collapsed": true
   },
   "outputs": [],
   "source": [
    "assembler                             = VectorAssembler(inputCols = colonne_d_entree,\n",
    "                                                        outputCol = \"features\")\n",
    "trajets_avec_colonne_feature          = assembler.transform(extended_trajets_700_Mo)"
   ]
  },
  {
   "cell_type": "markdown",
   "metadata": {},
   "source": [
    "par défaut les algorithmes attendent une colonne \"features\" (qui est un vecteur) et une colonne \"label\" à prédire\n",
    "=> on renomme donc la colonne a prédire en \"label\""
   ]
  },
  {
   "cell_type": "code",
   "execution_count": 155,
   "metadata": {
    "collapsed": true
   },
   "outputs": [],
   "source": [
    "trajets_avec_colonne_feature_et_label = trajets_avec_colonne_feature.withColumnRenamed(colonne_a_predire, \"label\")"
   ]
  },
  {
   "cell_type": "code",
   "execution_count": 156,
   "metadata": {},
   "outputs": [
    {
     "data": {
      "text/plain": [
       "DataFrame[cycliste: string, station_depart: string, velo: string, heure_de_depart: float, heure_de_fin: float, duree: float, distance: float, station_arrivee: string, label: float, age: float, sexe: string, nb_km: float, vitesse: float, attente: float, features: vector]"
      ]
     },
     "execution_count": 156,
     "metadata": {},
     "output_type": "execute_result"
    }
   ],
   "source": [
    "trajets_avec_colonne_feature_et_label.cache()"
   ]
  },
  {
   "cell_type": "code",
   "execution_count": 203,
   "metadata": {},
   "outputs": [
    {
     "name": "stdout",
     "output_type": "stream",
     "text": [
      "+--------------+--------------+--------------------+---------------+------------+---------+---------+---------------+-----+----+-----+---------+---------+-------+--------------------+\n",
      "|      cycliste|station_depart|                velo|heure_de_depart|heure_de_fin|    duree| distance|station_arrivee|label| age| sexe|    nb_km|  vitesse|attente|            features|\n",
      "+--------------+--------------+--------------------+---------------+------------+---------+---------+---------------+-----+----+-----+---------+---------+-------+--------------------+\n",
      "|cycliste_azem5|         aetlb|velo_aefw3_148925...|    1.4892567E9| 1.4892567E9|1.3405218|5.3851647|          arygc|  4.0|75.0|homme|10.611597|20.202173|    0.5|[1.489256704E9,1....|\n",
      "|cycliste_azem5|         arygc|velo_arfv8_148925...|    1.4892567E9| 1.4892567E9| 1.471297| 4.472136|          azyn7|  4.0|75.0|homme|10.611597|20.202173|    0.5|[1.489256704E9,1....|\n",
      "+--------------+--------------+--------------------+---------------+------------+---------+---------+---------------+-----+----+-----+---------+---------+-------+--------------------+\n",
      "only showing top 2 rows\n",
      "\n"
     ]
    }
   ],
   "source": [
    "trajets_avec_colonne_feature_et_label.show(2)"
   ]
  },
  {
   "cell_type": "markdown",
   "metadata": {},
   "source": [
    "# 8.2) création d'un jeu de test et d'apprentissage"
   ]
  },
  {
   "cell_type": "code",
   "execution_count": 158,
   "metadata": {
    "collapsed": true
   },
   "outputs": [],
   "source": [
    "pourcentage_train = 80/float(100)\n",
    "pourcentage_test  = 1 - pourcentage_train\n",
    "splits            = trajets_avec_colonne_feature_et_label.randomSplit((pourcentage_train,pourcentage_test))"
   ]
  },
  {
   "cell_type": "code",
   "execution_count": 159,
   "metadata": {
    "collapsed": true
   },
   "outputs": [],
   "source": [
    "train = splits[0]\n",
    "test  = splits[1]"
   ]
  },
  {
   "cell_type": "markdown",
   "metadata": {},
   "source": [
    "# 8.3) modélisation avec un arbre de décision (en mode régression)"
   ]
  },
  {
   "cell_type": "code",
   "execution_count": 137,
   "metadata": {
    "collapsed": true
   },
   "outputs": [],
   "source": [
    "from pyspark.ml.regression import DecisionTreeRegressor "
   ]
  },
  {
   "cell_type": "code",
   "execution_count": 171,
   "metadata": {
    "collapsed": true
   },
   "outputs": [],
   "source": [
    "dt           = DecisionTreeRegressor()"
   ]
  },
  {
   "cell_type": "code",
   "execution_count": 172,
   "metadata": {},
   "outputs": [],
   "source": [
    "model        = dt.fit(train)"
   ]
  },
  {
   "cell_type": "code",
   "execution_count": 173,
   "metadata": {
    "collapsed": true
   },
   "outputs": [],
   "source": [
    "predictions  = model.transform(test).cache()"
   ]
  },
  {
   "cell_type": "code",
   "execution_count": 176,
   "metadata": {},
   "outputs": [],
   "source": [
    "modelisation = predictions.select([\"features\", \"label\", \"prediction\"]).cache()"
   ]
  },
  {
   "cell_type": "code",
   "execution_count": 177,
   "metadata": {},
   "outputs": [
    {
     "name": "stdout",
     "output_type": "stream",
     "text": [
      "+--------------------+-----+------------------+\n",
      "|            features|label|        prediction|\n",
      "+--------------------+-----+------------------+\n",
      "|[1.489277696E9,1....|  0.0|1.3879689390152914|\n",
      "|[1.489262336E9,1....|  4.0|3.1150283411302233|\n",
      "|[1.489266304E9,1....|  0.0|2.9742257043630804|\n",
      "|[1.489264128E9,1....|  6.0|2.8386627948356606|\n",
      "|[1.489274496E9,1....|  6.0| 3.728965173582012|\n",
      "|[1.489266048E9,1....|  2.0|3.6467812584399417|\n",
      "|[1.489264128E9,1....|  6.0|3.6467812584399417|\n",
      "|[1.489271552E9,1....| -0.5|0.5489781950068948|\n",
      "|[1.489278464E9,1....|  0.0|1.4260374826644027|\n",
      "|[1.489257344E9,1....| -0.5|-0.415278853601859|\n",
      "|[1.489275392E9,1....|  6.0|3.6467812584399417|\n",
      "|[1.489259776E9,1....|  6.0|3.6467812584399417|\n",
      "|[1.489261952E9,1....|  6.0|3.1150283411302233|\n",
      "|[1.48925952E9,1.4...|  4.0|3.6467812584399417|\n",
      "|[1.489258752E9,1....|  2.0|0.3723498679849447|\n",
      "|[1.489259648E9,1....|  4.0|3.6467812584399417|\n",
      "|[1.489270016E9,1....| -0.5|-0.415278853601859|\n",
      "|[1.489273984E9,1....|  2.0|2.8386627948356606|\n",
      "|[1.489273216E9,1....|  2.0|3.1150283411302233|\n",
      "|[1.48926912E9,1.4...|  0.0|0.7694515716287665|\n",
      "+--------------------+-----+------------------+\n",
      "only showing top 20 rows\n",
      "\n"
     ]
    }
   ],
   "source": [
    "modelisation.sample(False, 30/float(a.count())).show()"
   ]
  },
  {
   "cell_type": "markdown",
   "metadata": {},
   "source": [
    "## 8.3.1) evaluation du modèle"
   ]
  },
  {
   "cell_type": "code",
   "execution_count": 178,
   "metadata": {},
   "outputs": [],
   "source": [
    "from pyspark.ml.evaluation import RegressionEvaluator"
   ]
  },
  {
   "cell_type": "code",
   "execution_count": 182,
   "metadata": {
    "collapsed": true
   },
   "outputs": [],
   "source": [
    "regression_evaluator = RegressionEvaluator()"
   ]
  },
  {
   "cell_type": "code",
   "execution_count": 183,
   "metadata": {},
   "outputs": [
    {
     "data": {
      "text/plain": [
       "'rmse'"
      ]
     },
     "execution_count": 183,
     "metadata": {},
     "output_type": "execute_result"
    }
   ],
   "source": [
    "regression_evaluator.getMetricName()"
   ]
  },
  {
   "cell_type": "code",
   "execution_count": 185,
   "metadata": {},
   "outputs": [
    {
     "data": {
      "text/plain": [
       "2.069576015260251"
      ]
     },
     "execution_count": 185,
     "metadata": {},
     "output_type": "execute_result"
    }
   ],
   "source": [
    "regression_evaluator.evaluate(predictions)"
   ]
  },
  {
   "cell_type": "markdown",
   "metadata": {},
   "source": [
    "# 8.4) modélisation avec un random Forest"
   ]
  },
  {
   "cell_type": "code",
   "execution_count": 186,
   "metadata": {
    "collapsed": true
   },
   "outputs": [],
   "source": [
    "from pyspark.ml.regression import RandomForestRegressor "
   ]
  },
  {
   "cell_type": "code",
   "execution_count": 187,
   "metadata": {
    "collapsed": true
   },
   "outputs": [],
   "source": [
    "algorithme = RandomForestRegressor()"
   ]
  },
  {
   "cell_type": "code",
   "execution_count": 189,
   "metadata": {},
   "outputs": [],
   "source": [
    "model = algorithme.fit(train)"
   ]
  },
  {
   "cell_type": "code",
   "execution_count": 190,
   "metadata": {
    "collapsed": true
   },
   "outputs": [],
   "source": [
    "predictions  = model.transform(test).cache()"
   ]
  },
  {
   "cell_type": "code",
   "execution_count": 191,
   "metadata": {
    "collapsed": true
   },
   "outputs": [],
   "source": [
    "modelisation = predictions.select([\"features\", \"label\", \"prediction\"]).cache()"
   ]
  },
  {
   "cell_type": "code",
   "execution_count": 192,
   "metadata": {},
   "outputs": [
    {
     "name": "stdout",
     "output_type": "stream",
     "text": [
      "+--------------------+-----+------------------+\n",
      "|            features|label|        prediction|\n",
      "+--------------------+-----+------------------+\n",
      "|[1.489273344E9,1....|  0.0|0.7460189791495305|\n",
      "|[1.489276416E9,1....|  4.0|2.9568864882885504|\n",
      "|[1.48927552E9,1.4...|  2.0| 2.368687203926452|\n",
      "|[1.4892736E9,1.48...|  0.0|3.0014838048030237|\n",
      "|[1.489275904E9,1....|  6.0|2.6695609346747533|\n",
      "|[1.489262976E9,1....|  6.0| 2.509243852912974|\n",
      "|[1.48925824E9,1.4...|  4.0|2.5125284377385175|\n",
      "|[1.489271424E9,1....|  4.0| 3.557415920029708|\n",
      "|[1.489260288E9,1....|  2.0|  1.52001138987381|\n",
      "|[1.489273856E9,1....| -0.5|3.0624199999250776|\n",
      "|[1.489275264E9,1....| -0.5|0.2407045357402715|\n",
      "|[1.489273088E9,1....|  4.0|3.4997121376496154|\n",
      "|[1.48927744E9,1.4...|  0.0| 2.352330841355886|\n",
      "|[1.489269504E9,1....|  6.0| 3.261649342770194|\n",
      "|[1.489259008E9,1....|  6.0| 3.056154751226397|\n",
      "|[1.489264384E9,1....|  0.0| 1.419365171386762|\n",
      "|[1.489278848E9,1....|  4.0|3.6469466879966794|\n",
      "|[1.489266048E9,1....|  4.0|3.1046341198314025|\n",
      "|[1.489262592E9,1....| -0.5|3.7838881201371315|\n",
      "|[1.489277696E9,1....| -0.5|0.8801866467175093|\n",
      "+--------------------+-----+------------------+\n",
      "only showing top 20 rows\n",
      "\n"
     ]
    }
   ],
   "source": [
    "modelisation.sample(False, 30/float(a.count())).show()"
   ]
  },
  {
   "cell_type": "markdown",
   "metadata": {},
   "source": [
    "## 8.4.1) evaluation du RF"
   ]
  },
  {
   "cell_type": "code",
   "execution_count": 193,
   "metadata": {},
   "outputs": [
    {
     "data": {
      "text/plain": [
       "2.094451030162627"
      ]
     },
     "execution_count": 193,
     "metadata": {},
     "output_type": "execute_result"
    }
   ],
   "source": [
    "regression_evaluator.evaluate(predictions)"
   ]
  },
  {
   "cell_type": "markdown",
   "metadata": {},
   "source": [
    "# 8.5) changeons le type de question : régression -> classification"
   ]
  },
  {
   "cell_type": "markdown",
   "metadata": {},
   "source": [
    "### 8.5.1) transformer les float en string (cast)"
   ]
  },
  {
   "cell_type": "code",
   "execution_count": 236,
   "metadata": {
    "collapsed": true
   },
   "outputs": [],
   "source": [
    "col_float  = \"label\""
   ]
  },
  {
   "cell_type": "code",
   "execution_count": 237,
   "metadata": {},
   "outputs": [],
   "source": [
    "trajets_avec_colonne_feature_et_label = trajets_avec_colonne_feature_et_label.withColumn(col_float, \n",
    "                                                                                         trajets_avec_colonne_feature_et_label[col_float].cast(StringType()))"
   ]
  },
  {
   "cell_type": "markdown",
   "metadata": {},
   "source": [
    "### 8.5.2) transformer les string en catégories / indexes (stringIndexer) "
   ]
  },
  {
   "cell_type": "code",
   "execution_count": 238,
   "metadata": {
    "collapsed": true
   },
   "outputs": [],
   "source": [
    "from pyspark.ml.feature import StringIndexer"
   ]
  },
  {
   "cell_type": "code",
   "execution_count": 239,
   "metadata": {},
   "outputs": [],
   "source": [
    "col_string = col_float\n",
    "new_col    = \"indexed\"\n",
    "indexer    = StringIndexer(inputCol  = col_string   , \n",
    "                           outputCol = new_col )"
   ]
  },
  {
   "cell_type": "code",
   "execution_count": 241,
   "metadata": {
    "collapsed": true
   },
   "outputs": [],
   "source": [
    "model                  = indexer.fit(trajets_avec_colonne_feature_et_label)\n",
    "trajets_sportif_indexe = model.transform(trajets_avec_colonne_feature_et_label)"
   ]
  },
  {
   "cell_type": "markdown",
   "metadata": {},
   "source": [
    "### regardons le résultat à cette étape"
   ]
  },
  {
   "cell_type": "code",
   "execution_count": 253,
   "metadata": {},
   "outputs": [
    {
     "name": "stdout",
     "output_type": "stream",
     "text": [
      "+-----+-------+\n",
      "|label|indexed|\n",
      "+-----+-------+\n",
      "|  4.0|    0.0|\n",
      "|  4.0|    0.0|\n",
      "|  4.0|    0.0|\n",
      "|  2.0|    1.0|\n",
      "|  2.0|    1.0|\n",
      "|  2.0|    1.0|\n",
      "|  6.0|    2.0|\n",
      "|  6.0|    2.0|\n",
      "|  6.0|    2.0|\n",
      "|  6.0|    2.0|\n",
      "|  6.0|    2.0|\n",
      "|  6.0|    2.0|\n",
      "| -0.5|    3.0|\n",
      "| -0.5|    3.0|\n",
      "| -0.5|    3.0|\n",
      "|  0.0|    4.0|\n",
      "|  0.0|    4.0|\n",
      "+-----+-------+\n",
      "\n"
     ]
    }
   ],
   "source": [
    "nb_row_to_print    = 20\n",
    "sample_pourcentage = float(nb_row_to_print)/trajets_sportif_indexe.count()\n",
    "trajets_sportif_indexe.sample(False, sample_pourcentage).select([col_string, new_col]).sort(new_col).show()"
   ]
  },
  {
   "cell_type": "markdown",
   "metadata": {},
   "source": [
    "### 8.5.3) Transformons les indexes en colonnes (one-hot-encoding)"
   ]
  },
  {
   "cell_type": "code",
   "execution_count": 246,
   "metadata": {
    "collapsed": true
   },
   "outputs": [],
   "source": [
    "from pyspark.ml.feature import OneHotEncoder"
   ]
  },
  {
   "cell_type": "code",
   "execution_count": 270,
   "metadata": {
    "collapsed": true
   },
   "outputs": [],
   "source": [
    "name_encoded_col = \"label2\"\n",
    "encoder = OneHotEncoder(inputCol=new_col, outputCol=name_encoded_col)"
   ]
  },
  {
   "cell_type": "code",
   "execution_count": 271,
   "metadata": {},
   "outputs": [],
   "source": [
    "a = encoder.transform(trajets_sportif_indexe)"
   ]
  },
  {
   "cell_type": "code",
   "execution_count": 272,
   "metadata": {},
   "outputs": [
    {
     "name": "stdout",
     "output_type": "stream",
     "text": [
      "+-------------+-------+\n",
      "|       label2|indexed|\n",
      "+-------------+-------+\n",
      "|    (4,[],[])|    4.0|\n",
      "|    (4,[],[])|    4.0|\n",
      "|    (4,[],[])|    4.0|\n",
      "|    (4,[],[])|    4.0|\n",
      "|(4,[0],[1.0])|    0.0|\n",
      "|(4,[0],[1.0])|    0.0|\n",
      "|(4,[0],[1.0])|    0.0|\n",
      "|(4,[1],[1.0])|    1.0|\n",
      "|(4,[1],[1.0])|    1.0|\n",
      "|(4,[1],[1.0])|    1.0|\n",
      "|(4,[1],[1.0])|    1.0|\n",
      "|(4,[1],[1.0])|    1.0|\n",
      "|(4,[1],[1.0])|    1.0|\n",
      "|(4,[2],[1.0])|    2.0|\n",
      "|(4,[2],[1.0])|    2.0|\n",
      "|(4,[2],[1.0])|    2.0|\n",
      "|(4,[2],[1.0])|    2.0|\n",
      "|(4,[2],[1.0])|    2.0|\n",
      "|(4,[2],[1.0])|    2.0|\n",
      "|(4,[3],[1.0])|    3.0|\n",
      "+-------------+-------+\n",
      "only showing top 20 rows\n",
      "\n"
     ]
    }
   ],
   "source": [
    "a.select([name_encoded_col, new_col]).sample(False, sample_pourcentage).sort(name_encoded_col).show()"
   ]
  },
  {
   "cell_type": "markdown",
   "metadata": {},
   "source": [
    "### 8.5.4) créons les jeux de train et test (split)"
   ]
  },
  {
   "cell_type": "code",
   "execution_count": 258,
   "metadata": {
    "collapsed": true
   },
   "outputs": [],
   "source": [
    "pourcentage_train = 80/float(100)\n",
    "pourcentage_test  = 1 - pourcentage_train\n",
    "splits            = a.randomSplit((pourcentage_train,pourcentage_test))\n",
    "train = splits[0].cache()\n",
    "test  = splits[1].cache()"
   ]
  },
  {
   "cell_type": "code",
   "execution_count": 259,
   "metadata": {},
   "outputs": [
    {
     "data": {
      "text/plain": [
       "6215238"
      ]
     },
     "execution_count": 259,
     "metadata": {},
     "output_type": "execute_result"
    }
   ],
   "source": [
    "train.count()"
   ]
  },
  {
   "cell_type": "code",
   "execution_count": 263,
   "metadata": {},
   "outputs": [
    {
     "name": "stdout",
     "output_type": "stream",
     "text": [
      "+--------------+--------------+--------------------+---------------+------------+---------+---------+---------------+-----+----+-----+---------+---------+-------+--------------------+-------+-------------+\n",
      "|      cycliste|station_depart|                velo|heure_de_depart|heure_de_fin|    duree| distance|station_arrivee|label| age| sexe|    nb_km|  vitesse|attente|            features|indexed|       label2|\n",
      "+--------------+--------------+--------------------+---------------+------------+---------+---------+---------------+-----+----+-----+---------+---------+-------+--------------------+-------+-------------+\n",
      "|cycliste_azem5|         aetlb|velo_aefw3_148925...|    1.4892567E9| 1.4892567E9|1.3405218|5.3851647|          arygc|  4.0|75.0|homme|10.611597|20.202173|    0.5|[1.489256704E9,1....|    0.0|(4,[0],[1.0])|\n",
      "|cycliste_azem5|         arygc|velo_arfv8_148925...|    1.4892567E9| 1.4892567E9| 1.471297| 4.472136|          azyn7|  4.0|75.0|homme|10.611597|20.202173|    0.5|[1.489256704E9,1....|    0.0|(4,[0],[1.0])|\n",
      "+--------------+--------------+--------------------+---------------+------------+---------+---------+---------------+-----+----+-----+---------+---------+-------+--------------------+-------+-------------+\n",
      "only showing top 2 rows\n",
      "\n"
     ]
    }
   ],
   "source": [
    "a.show(2)"
   ]
  },
  {
   "cell_type": "markdown",
   "metadata": {},
   "source": [
    "## 8.8.5) RandomForest Classifier"
   ]
  },
  {
   "cell_type": "code",
   "execution_count": 260,
   "metadata": {
    "collapsed": true
   },
   "outputs": [],
   "source": [
    "from pyspark.ml.classification import RandomForestClassifier"
   ]
  },
  {
   "cell_type": "code",
   "execution_count": 277,
   "metadata": {
    "collapsed": true
   },
   "outputs": [],
   "source": [
    "classifier = RandomForestClassifier(labelCol=\"indexed\")"
   ]
  },
  {
   "cell_type": "code",
   "execution_count": 278,
   "metadata": {},
   "outputs": [],
   "source": [
    "model = classifier.fit(train)"
   ]
  },
  {
   "cell_type": "code",
   "execution_count": 279,
   "metadata": {
    "collapsed": true
   },
   "outputs": [],
   "source": [
    "predictions = model.transform(test)"
   ]
  },
  {
   "cell_type": "code",
   "execution_count": 281,
   "metadata": {},
   "outputs": [
    {
     "data": {
      "text/plain": [
       "['cycliste',\n",
       " 'station_depart',\n",
       " 'velo',\n",
       " 'heure_de_depart',\n",
       " 'heure_de_fin',\n",
       " 'duree',\n",
       " 'distance',\n",
       " 'station_arrivee',\n",
       " 'label',\n",
       " 'age',\n",
       " 'sexe',\n",
       " 'nb_km',\n",
       " 'vitesse',\n",
       " 'attente',\n",
       " 'features',\n",
       " 'indexed',\n",
       " 'label2',\n",
       " 'rawPrediction',\n",
       " 'probability',\n",
       " 'prediction']"
      ]
     },
     "execution_count": 281,
     "metadata": {},
     "output_type": "execute_result"
    }
   ],
   "source": [
    "predictions.columns"
   ]
  },
  {
   "cell_type": "markdown",
   "metadata": {},
   "source": [
    "## 8.5.6) Evaluation de la classification"
   ]
  },
  {
   "cell_type": "code",
   "execution_count": 280,
   "metadata": {
    "collapsed": true
   },
   "outputs": [],
   "source": [
    "from pyspark.ml.evaluation import MulticlassClassificationEvaluator"
   ]
  },
  {
   "cell_type": "code",
   "execution_count": 282,
   "metadata": {
    "collapsed": true
   },
   "outputs": [],
   "source": [
    "evaluator = MulticlassClassificationEvaluator(labelCol=\"indexed\")"
   ]
  },
  {
   "cell_type": "code",
   "execution_count": 285,
   "metadata": {},
   "outputs": [
    {
     "data": {
      "text/plain": [
       "'f1'"
      ]
     },
     "execution_count": 285,
     "metadata": {},
     "output_type": "execute_result"
    }
   ],
   "source": [
    "evaluator.getMetricName()"
   ]
  },
  {
   "cell_type": "code",
   "execution_count": 283,
   "metadata": {},
   "outputs": [
    {
     "data": {
      "text/plain": [
       "0.39510258384942704"
      ]
     },
     "execution_count": 283,
     "metadata": {},
     "output_type": "execute_result"
    }
   ],
   "source": [
    "evaluator.evaluate(predictions)"
   ]
  },
  {
   "cell_type": "markdown",
   "metadata": {},
   "source": [
    "# taux de bonne prediction"
   ]
  },
  {
   "cell_type": "code",
   "execution_count": 303,
   "metadata": {},
   "outputs": [
    {
     "data": {
      "text/plain": [
       "0.40922876071129916"
      ]
     },
     "execution_count": 303,
     "metadata": {},
     "output_type": "execute_result"
    }
   ],
   "source": [
    "bonnes_predictions    = predictions.filter(\"indexed == prediction\").count()\n",
    "nb_de_lignes          = predictions.count()\n",
    "tx_bonnes_predictions = bonnes_predictions / float(nb_de_lignes)\n",
    "tx_bonnes_predictions"
   ]
  },
  {
   "cell_type": "markdown",
   "metadata": {},
   "source": [
    "## 8.5.7) Essayer plusieurs profondeurs d'arbre "
   ]
  },
  {
   "cell_type": "code",
   "execution_count": 296,
   "metadata": {
    "collapsed": true
   },
   "outputs": [],
   "source": [
    "from time import time"
   ]
  },
  {
   "cell_type": "code",
   "execution_count": 299,
   "metadata": {},
   "outputs": [
    {
     "name": "stdout",
     "output_type": "stream",
     "text": [
      "50 0.395710559071 341.233059168\n",
      "100 0.395292881373 722.701714993\n",
      "200 0.395605594242 1433.24287605\n"
     ]
    }
   ],
   "source": [
    "perf = {}\n",
    "numTrees = [50, 100, 200]\n",
    "for localNumTree in numTrees:\n",
    "    debut       = time()\n",
    "    classifier  = RandomForestClassifier(labelCol=\"indexed\", numTrees=localNumTree)\n",
    "    model       = classifier.fit(train)\n",
    "    predictions = model.transform(test)\n",
    "    performance = evaluator.evaluate(predictions)\n",
    "    duree       = time() - debut\n",
    "    print localNumTree, performance, duree\n",
    "    perf[localNumTree] = {\"perf\" : performance, \"duree\" : duree}"
   ]
  },
  {
   "cell_type": "markdown",
   "metadata": {},
   "source": [
    "### Graphique de performance"
   ]
  },
  {
   "cell_type": "code",
   "execution_count": 411,
   "metadata": {},
   "outputs": [
    {
     "data": {
      "image/png": "[encoded data removed]",
      "text/plain": [
       "<matplotlib.figure.Figure at 0x7f272a8c0ed0>"
      ]
     },
     "metadata": {},
     "output_type": "display_data"
    }
   ],
   "source": [
    "from matplotlib import pyplot as plt\n",
    "\n",
    "# Pandas dataFrame\n",
    "pd_df            = pd.DataFrame(perf).T\n",
    "pd_df.index.name = \"nb_arbres\"\n",
    "\n",
    "# Matplotlib figure\n",
    "fig = plt.figure()\n",
    "\n",
    "#Axe pour la première serie\n",
    "ax  = fig.add_subplot(111)\n",
    "ax.set_ylabel(\"duree (blue)\")\n",
    "pd_df[\"duree\"].plot(kind=\"bar\", ax = ax, position=1, width=0.25)\n",
    "\n",
    "#Axe pour seconde  serie\n",
    "ax2 = ax.twinx()\n",
    "ax2.set_ylabel (\"performance (red)\")\n",
    "ax2.set_ylim(0, 1)\n",
    "pd_df[\"perf\"].plot(kind=\"bar\", color='red',  ax=ax2, position=0, width=0.25)\n",
    "\n",
    "# Titre et affichage du graphique\n",
    "plt.title(\"mesure de performance\")\n",
    "plt.show()"
   ]
  },
  {
   "cell_type": "markdown",
   "metadata": {},
   "source": [
    "## extraction des importances de features : "
   ]
  },
  {
   "cell_type": "code",
   "execution_count": 311,
   "metadata": {},
   "outputs": [
    {
     "data": {
      "text/plain": [
       "SparseVector(8, {0: 0.0, 1: 0.0, 2: 0.0231, 3: 0.0086, 4: 0.2181, 5: 0.0903, 6: 0.6598})"
      ]
     },
     "execution_count": 311,
     "metadata": {},
     "output_type": "execute_result"
    }
   ],
   "source": [
    "model.featureImportances"
   ]
  },
  {
   "cell_type": "code",
   "execution_count": 318,
   "metadata": {},
   "outputs": [
    {
     "data": {
      "text/plain": [
       "[Row(features=DenseVector([1489263872.0, 1489263872.0, 1.2954, 5.6569, 75.0, 10.6116, 20.2022, 0.5])),\n",
       " Row(features=DenseVector([1489277312.0, 1489277312.0, 1.2956, 5.831, 75.0, 10.6116, 20.2022, 0.5]))]"
      ]
     },
     "execution_count": 318,
     "metadata": {},
     "output_type": "execute_result"
    }
   ],
   "source": [
    "train.select(\"features\").take(2)"
   ]
  }
 ],
 "metadata": {
  "kernelspec": {
   "display_name": "Python 3",
   "language": "python",
   "name": "python3"
  },
  "language_info": {
   "codemirror_mode": {
    "name": "ipython",
    "version": 3
   },
   "file_extension": ".py",
   "mimetype": "text/x-python",
   "name": "python",
   "nbconvert_exporter": "python",
   "pygments_lexer": "ipython3",
   "version": "3.6.3"
  }
 },
 "nbformat": 4,
 "nbformat_minor": 2
}
