{
 "cells": [
  {
   "cell_type": "markdown",
   "metadata": {},
   "source": [
    "# -1) imports"
   ]
  },
  {
   "cell_type": "code",
   "execution_count": 33,
   "metadata": {
    "collapsed": true
   },
   "outputs": [],
   "source": [
    "import findspark\n",
    "findspark.init()\n",
    "# Spark:\n",
    "from pyspark     import SparkConf\n",
    "from pyspark     import SparkContext\n",
    "from pyspark.sql import SparkSession\n",
    "from pyspark.ml  import PipelineModel\n",
    "from pyspark.sql.types         import FloatType, IntegerType\n",
    "from pyspark.sql.types         import StructType, StructField\n",
    "from pyspark.ml.feature        import VectorAssembler\n",
    "from pyspark.ml.classification import DecisionTreeClassificationModel\n",
    "# Python :\n",
    "from datetime import datetime\n",
    "import math\n",
    "from pyspark.streaming import StreamingContext\n"
   ]
  },
  {
   "cell_type": "markdown",
   "metadata": {},
   "source": [
    "# 0) configuration spark context"
   ]
  },
  {
   "cell_type": "code",
   "execution_count": 39,
   "metadata": {
    "collapsed": true
   },
   "outputs": [],
   "source": [
    "listen_to_ip   = \"54.37.12.49\"\n",
    "listen_to_port = 12010\n",
    "\n",
    "current_date   = datetime.now().strftime(\"%Y-%m-%d %H:%M\")\n",
    "user           = \"romain - exemple saprk streaming\"\n",
    "appName        = \"%s le %s\"%(user, current_date)\n",
    "ip_fares       = \"54.37.12.49\"\n",
    "master         = \"spark://54.37.12.49:7077\"\n",
    "executor_cores = 2 \n",
    "nb_cores_max   = 2\n",
    "parallelism    = 4 * executor_cores\n",
    "memory_by_node = \"200M\"\n",
    "nb_executor    = nb_cores_max//executor_cores\n",
    "dico_conf      = { \"spark.app.name\"             : appName        ,\n",
    "                   \"spark.master\"               : master         ,\n",
    "                   \"spark.cores.max\"            : nb_cores_max   , \n",
    "                   \"spark.executor.cores\"       : executor_cores ,\n",
    "                   \"spark.default.parallelism\"  : parallelism    , \n",
    "                  #\"spark.python.worker.memory\" : memory_by_node ,\n",
    "                   \"spark.python.executor.memory\" : memory_by_node }\n",
    "conf = SparkConf()\n",
    "for k,v in dico_conf.items():\n",
    "    conf = conf.set(k,v)\n",
    "sc    = SparkContext.getOrCreate(conf=conf)\n",
    "spark = SparkSession.builder.getOrCreate()"
   ]
  },
  {
   "cell_type": "markdown",
   "metadata": {},
   "source": [
    "# A) fonction important le modèle de prédiction pour chaque timestamp"
   ]
  },
  {
   "cell_type": "code",
   "execution_count": 42,
   "metadata": {
    "collapsed": true
   },
   "outputs": [],
   "source": [
    "def prevoir(time, rdd):\n",
    "    sep       = \";\"\n",
    "    chemin = \"hdfs://54.37.12.49:8020/cart_model_for_cycliste_v5\"\n",
    "    model  = DecisionTreeClassificationModel.load(chemin)\n",
    "    # travail sur la string\n",
    "    rdd2      = rdd.map( lambda data   : data.split(sep))\n",
    "    rdd3      = rdd2.map(lambda tableau: [float(x) for x in tableau])\n",
    "    # création df\n",
    "    cols      = ['sportif', 'age', 'nb_km', 'vitesse', 'attente']\n",
    "    fields    = [StructField(x, FloatType(), True) for x in cols]\n",
    "    schema    = StructType(fields) \n",
    "    df        = spark.createDataFrame(rdd3, schema=schema ) \n",
    "    # preparation d'une colonne de features\n",
    "    schema    = StructType(fields)\n",
    "    assembler = VectorAssembler()\n",
    "    assembler = assembler.setInputCols(cols)\n",
    "    assembler = assembler.setOutputCol(\"features\")\n",
    "    df2       = assembler.transform(df)\n",
    "    model.transform(df2).show()\n",
    "    "
   ]
  },
  {
   "cell_type": "markdown",
   "metadata": {},
   "source": [
    "# 1) Création d'un streaming context"
   ]
  },
  {
   "cell_type": "code",
   "execution_count": null,
   "metadata": {},
   "outputs": [],
   "source": [
    "ssc     = StreamingContext(sc, 3)\n",
    "dstream = ssc.socketTextStream(listen_to_ip, listen_to_port)"
   ]
  },
  {
   "cell_type": "markdown",
   "metadata": {},
   "source": [
    "# 2) application de la fonction de prédiction pour chaque batch de données"
   ]
  },
  {
   "cell_type": "code",
   "execution_count": 44,
   "metadata": {
    "collapsed": true
   },
   "outputs": [],
   "source": [
    "dstream.foreachRDD(prevoir)"
   ]
  },
  {
   "cell_type": "code",
   "execution_count": 45,
   "metadata": {
    "collapsed": true
   },
   "outputs": [],
   "source": [
    "dstream.pprint()"
   ]
  },
  {
   "cell_type": "markdown",
   "metadata": {},
   "source": [
    "# 3) activer l'écoute sur la socket"
   ]
  },
  {
   "cell_type": "code",
   "execution_count": 46,
   "metadata": {},
   "outputs": [
    {
     "name": "stdout",
     "output_type": "stream",
     "text": [
      "+-------+---+-----+-------+-------+--------+-------------+-----------+----------+\n",
      "|sportif|age|nb_km|vitesse|attente|features|rawPrediction|probability|prediction|\n",
      "+-------+---+-----+-------+-------+--------+-------------+-----------+----------+\n",
      "+-------+---+-----+-------+-------+--------+-------------+-----------+----------+\n",
      "\n",
      "-------------------------------------------\n",
      "Time: 2018-02-27 04:43:48\n",
      "-------------------------------------------\n",
      "\n",
      "+-------+----+---------+---------+-------+--------------------+-------------+--------------------+----------+\n",
      "|sportif| age|    nb_km|  vitesse|attente|            features|rawPrediction|         probability|prediction|\n",
      "+-------+----+---------+---------+-------+--------------------+-------------+--------------------+----------+\n",
      "|    0.0|15.0|3.0076275|27.610607|    0.5|[0.0,15.0,3.00762...|  [200.0,5.0]|[0.97560975609756...|       0.0|\n",
      "+-------+----+---------+---------+-------+--------------------+-------------+--------------------+----------+\n",
      "\n",
      "-------------------------------------------\n",
      "Time: 2018-02-27 04:43:51\n",
      "-------------------------------------------\n",
      "0;15;3.00762748585;27.6106079882;0.5\n",
      "\n",
      "+-------+----+---------+---------+-------+--------------------+-------------+--------------------+----------+\n",
      "|sportif| age|    nb_km|  vitesse|attente|            features|rawPrediction|         probability|prediction|\n",
      "+-------+----+---------+---------+-------+--------------------+-------------+--------------------+----------+\n",
      "|    6.0|25.0|7.3499193|23.050674|    0.5|[6.0,25.0,7.34991...| [138.0,93.0]|[0.59740259740259...|       0.0|\n",
      "|   -0.5|74.0|3.6029994|15.338162|    0.5|[-0.5,74.0,3.6029...|[403.0,146.0]|[0.73406193078324...|       0.0|\n",
      "|   -0.5|46.0|   7.6791|15.611505|    0.5|[-0.5,46.0,7.6791...|[187.0,354.0]|[0.34565619223659...|       1.0|\n",
      "+-------+----+---------+---------+-------+--------------------+-------------+--------------------+----------+\n",
      "\n",
      "-------------------------------------------\n",
      "Time: 2018-02-27 04:43:54\n",
      "-------------------------------------------\n",
      "6;25;7.34991951874;23.0506752616;0.5\n",
      "-0.5;74;3.60299948446;15.3381626814;0.5\n",
      "-0.5;46;7.67910017225;15.6115041601;0.5\n",
      "\n",
      "+-------+----+---------+---------+-------+--------------------+-------------+--------------------+----------+\n",
      "|sportif| age|    nb_km|  vitesse|attente|            features|rawPrediction|         probability|prediction|\n",
      "+-------+----+---------+---------+-------+--------------------+-------------+--------------------+----------+\n",
      "|    4.0|61.0|11.987794|12.539227|    0.5|[4.0,61.0,11.9877...|[137.0,546.0]|[0.20058565153733...|       1.0|\n",
      "|    4.0|41.0|1.4426006|17.130152|    0.5|[4.0,41.0,1.44260...|  [30.0,44.0]|[0.40540540540540...|       1.0|\n",
      "|    4.0|41.0|6.0905232| 19.39297|    0.5|[4.0,41.0,6.09052...|[187.0,354.0]|[0.34565619223659...|       1.0|\n",
      "+-------+----+---------+---------+-------+--------------------+-------------+--------------------+----------+\n",
      "\n",
      "-------------------------------------------\n",
      "Time: 2018-02-27 04:43:57\n",
      "-------------------------------------------\n",
      "4;61;11.987793618;12.539226094;0.5\n",
      "4;41;1.44260055802;17.1301514644;0.5\n",
      "4;41;6.0905231915;19.3929684602;0.5\n",
      "\n",
      "+-------+----+-----------+---------+-------+--------------------+-------------+--------------------+----------+\n",
      "|sportif| age|      nb_km|  vitesse|attente|            features|rawPrediction|         probability|prediction|\n",
      "+-------+----+-----------+---------+-------+--------------------+-------------+--------------------+----------+\n",
      "|    6.0|54.0|  12.307149|  19.2549|    0.5|[6.0,54.0,12.3071...|[341.0,475.0]|[0.41789215686274...|       1.0|\n",
      "|    6.0|50.0| -2.3594282|23.359573|    0.5|[6.0,50.0,-2.3594...| [158.0,11.0]|[0.93491124260355...|       0.0|\n",
      "|    0.0|23.0|-0.16158037|27.057108|    0.5|[0.0,23.0,-0.1615...|  [200.0,5.0]|[0.97560975609756...|       0.0|\n",
      "+-------+----+-----------+---------+-------+--------------------+-------------+--------------------+----------+\n",
      "\n",
      "-------------------------------------------\n",
      "Time: 2018-02-27 04:44:00\n",
      "-------------------------------------------\n",
      "6;54;12.3071491418;19.2549001349;0.5\n",
      "6;50;-2.35942808858;23.3595736977;0.5\n",
      "0;23;-0.161580375364;27.0571082878;0.5\n",
      "\n",
      "+-------+----+---------+---------+-------+--------------------+-------------+--------------------+----------+\n",
      "|sportif| age|    nb_km|  vitesse|attente|            features|rawPrediction|         probability|prediction|\n",
      "+-------+----+---------+---------+-------+--------------------+-------------+--------------------+----------+\n",
      "|    0.0|60.0| 8.158441| 13.15072|    0.5|[0.0,60.0,8.15844...|[341.0,475.0]|[0.41789215686274...|       1.0|\n",
      "|    4.0|61.0|11.528146|  19.3081|    0.5|[4.0,61.0,11.5281...|[341.0,475.0]|[0.41789215686274...|       1.0|\n",
      "|    0.0|20.0|11.068908|23.742363|    0.5|[0.0,20.0,11.0689...| [110.0,77.0]|[0.58823529411764...|       0.0|\n",
      "+-------+----+---------+---------+-------+--------------------+-------------+--------------------+----------+\n",
      "\n",
      "-------------------------------------------\n",
      "Time: 2018-02-27 04:44:03\n",
      "-------------------------------------------\n",
      "0;60;8.15844083358;13.1507195909;0.5\n",
      "4;61;11.5281460003;19.3081006665;0.5\n",
      "0;20;11.0689073734;23.7423638213;0.5\n",
      "\n",
      "+-------+----+---------+---------+-------+--------------------+-------------+--------------------+----------+\n",
      "|sportif| age|    nb_km|  vitesse|attente|            features|rawPrediction|         probability|prediction|\n",
      "+-------+----+---------+---------+-------+--------------------+-------------+--------------------+----------+\n",
      "|    0.0|49.0|2.4760122|21.512356|    0.5|[0.0,49.0,2.47601...| [158.0,11.0]|[0.93491124260355...|       0.0|\n",
      "|    6.0|20.0| 9.622452|20.764265|    0.5|[6.0,20.0,9.62245...| [99.0,336.0]|[0.22758620689655...|       1.0|\n",
      "|    2.0|67.0|5.1771436|14.240872|    0.5|[2.0,67.0,5.17714...|[237.0,288.0]|[0.45142857142857...|       1.0|\n",
      "+-------+----+---------+---------+-------+--------------------+-------------+--------------------+----------+\n",
      "\n",
      "-------------------------------------------\n",
      "Time: 2018-02-27 04:44:06\n",
      "-------------------------------------------\n",
      "0;49;2.47601229919;21.512356108;0.5\n",
      "6;20;9.62245193285;20.7642657323;0.5\n",
      "2;67;5.17714344282;14.240872812;0.5\n",
      "\n"
     ]
    }
   ],
   "source": [
    "ssc.start()"
   ]
  },
  {
   "cell_type": "code",
   "execution_count": 47,
   "metadata": {},
   "outputs": [
    {
     "name": "stdout",
     "output_type": "stream",
     "text": [
      "+-------+----+---------+---------+-------+--------------------+-------------+--------------------+----------+\n",
      "|sportif| age|    nb_km|  vitesse|attente|            features|rawPrediction|         probability|prediction|\n",
      "+-------+----+---------+---------+-------+--------------------+-------------+--------------------+----------+\n",
      "|    2.0|52.0|14.499323|7.1012588|    0.5|[2.0,52.0,14.4993...|[137.0,546.0]|[0.20058565153733...|       1.0|\n",
      "|   -0.5|22.0|7.4904847|28.455948|    0.5|[-0.5,22.0,7.4904...|  [200.0,5.0]|[0.97560975609756...|       0.0|\n",
      "|    6.0|64.0|10.608381|25.632332|    0.5|[6.0,64.0,10.6083...| [186.0,22.0]|[0.89423076923076...|       0.0|\n",
      "+-------+----+---------+---------+-------+--------------------+-------------+--------------------+----------+\n",
      "\n"
     ]
    }
   ],
   "source": [
    "ssc.stop()"
   ]
  },
  {
   "cell_type": "code",
   "execution_count": 6,
   "metadata": {
    "collapsed": true
   },
   "outputs": [],
   "source": [
    "def prevoir(time, rdd):\n",
    "    \n",
    "    print(time)\n",
    "    print(rdd)\n",
    "    print(\"prevoir %s + show\" %rdd.first())\n"
   ]
  },
  {
   "cell_type": "code",
   "execution_count": 7,
   "metadata": {
    "collapsed": true
   },
   "outputs": [],
   "source": [
    "def prevoir3(time, rdd):\n",
    "    sep       = \";\"\n",
    "    str_recue = '0.0;0.1;0.2;0.3;0.4;0.5'\n",
    "    rdd       = sc.parallelize([str_recue])\n",
    "    chemin = \"hdfs://54.37.12.49:8020/cart_model_for_cycliste_v4\"\n",
    "    model  = DecisionTreeClassificationModel.load(chemin)\n",
    "    # travail sur la string\n",
    "    rdd2      = rdd.map( lambda data   : data.split(sep))\n",
    "    rdd3      = rdd2.map(lambda tableau: [float(x) for x in tableau])\n",
    "    # création df\n",
    "    cols      = [\"c1\", \"c2\", \"c3\", \"c4\", \"c5\", \"c6\"]\n",
    "    fields    = [StructField(x, FloatType(), True) for x in cols]\n",
    "    schema    = StructType(fields) \n",
    "    df        = spark.createDataFrame(rdd3, schema=schema ) \n",
    "    # preparation d'une colonne de features\n",
    "    schema    = StructType(fields)\n",
    "    assembler = VectorAssembler()\n",
    "    assembler = assembler.setInputCols(cols)\n",
    "    assembler = assembler.setOutputCol(\"features\")\n",
    "    df2       = assembler.transform(df)\n",
    "    model.transform(df2).show()"
   ]
  },
  {
   "cell_type": "code",
   "execution_count": 24,
   "metadata": {
    "collapsed": true
   },
   "outputs": [],
   "source": [
    "if False:\n",
    "    ssc.stop(False)\n",
    "    print(ssc)"
   ]
  },
  {
   "cell_type": "code",
   "execution_count": 22,
   "metadata": {},
   "outputs": [],
   "source": [
    "ssc.stop()"
   ]
  },
  {
   "cell_type": "code",
   "execution_count": null,
   "metadata": {
    "collapsed": true
   },
   "outputs": [],
   "source": []
  }
 ],
 "metadata": {
  "anaconda-cloud": {},
  "kernelspec": {
   "display_name": "Python 3",
   "language": "python",
   "name": "python3"
  },
  "language_info": {
   "codemirror_mode": {
    "name": "ipython",
    "version": 3
   },
   "file_extension": ".py",
   "mimetype": "text/x-python",
   "name": "python",
   "nbconvert_exporter": "python",
   "pygments_lexer": "ipython3",
   "version": "3.6.3"
  }
 },
 "nbformat": 4,
 "nbformat_minor": 1
}
