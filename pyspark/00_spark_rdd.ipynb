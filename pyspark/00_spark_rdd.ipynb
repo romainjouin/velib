{
 "cells": [
  {
   "cell_type": "markdown",
   "metadata": {},
   "source": [
    "# 0) vérifier [sc] et [spark]"
   ]
  },
  {
   "cell_type": "code",
   "execution_count": 1,
   "metadata": {},
   "outputs": [],
   "source": [
    "# le spark context détermine les ressources \n",
    "# disponibles pour l'application\n",
    "assert sc==sc"
   ]
  },
  {
   "cell_type": "code",
   "execution_count": 2,
   "metadata": {},
   "outputs": [],
   "source": [
    "# la variable spark permet de gérer les\n",
    "# dataframes (dépend de pyspark.sql)\n",
    "assert spark==spark"
   ]
  },
  {
   "cell_type": "code",
   "execution_count": 3,
   "metadata": {},
   "outputs": [
    {
     "data": {
      "text/plain": [
       "<pyspark.sql.session.SparkSession at 0x7fa94a980438>"
      ]
     },
     "execution_count": 3,
     "metadata": {},
     "output_type": "execute_result"
    }
   ],
   "source": [
    "spark"
   ]
  },
  {
   "cell_type": "markdown",
   "metadata": {},
   "source": [
    "# -1) Création de fonctions distribuable ..."
   ]
  },
  {
   "cell_type": "code",
   "execution_count": 88,
   "metadata": {},
   "outputs": [],
   "source": [
    "# on fait une opération associative et commutative (afin qu'elle soit distruable)\n",
    "def somme_de_valeurs(v1, v2):\n",
    "    return v1 + v2\n",
    "def concatenation_de_liste (liste1, liste2):  \n",
    "    if type(liste1)==type([]):\n",
    "        return sum(liste1)+sum(liste2)\n",
    "    else :\n",
    "        return \"pbm avec  %s\"%type(liste1)\n",
    "def moyenne_de_liste( x, y): \n",
    "    if type(liste1)==type([]):\n",
    "        liste_concatennees = x + y\n",
    "        return np.mean( liste_concatennees )\n",
    "    else :\n",
    "        return \"pbm avec  %s\"%type(liste1)\n",
    "    \n",
    "def max_de_liste( x, y): \n",
    "    if type(liste1)==type([]):\n",
    "        liste_concatennees = x + y\n",
    "        return np.max( liste_concatennees )\n",
    "    else :\n",
    "        return \"pbm avec  %s\"%type(liste1)    "
   ]
  },
  {
   "cell_type": "markdown",
   "metadata": {},
   "source": [
    "# 1) loader un fichier en mémoire"
   ]
  },
  {
   "cell_type": "code",
   "execution_count": 38,
   "metadata": {},
   "outputs": [
    {
     "name": "stdout",
     "output_type": "stream",
     "text": [
      "/home/spark/spark/velib/pyspark/cycliste_cyclistes.csv\r\n",
      "/home/spark/spark/velib/pyspark/cycliste_debug.csv.zip\r\n",
      "/home/spark/spark/velib/pyspark/cyclistes.csv\r\n"
     ]
    }
   ],
   "source": [
    "!ls /home/spark/spark/velib/pyspark/cycliste*"
   ]
  },
  {
   "cell_type": "markdown",
   "metadata": {},
   "source": [
    "# 1.1) dézipper cycliste_debug (sur toutes les machines du cluster !)\n",
    "-> ! unzip /home/spark/spark/velib/pyspark/cycliste_debug.csv.zip"
   ]
  },
  {
   "cell_type": "code",
   "execution_count": 49,
   "metadata": {},
   "outputs": [
    {
     "name": "stdout",
     "output_type": "stream",
     "text": [
      "Archive:  /home/spark/spark/velib/pyspark/cycliste_debug.csv.zip\n",
      "replace cycliste_debug.csv? [y]es, [n]o, [A]ll, [N]one, [r]ename: ^C\n"
     ]
    }
   ],
   "source": [
    "! unzip /home/spark/spark/velib/pyspark/cycliste_debug.csv.zipN"
   ]
  },
  {
   "cell_type": "code",
   "execution_count": 54,
   "metadata": {},
   "outputs": [
    {
     "name": "stdout",
     "output_type": "stream",
     "text": [
      "-rw-rw-r-- 1 spark spark   282378 Dec 11 22:09 cycliste_cyclistes.csv\r\n",
      "-rw-r--r-- 1 spark spark 21639712 May 30  2017 cycliste_debug.csv\r\n",
      "-rw-rw-r-- 1 spark spark  2318793 Dec 12 01:05 cycliste_debug.csv.zip\r\n",
      "-rw-rw-r-- 1 spark spark  2333044 Dec 11 22:09 cyclistes.csv\r\n"
     ]
    }
   ],
   "source": [
    "!ls -l cycliste*"
   ]
  },
  {
   "cell_type": "code",
   "execution_count": 55,
   "metadata": {
    "collapsed": true
   },
   "outputs": [],
   "source": [
    "path  = \"hdfs://spark52:8020/cycliste_debug_2.csv\"\n",
    "# si on prend un répertoire, alors la rdd comprendra tous les fichiers\n",
    "# du répertoire\n",
    "path = \"/home/spark/spark/velib/pyspark/cycliste_debug.csv\" "
   ]
  },
  {
   "cell_type": "code",
   "execution_count": 56,
   "metadata": {},
   "outputs": [],
   "source": [
    "rdd  = sc.textFile(path)\n",
    "logs = rdd"
   ]
  },
  {
   "cell_type": "code",
   "execution_count": 57,
   "metadata": {},
   "outputs": [
    {
     "data": {
      "text/plain": [
       "247574"
      ]
     },
     "execution_count": 57,
     "metadata": {},
     "output_type": "execute_result"
    }
   ],
   "source": [
    "logs.count()"
   ]
  },
  {
   "cell_type": "markdown",
   "metadata": {},
   "source": [
    "## 1.1) essayer de comprendre le fichier"
   ]
  },
  {
   "cell_type": "code",
   "execution_count": 58,
   "metadata": {},
   "outputs": [
    {
     "data": {
      "text/plain": [
       "247574"
      ]
     },
     "execution_count": 58,
     "metadata": {},
     "output_type": "execute_result"
    }
   ],
   "source": [
    "logs.count() # nombre de lignes"
   ]
  },
  {
   "cell_type": "code",
   "execution_count": 59,
   "metadata": {},
   "outputs": [
    {
     "data": {
      "text/plain": [
       "['cycliste,n_message,time,message',\n",
       " 'cycliste_aztu4,0000, 1496170615.88,station_maison = azuf3',\n",
       " 'cree',\n",
       " 'cycliste_aztu4,0002, 1496170615.88,station_maison nearest= aeqc6|aeohw|azum7|aeyd1|artgc|arojk|aztop|aruk0',\n",
       " 'cycliste_aztu4,0001, 1496170615.88,station_travail = aeghv']"
      ]
     },
     "execution_count": 59,
     "metadata": {},
     "output_type": "execute_result"
    }
   ],
   "source": [
    "logs.take(5) # extrait"
   ]
  },
  {
   "cell_type": "code",
   "execution_count": 60,
   "metadata": {},
   "outputs": [
    {
     "data": {
      "text/plain": [
       "'cycliste,n_message,time,message'"
      ]
     },
     "execution_count": 60,
     "metadata": {},
     "output_type": "execute_result"
    }
   ],
   "source": [
    "header = logs.take(1)\n",
    "header = header[0]\n",
    "header"
   ]
  },
  {
   "cell_type": "code",
   "execution_count": 61,
   "metadata": {},
   "outputs": [],
   "source": [
    "sans_header = logs.filter(lambda ligne: ligne != header)\n",
    "assert(sans_header.count() == logs.count() -1)"
   ]
  },
  {
   "cell_type": "markdown",
   "metadata": {},
   "source": [
    "#### 1.1)  nombre de virgules par lignes"
   ]
  },
  {
   "cell_type": "code",
   "execution_count": 62,
   "metadata": {
    "collapsed": true
   },
   "outputs": [],
   "source": [
    "separator       = \",\"\n",
    "lambda_function = lambda log: len(log.split(separator))\n",
    "nb_virgules     = logs.map(lambda_function)"
   ]
  },
  {
   "cell_type": "code",
   "execution_count": 63,
   "metadata": {},
   "outputs": [
    {
     "data": {
      "text/plain": [
       "[4, 5, 1]"
      ]
     },
     "execution_count": 63,
     "metadata": {},
     "output_type": "execute_result"
    }
   ],
   "source": [
    "nb_possible  = nb_virgules.distinct()\n",
    "nb_possible.collect()"
   ]
  },
  {
   "cell_type": "markdown",
   "metadata": {},
   "source": [
    "##### 1.2) trouver des logs pour chaque nb de virgules"
   ]
  },
  {
   "cell_type": "code",
   "execution_count": 64,
   "metadata": {},
   "outputs": [
    {
     "data": {
      "text/plain": [
       "[(4, 'cycliste,n_message,time,message'),\n",
       " (4, 'cycliste_aztu4,0000, 1496170615.88,station_maison = azuf3'),\n",
       " (1, 'cree')]"
      ]
     },
     "execution_count": 64,
     "metadata": {},
     "output_type": "execute_result"
    }
   ],
   "source": [
    "create_pair = lambda log: (len(log.split(separator)), log)\n",
    "pairedRdd   = logs.map(create_pair) \n",
    "pairedRdd.take(3)"
   ]
  },
  {
   "cell_type": "code",
   "execution_count": 65,
   "metadata": {},
   "outputs": [
    {
     "data": {
      "text/plain": [
       "[(4, <pyspark.resultiterable.ResultIterable at 0x7fa948ec7cc0>),\n",
       " (5, <pyspark.resultiterable.ResultIterable at 0x7fa948ec7550>),\n",
       " (1, <pyspark.resultiterable.ResultIterable at 0x7fa948ec7518>)]"
      ]
     },
     "execution_count": 65,
     "metadata": {},
     "output_type": "execute_result"
    }
   ],
   "source": [
    "pairedRdd.groupByKey().take(3) # renvoie un itérateur (ouf !)"
   ]
  },
  {
   "cell_type": "code",
   "execution_count": 66,
   "metadata": {},
   "outputs": [
    {
     "data": {
      "text/plain": [
       "defaultdict(int, {1: 2314, 4: 202465, 5: 42795})"
      ]
     },
     "execution_count": 66,
     "metadata": {},
     "output_type": "execute_result"
    }
   ],
   "source": [
    "pairedRdd.countByKey() "
   ]
  },
  {
   "cell_type": "markdown",
   "metadata": {},
   "source": [
    "##### 1.2.1) on affiche pour chaque nb de virgules quelques exemples"
   ]
  },
  {
   "cell_type": "code",
   "execution_count": 67,
   "metadata": {},
   "outputs": [
    {
     "name": "stdout",
     "output_type": "stream",
     "text": [
      "====================\n",
      "nb de virgules =  4\n",
      "exemples : \n",
      "cycliste_azuq6,0043, 1496170672.35,velo defaillant <0.5\n",
      "cycliste_azudm,0044, 1496170674.16,self.a_la_maison = False\n",
      "cycliste_azudm,0043, 1496170672.35,True a pris le velo velo_azup0_1496170613.03 sur la station azxbn\n",
      "====================\n",
      "nb de virgules =  5\n",
      "exemples : \n",
      "cycliste_azehn,0044, 1496170674.16,impossible de rendre sur ,ardlx ( a la maison = False)\n",
      "cycliste_azyui,0044, 1496170674.16,impossible de rendre sur ,ardlx ( a la maison = False)\n",
      "cycliste_azex3,0052, 1496170674.16,impossible de rendre sur ,ardlx ( a la maison = True)\n",
      "====================\n",
      "nb de virgules =  1\n",
      "exemples : \n",
      "cree\n",
      "cree\n",
      "cree\n"
     ]
    }
   ],
   "source": [
    "key_len__iterateur = pairedRdd.groupByKey().take(3)\n",
    "for key_len, iterateur in key_len__iterateur:\n",
    "    print (\"=\"*20)\n",
    "    print (\"nb de virgules = \", key_len)\n",
    "    print (\"exemples : \")\n",
    "    for i in range(3):\n",
    "        print (iterateur.data[i])\n",
    "        "
   ]
  },
  {
   "cell_type": "markdown",
   "metadata": {},
   "source": [
    "#### 1.2.2 supprimeons les \"cree\""
   ]
  },
  {
   "cell_type": "code",
   "execution_count": 89,
   "metadata": {},
   "outputs": [
    {
     "data": {
      "text/plain": [
       "245260"
      ]
     },
     "execution_count": 89,
     "metadata": {},
     "output_type": "execute_result"
    }
   ],
   "source": [
    "logs_sans_cree = logs.filter(lambda log: log !=\"cree\")\n",
    "logs_sans_cree.count()"
   ]
  },
  {
   "cell_type": "code",
   "execution_count": 90,
   "metadata": {},
   "outputs": [
    {
     "data": {
      "text/plain": [
       "42795"
      ]
     },
     "execution_count": 90,
     "metadata": {},
     "output_type": "execute_result"
    }
   ],
   "source": [
    "log_a_5_virgules = logs_sans_cree.filter(lambda log: len(log.split(separator))==5)\n",
    "log_a_5_virgules.count()"
   ]
  },
  {
   "cell_type": "code",
   "execution_count": 91,
   "metadata": {},
   "outputs": [
    {
     "data": {
      "text/plain": [
       "36847"
      ]
     },
     "execution_count": 91,
     "metadata": {},
     "output_type": "execute_result"
    }
   ],
   "source": [
    "log_des_impossibles = log_a_5_virgules.filter(lambda log : \"impossible\" in log)\n",
    "log_des_impossibles.count()"
   ]
  },
  {
   "cell_type": "markdown",
   "metadata": {},
   "source": [
    "#### 1.3 Elements distincts entre deux rdd => substract"
   ]
  },
  {
   "cell_type": "code",
   "execution_count": 92,
   "metadata": {},
   "outputs": [
    {
     "data": {
      "text/plain": [
       "5948"
      ]
     },
     "execution_count": 92,
     "metadata": {},
     "output_type": "execute_result"
    }
   ],
   "source": [
    "cinq_virgules_non_impossible = log_a_5_virgules.subtract(log_des_impossibles)\n",
    "cinq_virgules_non_impossible.count()"
   ]
  },
  {
   "cell_type": "code",
   "execution_count": 93,
   "metadata": {},
   "outputs": [
    {
     "data": {
      "text/plain": [
       "['cycliste_azif4,0006, 1496170627.16,velo defaillant <0.3, rendu a la meme station :-( ',\n",
       " 'cycliste_azeqs,0008, 1496170628.52,velo defaillant <0.3, rendu a la meme station :-( ',\n",
       " 'cycliste_azuic,0015, 1496170630.12,velo defaillant <0.1, rendu a la meme station :-( ',\n",
       " 'cycliste_azob6,0015, 1496170630.19,velo defaillant <0.3, rendu a la meme station :-( ']"
      ]
     },
     "execution_count": 93,
     "metadata": {},
     "output_type": "execute_result"
    }
   ],
   "source": [
    "cinq_virgules_non_impossible.take(4)"
   ]
  },
  {
   "cell_type": "code",
   "execution_count": 94,
   "metadata": {},
   "outputs": [
    {
     "data": {
      "text/plain": [
       "5948"
      ]
     },
     "execution_count": 94,
     "metadata": {},
     "output_type": "execute_result"
    }
   ],
   "source": [
    "logs_tristes = cinq_virgules_non_impossible.filter(lambda log: \":-(\" in log)\n",
    "logs_tristes.count()"
   ]
  },
  {
   "cell_type": "code",
   "execution_count": 95,
   "metadata": {},
   "outputs": [
    {
     "data": {
      "text/plain": [
       "6008"
      ]
     },
     "execution_count": 95,
     "metadata": {},
     "output_type": "execute_result"
    }
   ],
   "source": [
    "logs_tristes.countApproxDistinct()"
   ]
  },
  {
   "cell_type": "markdown",
   "metadata": {},
   "source": [
    "### 2) cyclistes"
   ]
  },
  {
   "cell_type": "code",
   "execution_count": 96,
   "metadata": {},
   "outputs": [
    {
     "data": {
      "text/plain": [
       "245260"
      ]
     },
     "execution_count": 96,
     "metadata": {},
     "output_type": "execute_result"
    }
   ],
   "source": [
    "cyclistes = logs.filter(lambda log: log.startswith(\"cycliste\"))\n",
    "cyclistes.count()"
   ]
  },
  {
   "cell_type": "code",
   "execution_count": 97,
   "metadata": {},
   "outputs": [
    {
     "data": {
      "text/plain": [
       "['cycliste,n_message,time,message',\n",
       " 'cycliste_aze12,0000, 1496170618.45,station_maison = azupx']"
      ]
     },
     "execution_count": 97,
     "metadata": {},
     "output_type": "execute_result"
    }
   ],
   "source": [
    "sorted_cyclistes = cyclistes.sortBy(lambda x: x)\n",
    "sorted_cyclistes.take(2)"
   ]
  },
  {
   "cell_type": "markdown",
   "metadata": {},
   "source": [
    "# Sample"
   ]
  },
  {
   "cell_type": "code",
   "execution_count": 98,
   "metadata": {},
   "outputs": [],
   "source": [
    "nb_de_ligne_voulu = 10\n",
    "nb_ligne_existant = sorted_cyclistes.count()\n",
    "pourcentage_voulu = nb_de_ligne_voulu/float(nb_ligne_existant)\n",
    "avec_remise       = False"
   ]
  },
  {
   "cell_type": "code",
   "execution_count": 99,
   "metadata": {},
   "outputs": [
    {
     "data": {
      "text/plain": [
       "['cycliste_azew6,0075, 1496170711.89,velo pris sur station azqm0 (elem de station maison)',\n",
       " 'cycliste_azil1,0010, 1496170632.06,velo pris sur station azj70 (elem de station travail)',\n",
       " 'cycliste_aztdg,0032, 1496170658.59,velo rendu sur la station azuf3 ( a la maison = True) (elem de station_maison)',\n",
       " 'cycliste_aztil,0083, 1496170690.23,impossible de rendre sur ,azj70 ( a la maison = True)',\n",
       " 'cycliste_aztmw,0011, 1496170634.77,self.a_la_maison = True',\n",
       " 'cycliste_azufv,0045, 1496170671.76,impossible de rendre sur ,aejv9 ( a la maison = True)',\n",
       " 'cycliste_azup3,0017, 1496170638.41,True a pris le velo velo_aryv1_1496170612.95 sur la station arsb6']"
      ]
     },
     "execution_count": 99,
     "metadata": {},
     "output_type": "execute_result"
    }
   ],
   "source": [
    "sorted_cyclistes.sample(avec_remise, pourcentage_voulu).collect()"
   ]
  },
  {
   "cell_type": "markdown",
   "metadata": {},
   "source": [
    "# Extraire les logs de début et fin de trajet"
   ]
  },
  {
   "cell_type": "code",
   "execution_count": 100,
   "metadata": {},
   "outputs": [
    {
     "data": {
      "text/plain": [
       "['cycliste_aze12,0004, 1496170627.84,velo pris sur station aepf4 (elem de station maison)',\n",
       " 'cycliste_aze12,0008, 1496170629.68,velo rendu sur la station azs58 ( a la maison = False) (elem de station_travail)',\n",
       " 'cycliste_aze12,0011, 1496170633.47,velo pris sur station azk49 (elem de station travail)',\n",
       " 'cycliste_aze12,0015, 1496170634.73,velo rendu sur la station arqh8 ( a la maison = True) (elem de station_maison)',\n",
       " 'cycliste_aze12,0016, 1496170638.5,velo pris sur station arqh8 (elem de station maison)',\n",
       " 'cycliste_aze12,0019, 1496170639.79,velo rendu sur la station aeyu0 ( a la maison = False) (elem de station_travail)',\n",
       " 'cycliste_aze12,0020, 1496170644.37,velo pris sur station azs58 (elem de station travail)',\n",
       " 'cycliste_aze12,0024, 1496170644.37,velo rendu sur la station azs58 ( a la maison = False) (elem de station_travail)',\n",
       " 'cycliste_aze12,0025, 1496170646.53,velo pris sur station azk49 (elem de station travail)',\n",
       " 'cycliste_aze12,0028, 1496170647.95,velo rendu sur la station aei34 ( a la maison = True) (elem de station_maison)']"
      ]
     },
     "execution_count": 100,
     "metadata": {},
     "output_type": "execute_result"
    }
   ],
   "source": [
    "filtre = lambda log: \"velo rendu\" in log or \"velo pris\" in log \n",
    "debut_fin_trajet = sorted_cyclistes.filter(filtre)\n",
    "debut_fin_trajet.take(10)"
   ]
  },
  {
   "cell_type": "markdown",
   "metadata": {},
   "source": [
    "# Extraire les heures de logs"
   ]
  },
  {
   "cell_type": "code",
   "execution_count": 101,
   "metadata": {
    "collapsed": true
   },
   "outputs": [],
   "source": [
    "def get_cycliste_et_timestamp_du_log(log):\n",
    "    data      = log.split(\",\")\n",
    "    cycliste  = data[0]\n",
    "    timestamp = float(data[2])\n",
    "    return (cycliste, timestamp)\n"
   ]
  },
  {
   "cell_type": "code",
   "execution_count": 102,
   "metadata": {},
   "outputs": [
    {
     "data": {
      "text/plain": [
       "[('cycliste_aze12', 1496170627.84),\n",
       " ('cycliste_aze12', 1496170629.68),\n",
       " ('cycliste_aze12', 1496170633.47),\n",
       " ('cycliste_aze12', 1496170634.73),\n",
       " ('cycliste_aze12', 1496170638.5),\n",
       " ('cycliste_aze12', 1496170639.79),\n",
       " ('cycliste_aze12', 1496170644.37),\n",
       " ('cycliste_aze12', 1496170644.37),\n",
       " ('cycliste_aze12', 1496170646.53),\n",
       " ('cycliste_aze12', 1496170647.95),\n",
       " ('cycliste_aze12', 1496170651.74),\n",
       " ('cycliste_aze12', 1496170653.28),\n",
       " ('cycliste_aze12', 1496170657.22),\n",
       " ('cycliste_aze12', 1496170657.22),\n",
       " ('cycliste_aze12', 1496170660.07),\n",
       " ('cycliste_aze12', 1496170661.29),\n",
       " ('cycliste_aze12', 1496170665.3),\n",
       " ('cycliste_aze12', 1496170666.58),\n",
       " ('cycliste_aze12', 1496170670.43),\n",
       " ('cycliste_aze12', 1496170671.67),\n",
       " ('cycliste_aze12', 1496170675.56),\n",
       " ('cycliste_aze12', 1496170676.85),\n",
       " ('cycliste_aze12', 1496170680.89)]"
      ]
     },
     "execution_count": 102,
     "metadata": {},
     "output_type": "execute_result"
    }
   ],
   "source": [
    "cycliste_timestamps = debut_fin_trajet.map(get_cycliste_et_timestamp_du_log)\n",
    "cycliste_timestamps.take(23)"
   ]
  },
  {
   "cell_type": "markdown",
   "metadata": {},
   "source": [
    "# grouper les durées par cycliste"
   ]
  },
  {
   "cell_type": "code",
   "execution_count": 103,
   "metadata": {},
   "outputs": [],
   "source": [
    "timestamps_par_cycliste = cycliste_timestamps.groupByKey()"
   ]
  },
  {
   "cell_type": "markdown",
   "metadata": {},
   "source": [
    "# Calculer les délais entre deux timestamp"
   ]
  },
  {
   "cell_type": "code",
   "execution_count": 104,
   "metadata": {
    "collapsed": true
   },
   "outputs": [],
   "source": [
    "def diff_timestamp(liste):\n",
    "    \"\"\"\n",
    "    Retourne une liste de delta !\n",
    "    \"\"\"\n",
    "    timestamps = liste\n",
    "    r          = []\n",
    "    values     = []\n",
    "    for indice, valeur in enumerate(sorted(timestamps)):\n",
    "        values.append(float(valeur))\n",
    "        if indice>0:\n",
    "            delta = values[indice] - values[indice-1]\n",
    "            r.append(delta)\n",
    "    return r"
   ]
  },
  {
   "cell_type": "code",
   "execution_count": 105,
   "metadata": {},
   "outputs": [
    {
     "data": {
      "text/plain": [
       "[('cycliste_aze12',\n",
       "  [1.8400001525878906,\n",
       "   3.7899999618530273,\n",
       "   1.2599999904632568,\n",
       "   3.7699999809265137,\n",
       "   1.2899999618530273,\n",
       "   4.579999923706055,\n",
       "   0.0,\n",
       "   2.1600000858306885,\n",
       "   1.4200000762939453,\n",
       "   3.7899999618530273,\n",
       "   1.5399999618530273,\n",
       "   3.940000057220459,\n",
       "   0.0,\n",
       "   2.8499999046325684,\n",
       "   1.2200000286102295,\n",
       "   4.009999990463257,\n",
       "   1.2799999713897705,\n",
       "   3.8500001430511475,\n",
       "   1.2400000095367432,\n",
       "   3.8899998664855957,\n",
       "   1.2899999618530273,\n",
       "   4.0400002002716064,\n",
       "   1.3799998760223389,\n",
       "   4.049999952316284,\n",
       "   1.2999999523162842,\n",
       "   3.9800000190734863,\n",
       "   1.2800002098083496,\n",
       "   3.8999998569488525,\n",
       "   0.0,\n",
       "   2.7699999809265137,\n",
       "   0.0,\n",
       "   2.559999942779541,\n",
       "   1.3400001525878906,\n",
       "   3.950000047683716,\n",
       "   1.2799999713897705,\n",
       "   4.019999980926514,\n",
       "   1.3399999141693115,\n",
       "   4.1000001430511475,\n",
       "   1.3499999046325684,\n",
       "   3.940000057220459,\n",
       "   1.3499999046325684]),\n",
       " ('cycliste_aze14',\n",
       "  [1.9600000381469727,\n",
       "   3.669999837875366,\n",
       "   1.380000114440918,\n",
       "   3.700000047683716,\n",
       "   1.3599998950958252,\n",
       "   4.519999980926514,\n",
       "   1.380000114440918,\n",
       "   3.879999876022339,\n",
       "   1.2100000381469727,\n",
       "   4.049999952316284,\n",
       "   0.009999990463256836,\n",
       "   2.31000018119812,\n",
       "   1.4799997806549072,\n",
       "   3.760000228881836,\n",
       "   0.009999990463256836,\n",
       "   2.8499999046325684,\n",
       "   1.3399999141693115,\n",
       "   3.7899999618530273,\n",
       "   1.2900002002716064,\n",
       "   3.8299999237060547,\n",
       "   1.3599998950958252,\n",
       "   3.9700000286102295,\n",
       "   1.4500000476837158,\n",
       "   3.9800000190734863,\n",
       "   1.3599998950958252,\n",
       "   3.930000066757202,\n",
       "   1.3299999237060547,\n",
       "   3.8500001430511475,\n",
       "   0.0,\n",
       "   2.740000009536743,\n",
       "   1.440000057220459,\n",
       "   3.8499999046325684,\n",
       "   1.440000057220459,\n",
       "   3.809999942779541,\n",
       "   1.4600000381469727,\n",
       "   4.009999990463257,\n",
       "   1.4500000476837158,\n",
       "   3.8499999046325684,\n",
       "   0.0,\n",
       "   2.5999999046325684,\n",
       "   1.4000000953674316]),\n",
       " ('cycliste_aze17',\n",
       "  [0.8499999046325684,\n",
       "   4.840000152587891,\n",
       "   0.5299999713897705,\n",
       "   5.0299999713897705,\n",
       "   0.7000000476837158,\n",
       "   5.25,\n",
       "   3.419999837875366,\n",
       "   4.700000047683716,\n",
       "   0.6000001430511475,\n",
       "   4.549999952316284,\n",
       "   0.6699998378753662,\n",
       "   4.6600000858306885,\n",
       "   0.0,\n",
       "   2.559999942779541,\n",
       "   0.6200001239776611,\n",
       "   4.509999990463257,\n",
       "   3.2200000286102295,\n",
       "   4.7799999713897705,\n",
       "   0.6499998569488525,\n",
       "   4.740000009536743,\n",
       "   3.1700000762939453,\n",
       "   4.670000076293945,\n",
       "   0.619999885559082,\n",
       "   4.7799999713897705,\n",
       "   0.6400001049041748,\n",
       "   4.629999876022339,\n",
       "   0.6800000667572021,\n",
       "   4.610000133514404,\n",
       "   0.6499998569488525,\n",
       "   4.809999942779541,\n",
       "   0.6600000858306885,\n",
       "   4.599999904632568,\n",
       "   0.6600000858306885,\n",
       "   4.6600000858306885]),\n",
       " ('cycliste_aze20',\n",
       "  [341.97000002861023,\n",
       "   4.190000057220459,\n",
       "   1.8899998664855957,\n",
       "   3.200000047683716,\n",
       "   2.120000123977661,\n",
       "   2.93999981880188,\n",
       "   2.8000001907348633,\n",
       "   3.1499998569488525,\n",
       "   2.700000047683716,\n",
       "   0.0,\n",
       "   2.6700000762939453,\n",
       "   2.2799999713897705,\n",
       "   3.0399999618530273,\n",
       "   2.299999952316284,\n",
       "   2.9200000762939453,\n",
       "   2.319999933242798,\n",
       "   2.9800000190734863,\n",
       "   2.259999990463257,\n",
       "   2.819999933242798,\n",
       "   2.2799999713897705,\n",
       "   2.9200000762939453,\n",
       "   2.2699999809265137,\n",
       "   3.140000104904175,\n",
       "   2.3299999237060547,\n",
       "   3.0299999713897705,\n",
       "   2.2799999713897705,\n",
       "   2.9700000286102295,\n",
       "   2.309999942779541,\n",
       "   3.0,\n",
       "   2.430000066757202,\n",
       "   2.830000162124634,\n",
       "   2.4599997997283936,\n",
       "   2.7799999713897705,\n",
       "   2.490000009536743,\n",
       "   2.890000104904175,\n",
       "   2.559999942779541,\n",
       "   2.880000114440918,\n",
       "   2.3899998664855957,\n",
       "   2.9100000858306885]),\n",
       " ('cycliste_aze24',\n",
       "  [3.950000047683716,\n",
       "   2.1600000858306885,\n",
       "   2.919999837875366,\n",
       "   2.370000123977661,\n",
       "   2.700000047683716,\n",
       "   3.069999933242798,\n",
       "   2.879999876022339,\n",
       "   2.9200000762939453,\n",
       "   2.1700000762939453,\n",
       "   3.169999837875366,\n",
       "   2.1500000953674316,\n",
       "   3.119999885559082,\n",
       "   2.1000001430511475,\n",
       "   3.119999885559082,\n",
       "   2.1700000762939453,\n",
       "   3.059999942779541,\n",
       "   2.0299999713897705,\n",
       "   3.0500001907348633,\n",
       "   2.129999876022339,\n",
       "   3.069999933242798,\n",
       "   2.3500001430511475,\n",
       "   3.129999876022339,\n",
       "   2.2100000381469727,\n",
       "   3.1000001430511475,\n",
       "   2.1599998474121094,\n",
       "   3.0900001525878906,\n",
       "   2.2299997806549072,\n",
       "   3.180000066757202,\n",
       "   2.0900001525878906,\n",
       "   3.2099997997283936,\n",
       "   0.0,\n",
       "   2.430000066757202,\n",
       "   2.3499999046325684,\n",
       "   3.0300002098083496,\n",
       "   2.429999828338623,\n",
       "   3.0,\n",
       "   2.259999990463257,\n",
       "   3.0400002002716064])]"
      ]
     },
     "execution_count": 105,
     "metadata": {},
     "output_type": "execute_result"
    }
   ],
   "source": [
    "delais_par_cyclistes = timestamps_par_cycliste.mapValues(diff_timestamp)\n",
    "delais_par_cyclistes.take(5) # tableau de tuples comprenant une liste"
   ]
  },
  {
   "cell_type": "markdown",
   "metadata": {},
   "source": [
    "# Sommer les délais pour chaque cycliste"
   ]
  },
  {
   "cell_type": "code",
   "execution_count": 107,
   "metadata": {},
   "outputs": [
    {
     "name": "stdout",
     "output_type": "stream",
     "text": [
      "--------------\n",
      "cycliste_aze12\n",
      "np.min(durees) = 0.00\n",
      "np.max(durees) = 4.58\n",
      "np.mean(durees)= 2.36\n",
      "np.sum(durees) = 96.94\n",
      "--------------\n",
      "cycliste_aze14\n",
      "np.min(durees) = 0.00\n",
      "np.max(durees) = 4.52\n",
      "np.mean(durees)= 2.37\n",
      "np.sum(durees) = 97.06\n",
      "--------------\n",
      "cycliste_aze17\n",
      "np.min(durees) = 0.00\n",
      "np.max(durees) = 5.25\n",
      "np.mean(durees)= 2.84\n",
      "np.sum(durees) = 96.72\n"
     ]
    }
   ],
   "source": [
    "import numpy as np\n",
    "delais_concatenes = delais_par_cyclistes.reduceByKey(concatenation_de_liste)\n",
    "infos             = delais_concatenes.take(3)\n",
    "for id_cycliste, durees in infos:\n",
    "    print (\"--------------\")\n",
    "    print (id_cycliste)\n",
    "    print (\"np.min(durees) = %.2f\"%np.min(durees))\n",
    "    print (\"np.max(durees) = %.2f\"%np.max(durees))\n",
    "    print (\"np.mean(durees)= %.2f\"%np.mean(durees))\n",
    "    print (\"np.sum(durees) = %.2f\"%np.sum(durees))"
   ]
  },
  {
   "cell_type": "code",
   "execution_count": 108,
   "metadata": {},
   "outputs": [
    {
     "data": {
      "text/plain": [
       "MapPartitionsRDD[160] at mapPartitions at PythonRDD.scala:422"
      ]
     },
     "execution_count": 108,
     "metadata": {},
     "output_type": "execute_result"
    }
   ],
   "source": [
    "delais_concatenes.partitionBy(100)"
   ]
  },
  {
   "cell_type": "code",
   "execution_count": 109,
   "metadata": {},
   "outputs": [],
   "source": [
    "temps_de_parcours = delais_par_cyclistes.mapValues(lambda x:sum(x))"
   ]
  },
  {
   "cell_type": "code",
   "execution_count": 110,
   "metadata": {},
   "outputs": [
    {
     "data": {
      "text/plain": [
       "[('cycliste_azrf2', 96.3899998664856),\n",
       " ('cycliste_azrf4', 0),\n",
       " ('cycliste_azrf5', 98.32999992370605),\n",
       " ('cycliste_azrf8', 99.37999987602234),\n",
       " ('cycliste_azrfc', 439.7699999809265)]"
      ]
     },
     "execution_count": 110,
     "metadata": {},
     "output_type": "execute_result"
    }
   ],
   "source": [
    "temps_de_parcours.take(5)"
   ]
  },
  {
   "cell_type": "markdown",
   "metadata": {},
   "source": [
    "# ... d'un partitionnement vers le même partitionnement"
   ]
  },
  {
   "cell_type": "code",
   "execution_count": 111,
   "metadata": {
    "collapsed": true
   },
   "outputs": [],
   "source": [
    "liste_par_defaut   = []"
   ]
  },
  {
   "cell_type": "code",
   "execution_count": 112,
   "metadata": {},
   "outputs": [
    {
     "data": {
      "text/plain": [
       "[('cycliste_aze12', [2.3643902452980599]),\n",
       " ('cycliste_aze14', [2.3673170717751106]),\n",
       " ('cycliste_aze17', [2.8447058831944183])]"
      ]
     },
     "execution_count": 112,
     "metadata": {},
     "output_type": "execute_result"
    }
   ],
   "source": [
    "moyenne_ou_rien = lambda default,liste   : [np.mean(liste)] if liste else default \n",
    "\n",
    "duree_moyenne_par_cycliste = delais_concatenes.aggregateByKey(  liste_par_defaut ,\n",
    "                                                                moyenne_ou_rien  ,\n",
    "                                                                moyenne_de_liste )\n",
    "\n",
    "duree_moyenne_par_cycliste.take(3)"
   ]
  },
  {
   "cell_type": "code",
   "execution_count": 113,
   "metadata": {},
   "outputs": [
    {
     "data": {
      "text/plain": [
       "[('cycliste_azrf2', [4.8600001335144043]),\n",
       " ('cycliste_azrf4', []),\n",
       " ('cycliste_azrf5', [4.559999942779541])]"
      ]
     },
     "execution_count": 113,
     "metadata": {},
     "output_type": "execute_result"
    }
   ],
   "source": [
    "max_ou_rien = lambda default,liste   : [np.max(liste)] if liste else default \n",
    "\n",
    "duree_max_par_cycliste = delais_concatenes.aggregateByKey(  liste_par_defaut ,\n",
    "                                                                max_ou_rien  ,\n",
    "                                                                max_de_liste )\n",
    "\n",
    "duree_max_par_cycliste.take(3)"
   ]
  }
 ],
 "metadata": {
  "anaconda-cloud": {},
  "kernelspec": {
   "display_name": "Python 3",
   "language": "python",
   "name": "python3"
  },
  "language_info": {
   "codemirror_mode": {
    "name": "ipython",
    "version": 3
   },
   "file_extension": ".py",
   "mimetype": "text/x-python",
   "name": "python",
   "nbconvert_exporter": "python",
   "pygments_lexer": "ipython3",
   "version": "3.6.3"
  }
 },
 "nbformat": 4,
 "nbformat_minor": 1
}
