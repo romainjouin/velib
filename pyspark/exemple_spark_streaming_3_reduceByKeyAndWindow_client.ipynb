{
 "cells": [
  {
   "cell_type": "code",
   "execution_count": 13,
   "metadata": {
    "collapsed": true
   },
   "outputs": [],
   "source": [
    "import findspark\n",
    "findspark.init()\n",
    "# Spark:\n",
    "from pyspark     import SparkConf\n",
    "from pyspark     import SparkContext\n",
    "from pyspark.sql import SparkSession\n",
    "from pyspark.ml import PipelineModel\n",
    "# Python :\n",
    "from datetime import datetime\n",
    "import math\n",
    "from pyspark.streaming import StreamingContext\n",
    "\n",
    "listen_to_ip   = \"54.37.12.49\"\n",
    "listen_to_port = 12012\n",
    "\n",
    "current_date   = datetime.now().strftime(\"%Y-%m-%d %H:%M\")\n",
    "user           = \"romain - exemple saprk streaming\"\n",
    "appName        = \"%s le %s\"%(user, current_date)\n",
    "ip_fares       = \"54.37.12.49\"\n",
    "master         = \"spark://54.37.12.49:7077\"\n",
    "executor_cores = 2 \n",
    "nb_cores_max   = 10\n",
    "parallelism    = 4 * executor_cores\n",
    "memory_by_node = \"200M\"\n",
    "nb_executor    = nb_cores_max//executor_cores\n",
    "dico_conf      = { \"spark.app.name\"             : appName        ,\n",
    "                   \"spark.master\"               : master         ,\n",
    "                   \"spark.cores.max\"            : nb_cores_max   , \n",
    "                   \"spark.executor.cores\"       : executor_cores ,\n",
    "                   \"spark.default.parallelism\"  : parallelism    , \n",
    "                  #\"spark.python.worker.memory\" : memory_by_node ,\n",
    "                   \"spark.python.executor.memory\" : memory_by_node }\n",
    "\n",
    "conf = SparkConf()\n",
    "for k,v in dico_conf.items():\n",
    "    conf = conf.set(k,v)\n",
    "sc = SparkContext.getOrCreate(conf=conf)\n",
    "\n",
    "batch_duration = 1\n",
    "ssc         = StreamingContext(sc, bacth_duration)\n",
    "dstream     = ssc.socketTextStream(listen_to_ip, listen_to_port)"
   ]
  },
  {
   "cell_type": "code",
   "execution_count": 14,
   "metadata": {
    "collapsed": true
   },
   "outputs": [],
   "source": [
    "ssc.checkpoint(\"hdfs://54.37.12.49:8020/spark_streaming_checkpoint/\")"
   ]
  },
  {
   "cell_type": "code",
   "execution_count": 15,
   "metadata": {
    "collapsed": true
   },
   "outputs": [],
   "source": [
    "def update_achats(nouvelles_valeurs, valeur_actuelle ):\n",
    "    if valeur_actuelle is None:\n",
    "        valeur_actuelle = 0\n",
    "    return sum(nouvelles_valeurs, valeur_actuelle)\n",
    "        "
   ]
  },
  {
   "cell_type": "code",
   "execution_count": 16,
   "metadata": {
    "collapsed": true
   },
   "outputs": [],
   "source": [
    "data            = dstream.map(lambda x: x.split(\",\"))\n",
    "clients_facture = data.map(lambda x: (x[0], float(x[1])*float(x[2])))\n"
   ]
  },
  {
   "cell_type": "code",
   "execution_count": 17,
   "metadata": {},
   "outputs": [],
   "source": [
    "# on veut savoir toutes les 5 secondes, ce qu'ils ont acheté pendant les 10 dernières secondes\n",
    "update_client   = clients_facture.reduceByKeyAndWindow(lambda x,y : x+y, \n",
    "                                                       lambda x,y : x+y, \n",
    "                                                       windowDuration = batch_duration*10, \n",
    "                                                       slideDuration  = batch_duration*5 )\n",
    "update_client.pprint()"
   ]
  },
  {
   "cell_type": "markdown",
   "metadata": {},
   "source": [
    "# 9) activer l'écoute sur la socket"
   ]
  },
  {
   "cell_type": "code",
   "execution_count": 18,
   "metadata": {
    "scrolled": true
   },
   "outputs": [
    {
     "name": "stdout",
     "output_type": "stream",
     "text": [
      "-------------------------------------------\n",
      "Time: 2018-02-26 14:58:01\n",
      "-------------------------------------------\n",
      "('client_c', 1139.0)\n",
      "('client_b', 1410.0)\n",
      "('client_a', 743.0)\n",
      "('client_d', 1049.0)\n",
      "\n",
      "-------------------------------------------\n",
      "Time: 2018-02-26 14:58:06\n",
      "-------------------------------------------\n",
      "('client_c', 2196.0)\n",
      "('client_b', 2932.0)\n",
      "('client_a', 2801.0)\n",
      "('client_d', 3215.0)\n",
      "\n",
      "-------------------------------------------\n",
      "Time: 2018-02-26 14:58:11\n",
      "-------------------------------------------\n",
      "('client_c', 3287.0)\n",
      "('client_b', 3291.0)\n",
      "('client_a', 2693.0)\n",
      "('client_d', 3382.0)\n",
      "\n",
      "-------------------------------------------\n",
      "Time: 2018-02-26 14:58:16\n",
      "-------------------------------------------\n",
      "('client_c', 3007.0)\n",
      "('client_b', 3653.0)\n",
      "('client_a', 3034.0)\n",
      "('client_d', 2852.0)\n",
      "\n",
      "-------------------------------------------\n",
      "Time: 2018-02-26 14:58:21\n",
      "-------------------------------------------\n",
      "('client_c', 2084.0)\n",
      "('client_b', 3358.0)\n",
      "('client_a', 4568.0)\n",
      "('client_d', 2714.0)\n",
      "\n",
      "-------------------------------------------\n",
      "Time: 2018-02-26 14:58:26\n",
      "-------------------------------------------\n",
      "('client_c', 2895.0)\n",
      "('client_b', 3243.0)\n",
      "('client_a', 3622.0)\n",
      "('client_d', 2897.0)\n",
      "\n",
      "-------------------------------------------\n",
      "Time: 2018-02-26 14:58:31\n",
      "-------------------------------------------\n",
      "('client_c', 3608.0)\n",
      "('client_b', 3687.0)\n",
      "('client_a', 2418.0)\n",
      "('client_d', 3094.0)\n",
      "\n",
      "-------------------------------------------\n",
      "Time: 2018-02-26 14:58:36\n",
      "-------------------------------------------\n",
      "('client_c', 2795.0)\n",
      "('client_b', 3685.0)\n",
      "('client_a', 2013.0)\n",
      "('client_d', 3925.0)\n",
      "\n",
      "-------------------------------------------\n",
      "Time: 2018-02-26 14:58:41\n",
      "-------------------------------------------\n",
      "('client_c', 1138.0)\n",
      "('client_b', 2966.0)\n",
      "('client_a', 2753.0)\n",
      "('client_d', 4908.0)\n",
      "\n",
      "-------------------------------------------\n",
      "Time: 2018-02-26 14:58:46\n",
      "-------------------------------------------\n",
      "('client_c', 2469.0)\n",
      "('client_b', 2281.0)\n",
      "('client_a', 3871.0)\n",
      "('client_d', 2805.0)\n",
      "\n",
      "-------------------------------------------\n",
      "Time: 2018-02-26 14:58:51\n",
      "-------------------------------------------\n",
      "('client_c', 2106.0)\n",
      "('client_b', 1082.0)\n",
      "('client_a', 2166.0)\n",
      "('client_d', 547.0)\n",
      "\n",
      "-------------------------------------------\n",
      "Time: 2018-02-26 14:58:56\n",
      "-------------------------------------------\n",
      "\n",
      "-------------------------------------------\n",
      "Time: 2018-02-26 14:59:01\n",
      "-------------------------------------------\n",
      "\n",
      "-------------------------------------------\n",
      "Time: 2018-02-26 14:59:06\n",
      "-------------------------------------------\n",
      "\n"
     ]
    }
   ],
   "source": [
    "ssc.start()"
   ]
  },
  {
   "cell_type": "code",
   "execution_count": 19,
   "metadata": {},
   "outputs": [
    {
     "name": "stdout",
     "output_type": "stream",
     "text": [
      "-------------------------------------------\n",
      "Time: 2018-02-26 14:59:11\n",
      "-------------------------------------------\n",
      "\n"
     ]
    }
   ],
   "source": [
    "ssc.stop(False, True)"
   ]
  },
  {
   "cell_type": "code",
   "execution_count": null,
   "metadata": {
    "collapsed": true
   },
   "outputs": [],
   "source": []
  }
 ],
 "metadata": {
  "anaconda-cloud": {},
  "kernelspec": {
   "display_name": "Python 3",
   "language": "python",
   "name": "python3"
  },
  "language_info": {
   "codemirror_mode": {
    "name": "ipython",
    "version": 3
   },
   "file_extension": ".py",
   "mimetype": "text/x-python",
   "name": "python",
   "nbconvert_exporter": "python",
   "pygments_lexer": "ipython3",
   "version": "3.6.3"
  }
 },
 "nbformat": 4,
 "nbformat_minor": 1
}
