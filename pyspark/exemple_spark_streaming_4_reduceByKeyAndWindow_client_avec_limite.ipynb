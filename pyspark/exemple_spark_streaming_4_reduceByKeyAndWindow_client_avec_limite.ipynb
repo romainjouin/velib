{
 "cells": [
  {
   "cell_type": "code",
   "execution_count": 18,
   "metadata": {},
   "outputs": [],
   "source": [
    "import findspark\n",
    "findspark.init()\n",
    "# Spark:\n",
    "from pyspark     import SparkConf\n",
    "from pyspark     import SparkContext\n",
    "from pyspark.sql import SparkSession\n",
    "from pyspark.ml import PipelineModel\n",
    "# Python :\n",
    "from datetime import datetime\n",
    "import math\n",
    "from pyspark.streaming import StreamingContext\n",
    "\n",
    "listen_to_ip   = \"54.37.12.49\"\n",
    "listen_to_port = 12014\n",
    "\n",
    "current_date   = datetime.now().strftime(\"%Y-%m-%d %H:%M\")\n",
    "user           = \"romain - exemple saprk streaming\"\n",
    "appName        = \"%s le %s\"%(user, current_date)\n",
    "ip_fares       = \"54.37.12.49\"\n",
    "master         = \"spark://54.37.12.49:7077\"\n",
    "executor_cores = 2 \n",
    "nb_cores_max   = 10\n",
    "parallelism    = 4 * executor_cores\n",
    "memory_by_node = \"200M\"\n",
    "nb_executor    = nb_cores_max//executor_cores\n",
    "dico_conf      = { \"spark.app.name\"             : appName        ,\n",
    "                   \"spark.master\"               : master         ,\n",
    "                   \"spark.cores.max\"            : nb_cores_max   , \n",
    "                   \"spark.executor.cores\"       : executor_cores ,\n",
    "                   \"spark.default.parallelism\"  : parallelism    , \n",
    "                  #\"spark.python.worker.memory\" : memory_by_node ,\n",
    "                   \"spark.python.executor.memory\" : memory_by_node }\n",
    "\n",
    "conf = SparkConf()\n",
    "for k,v in dico_conf.items():\n",
    "    conf = conf.set(k,v)\n",
    "sc = SparkContext.getOrCreate(conf=conf)\n",
    "\n",
    "batch_duration = 1\n",
    "ssc         = StreamingContext(sc, batch_duration)\n",
    "dstream     = ssc.socketTextStream(listen_to_ip, listen_to_port)"
   ]
  },
  {
   "cell_type": "code",
   "execution_count": 19,
   "metadata": {},
   "outputs": [],
   "source": [
    "ssc.checkpoint(\"hdfs://54.37.12.49:8020/spark_streaming_checkpoint/\")"
   ]
  },
  {
   "cell_type": "code",
   "execution_count": 20,
   "metadata": {
    "collapsed": true
   },
   "outputs": [],
   "source": [
    "def update_achats(nouvelles_valeurs, valeur_actuelle ):\n",
    "    if valeur_actuelle is None:\n",
    "        valeur_actuelle = 0\n",
    "    return sum(nouvelles_valeurs, valeur_actuelle)\n",
    "        "
   ]
  },
  {
   "cell_type": "code",
   "execution_count": 21,
   "metadata": {
    "collapsed": true
   },
   "outputs": [],
   "source": [
    "data            = dstream.map(lambda x: x.split(\",\"))\n",
    "clients_facture = data.map(lambda x: (x[0], float(x[1])*float(x[2])))\n"
   ]
  },
  {
   "cell_type": "code",
   "execution_count": 22,
   "metadata": {},
   "outputs": [],
   "source": [
    "# on veut savoir toutes les 5 secondes, ce qu'ils ont acheté pendant les 10 dernières secondes\n",
    "limite = 3000\n",
    "update_client   = clients_facture.reduceByKeyAndWindow(func           = lambda x,y : x+y, \n",
    "                                                       invFunc        = lambda x,y : x+y,\n",
    "                                                       windowDuration = batch_duration*10, \n",
    "                                                       slideDuration  = batch_duration*5 )\n",
    "client_avec_plus_de_3k_d_achat = update_client.filter(lambda x: x[1]>limite)\n",
    "client_avec_plus_de_3k_d_achat.pprint()"
   ]
  },
  {
   "cell_type": "markdown",
   "metadata": {},
   "source": [
    "# 9) activer l'écoute sur la socket"
   ]
  },
  {
   "cell_type": "code",
   "execution_count": 23,
   "metadata": {
    "scrolled": true
   },
   "outputs": [
    {
     "name": "stdout",
     "output_type": "stream",
     "text": [
      "-------------------------------------------\n",
      "Time: 2018-02-26 15:27:35\n",
      "-------------------------------------------\n",
      "\n",
      "-------------------------------------------\n",
      "Time: 2018-02-26 15:27:40\n",
      "-------------------------------------------\n",
      "('client_c', 4068.0)\n",
      "\n",
      "-------------------------------------------\n",
      "Time: 2018-02-26 15:27:45\n",
      "-------------------------------------------\n",
      "('client_b', 3520.0)\n",
      "('client_a', 3306.0)\n",
      "\n",
      "-------------------------------------------\n",
      "Time: 2018-02-26 15:27:50\n",
      "-------------------------------------------\n",
      "('client_b', 3561.0)\n",
      "('client_a', 4441.0)\n",
      "('client_d', 3178.0)\n",
      "\n",
      "-------------------------------------------\n",
      "Time: 2018-02-26 15:27:55\n",
      "-------------------------------------------\n",
      "('client_c', 3483.0)\n",
      "('client_a', 4079.0)\n",
      "\n",
      "-------------------------------------------\n",
      "Time: 2018-02-26 15:28:00\n",
      "-------------------------------------------\n",
      "('client_c', 4182.0)\n",
      "\n",
      "-------------------------------------------\n",
      "Time: 2018-02-26 15:28:05\n",
      "-------------------------------------------\n",
      "('client_d', 5157.0)\n",
      "\n",
      "-------------------------------------------\n",
      "Time: 2018-02-26 15:28:10\n",
      "-------------------------------------------\n",
      "('client_d', 4556.0)\n",
      "\n",
      "-------------------------------------------\n",
      "Time: 2018-02-26 15:28:15\n",
      "-------------------------------------------\n",
      "('client_b', 3109.0)\n",
      "('client_d', 3299.0)\n",
      "\n"
     ]
    }
   ],
   "source": [
    "ssc.start()"
   ]
  },
  {
   "cell_type": "code",
   "execution_count": 12,
   "metadata": {},
   "outputs": [
    {
     "name": "stdout",
     "output_type": "stream",
     "text": [
      "-------------------------------------------\n",
      "Time: 2018-02-26 15:12:45\n",
      "-------------------------------------------\n",
      "('client_c', 2717.0)\n",
      "('client_b', 3064.0)\n",
      "('client_a', 3164.0)\n",
      "('client_d', 4148.0)\n",
      "\n"
     ]
    }
   ],
   "source": [
    "ssc.stop(False, True)"
   ]
  },
  {
   "cell_type": "code",
   "execution_count": null,
   "metadata": {
    "collapsed": true
   },
   "outputs": [],
   "source": []
  }
 ],
 "metadata": {
  "anaconda-cloud": {},
  "kernelspec": {
   "display_name": "Python 3",
   "language": "python",
   "name": "python3"
  },
  "language_info": {
   "codemirror_mode": {
    "name": "ipython",
    "version": 3
   },
   "file_extension": ".py",
   "mimetype": "text/x-python",
   "name": "python",
   "nbconvert_exporter": "python",
   "pygments_lexer": "ipython3",
   "version": "3.6.3"
  }
 },
 "nbformat": 4,
 "nbformat_minor": 1
}
