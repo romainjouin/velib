{
 "cells": [
  {
   "cell_type": "code",
   "execution_count": 1,
   "metadata": {
    "collapsed": true
   },
   "outputs": [],
   "source": [
    "import findspark\n",
    "findspark.init()\n",
    "# Spark:\n",
    "from pyspark     import SparkConf\n",
    "from pyspark     import SparkContext\n",
    "from pyspark.sql import SparkSession\n",
    "from pyspark.ml import PipelineModel\n",
    "# Python :\n",
    "from datetime import datetime\n",
    "import math\n",
    "from pyspark.streaming import StreamingContext\n",
    "\n",
    "listen_to_ip_caisse_1   = \"54.37.12.49\"\n",
    "listen_to_port_caisse_1 = 12015\n",
    "\n",
    "listen_to_ip_caisse_2   = \"54.37.12.49\"\n",
    "listen_to_port_caisse_2 = 13000\n",
    "\n",
    "\n",
    "current_date   = datetime.now().strftime(\"%Y-%m-%d %H:%M\")\n",
    "user           = \"romain - exemple saprk streaming\"\n",
    "appName        = \"%s le %s\"%(user, current_date)\n",
    "ip_fares       = \"54.37.12.49\"\n",
    "master         = \"spark://54.37.12.49:7077\"\n",
    "executor_cores = 2 \n",
    "nb_cores_max   = 10\n",
    "parallelism    = 4 * executor_cores\n",
    "memory_by_node = \"200M\"\n",
    "nb_executor    = nb_cores_max//executor_cores\n",
    "dico_conf      = { \"spark.app.name\"             : appName        ,\n",
    "                   \"spark.master\"               : master         ,\n",
    "                   \"spark.cores.max\"            : nb_cores_max   , \n",
    "                   \"spark.executor.cores\"       : executor_cores ,\n",
    "                   \"spark.default.parallelism\"  : parallelism    , \n",
    "                  #\"spark.python.worker.memory\" : memory_by_node ,\n",
    "                   \"spark.python.executor.memory\" : memory_by_node }\n",
    "\n",
    "conf = SparkConf()\n",
    "for k,v in dico_conf.items():\n",
    "    conf = conf.set(k,v)\n",
    "sc = SparkContext.getOrCreate(conf=conf)\n",
    "\n",
    "batch_duration = 1\n",
    "ssc                  = StreamingContext(sc, batch_duration)\n",
    "dstream_caisse_1     = ssc.socketTextStream(listen_to_ip_caisse_1, listen_to_port_caisse_1)\n",
    "dstream_caisse_2     = ssc.socketTextStream(listen_to_ip_caisse_2, listen_to_port_caisse_2)\n",
    "dstream = ssc.union(dstream_caisse_1, dstream_caisse_2)"
   ]
  },
  {
   "cell_type": "code",
   "execution_count": 2,
   "metadata": {
    "collapsed": true
   },
   "outputs": [],
   "source": [
    "ssc.checkpoint(\"hdfs://54.37.12.49:8020/spark_streaming_checkpoint/\")"
   ]
  },
  {
   "cell_type": "code",
   "execution_count": 3,
   "metadata": {
    "collapsed": true
   },
   "outputs": [],
   "source": [
    "def update_achats(nouvelles_valeurs, valeur_actuelle ):\n",
    "    if valeur_actuelle is None:\n",
    "        valeur_actuelle = 0\n",
    "    return sum(nouvelles_valeurs, valeur_actuelle)\n",
    "        "
   ]
  },
  {
   "cell_type": "code",
   "execution_count": 4,
   "metadata": {
    "collapsed": true
   },
   "outputs": [],
   "source": []
  },
  {
   "cell_type": "code",
   "execution_count": 5,
   "metadata": {
    "collapsed": true
   },
   "outputs": [],
   "source": [
    "data            = dstream.map(lambda x: x.split(\",\"))\n",
    "clients_facture = data.map(lambda x: (x[0], float(x[1])*float(x[2])))\n"
   ]
  },
  {
   "cell_type": "code",
   "execution_count": 6,
   "metadata": {
    "collapsed": true
   },
   "outputs": [],
   "source": [
    "# on veut savoir toutes les 5 secondes, ce qu'ils ont acheté pendant les 10 dernières secondes\n",
    "limite = 3000\n",
    "update_client   = clients_facture.reduceByKeyAndWindow(func           = lambda x,y : x+y, \n",
    "                                                       invFunc        = lambda x,y : x+y,\n",
    "                                                       windowDuration = batch_duration*10, \n",
    "                                                       slideDuration  = batch_duration*5 )\n",
    "client_avec_plus_de_3k_d_achat = update_client.filter(lambda x: x[1]>limite)\n",
    "client_avec_plus_de_3k_d_achat.pprint()"
   ]
  },
  {
   "cell_type": "markdown",
   "metadata": {},
   "source": [
    "# 9) activer l'écoute sur la socket"
   ]
  },
  {
   "cell_type": "code",
   "execution_count": 7,
   "metadata": {
    "scrolled": true
   },
   "outputs": [
    {
     "name": "stdout",
     "output_type": "stream",
     "text": [
      "-------------------------------------------\n",
      "Time: 2018-02-26 15:35:48\n",
      "-------------------------------------------\n",
      "('client_c', 3028.0)\n",
      "\n",
      "-------------------------------------------\n",
      "Time: 2018-02-26 15:35:53\n",
      "-------------------------------------------\n",
      "('client_c', 8318.0)\n",
      "('client_b', 3638.0)\n",
      "('client_a', 4185.0)\n",
      "('client_d', 4860.0)\n",
      "\n",
      "-------------------------------------------\n",
      "Time: 2018-02-26 15:35:58\n",
      "-------------------------------------------\n",
      "('client_c', 8900.0)\n",
      "('client_b', 5224.0)\n",
      "('client_a', 5664.0)\n",
      "('client_d', 4558.0)\n",
      "\n"
     ]
    }
   ],
   "source": [
    "ssc.start()"
   ]
  },
  {
   "cell_type": "code",
   "execution_count": 8,
   "metadata": {},
   "outputs": [],
   "source": [
    "ssc.stop(False, True)"
   ]
  },
  {
   "cell_type": "code",
   "execution_count": null,
   "metadata": {
    "collapsed": true
   },
   "outputs": [],
   "source": []
  }
 ],
 "metadata": {
  "anaconda-cloud": {},
  "kernelspec": {
   "display_name": "Python 3",
   "language": "python",
   "name": "python3"
  },
  "language_info": {
   "codemirror_mode": {
    "name": "ipython",
    "version": 3
   },
   "file_extension": ".py",
   "mimetype": "text/x-python",
   "name": "python",
   "nbconvert_exporter": "python",
   "pygments_lexer": "ipython3",
   "version": "3.6.3"
  }
 },
 "nbformat": 4,
 "nbformat_minor": 1
}
