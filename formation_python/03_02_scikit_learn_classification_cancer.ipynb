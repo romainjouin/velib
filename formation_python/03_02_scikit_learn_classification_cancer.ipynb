{
 "cells": [
  {
   "cell_type": "markdown",
   "metadata": {},
   "source": [
    "# Scikit Learn"
   ]
  },
  {
   "cell_type": "markdown",
   "metadata": {},
   "source": [
    "## 1) Import de dataset"
   ]
  },
  {
   "cell_type": "code",
   "execution_count": 284,
   "metadata": {
    "collapsed": true
   },
   "outputs": [],
   "source": [
    "from sklearn import datasets"
   ]
  },
  {
   "cell_type": "code",
   "execution_count": 285,
   "metadata": {
    "collapsed": true
   },
   "outputs": [],
   "source": [
    "cancer = datasets.load_breast_cancer()\n",
    "iris = datasets.load_iris()"
   ]
  },
  {
   "cell_type": "code",
   "execution_count": 286,
   "metadata": {
    "collapsed": true
   },
   "outputs": [],
   "source": [
    "dataset = cancer"
   ]
  },
  {
   "cell_type": "code",
   "execution_count": 287,
   "metadata": {
    "collapsed": false
   },
   "outputs": [],
   "source": [
    "X = dataset.data\n",
    "y = dataset.target"
   ]
  },
  {
   "cell_type": "code",
   "execution_count": 288,
   "metadata": {
    "collapsed": false
   },
   "outputs": [
    {
     "name": "stdout",
     "output_type": "stream",
     "text": [
      "Breast Cancer Wisconsin (Diagnostic) Database\n",
      "\n",
      "Notes\n",
      "-----\n",
      "Data Set Characteristics:\n",
      "    :Number of Instances: 569\n",
      "\n",
      "    :Number of Attributes: 30 numeric, predictive attributes and the class\n",
      "\n",
      "    :Attribute Information:\n",
      "        - radius (mean of distances from center to points on the perimeter)\n",
      "        - texture (standard deviation of gray-scale values)\n",
      "        - perimeter\n",
      "        - area\n",
      "        - smoothness (local variation in radius lengths)\n",
      "        - compactness (perimeter^2 / area - 1.0)\n",
      "        - concavity (severity of concave portions of the contour)\n",
      "        - concave points (number of concave portions of the contour)\n",
      "        - symmetry \n",
      "        - fractal dimension (\"coastline approximation\" - 1)\n",
      "        \n",
      "        The mean, standard error, and \"worst\" or largest (mean of the three\n",
      "        largest values) of these features were computed for each image,\n",
      "        resulting in 30 features.  For instance, field 3 is Mean Radius, field\n",
      "        13 is Radius SE, field 23 is Worst Radius.\n",
      "        \n",
      "        - class:\n",
      "                - WDBC-Malignant\n",
      "                - WDBC-Benign\n",
      "\n",
      "    :Summary Statistics:\n",
      "\n",
      "    ===================================== ======= ========\n",
      "                                           Min     Max\n",
      "    ===================================== ======= ========\n",
      "    radius (mean):                         6.981   28.11\n",
      "    texture (mean):                        9.71    39.28\n",
      "    perimeter (mean):                      43.79   188.5\n",
      "    area (mean):                           143.5   2501.0\n",
      "    smoothness (mean):                     0.053   0.163\n",
      "    compactness (mean):                    0.019   0.345\n",
      "    concavity (mean):                      0.0     0.427\n",
      "    concave points (mean):                 0.0     0.201\n",
      "    symmetry (mean):                       0.106   0.304\n",
      "    fractal dimension (mean):              0.05    0.097\n",
      "    radius (standard error):               0.112   2.873\n",
      "    texture (standard error):              0.36    4.885\n",
      "    perimeter (standard error):            0.757   21.98\n",
      "    area (standard error):                 6.802   542.2\n",
      "    smoothness (standard error):           0.002   0.031\n",
      "    compactness (standard error):          0.002   0.135\n",
      "    concavity (standard error):            0.0     0.396\n",
      "    concave points (standard error):       0.0     0.053\n",
      "    symmetry (standard error):             0.008   0.079\n",
      "    fractal dimension (standard error):    0.001   0.03\n",
      "    radius (worst):                        7.93    36.04\n",
      "    texture (worst):                       12.02   49.54\n",
      "    perimeter (worst):                     50.41   251.2\n",
      "    area (worst):                          185.2   4254.0\n",
      "    smoothness (worst):                    0.071   0.223\n",
      "    compactness (worst):                   0.027   1.058\n",
      "    concavity (worst):                     0.0     1.252\n",
      "    concave points (worst):                0.0     0.291\n",
      "    symmetry (worst):                      0.156   0.664\n",
      "    fractal dimension (worst):             0.055   0.208\n",
      "    ===================================== ======= ========\n",
      "\n",
      "    :Missing Attribute Values: None\n",
      "\n",
      "    :Class Distribution: 212 - Malignant, 357 - Benign\n",
      "\n",
      "    :Creator:  Dr. William H. Wolberg, W. Nick Street, Olvi L. Mangasarian\n",
      "\n",
      "    :Donor: Nick Street\n",
      "\n",
      "    :Date: November, 1995\n",
      "\n",
      "This is a copy of UCI ML Breast Cancer Wisconsin (Diagnostic) datasets.\n",
      "https://goo.gl/U2Uwz2\n",
      "\n",
      "Features are computed from a digitized image of a fine needle\n",
      "aspirate (FNA) of a breast mass.  They describe\n",
      "characteristics of the cell nuclei present in the image.\n",
      "A few of the images can be found at\n",
      "http://www.cs.wisc.edu/~street/images/\n",
      "\n",
      "Separating plane described above was obtained using\n",
      "Multisurface Method-Tree (MSM-T) [K. P. Bennett, \"Decision Tree\n",
      "Construction Via Linear Programming.\" Proceedings of the 4th\n",
      "Midwest Artificial Intelligence and Cognitive Science Society,\n",
      "pp. 97-101, 1992], a classification method which uses linear\n",
      "programming to construct a decision tree.  Relevant features\n",
      "were selected using an exhaustive search in the space of 1-4\n",
      "features and 1-3 separating planes.\n",
      "\n",
      "The actual linear program used to obtain the separating plane\n",
      "in the 3-dimensional space is that described in:\n",
      "[K. P. Bennett and O. L. Mangasarian: \"Robust Linear\n",
      "Programming Discrimination of Two Linearly Inseparable Sets\",\n",
      "Optimization Methods and Software 1, 1992, 23-34].\n",
      "\n",
      "This database is also available through the UW CS ftp server:\n",
      "\n",
      "ftp ftp.cs.wisc.edu\n",
      "cd math-prog/cpo-dataset/machine-learn/WDBC/\n",
      "\n",
      "References\n",
      "----------\n",
      "   - W.N. Street, W.H. Wolberg and O.L. Mangasarian. Nuclear feature extraction \n",
      "     for breast tumor diagnosis. IS&T/SPIE 1993 International Symposium on \n",
      "     Electronic Imaging: Science and Technology, volume 1905, pages 861-870, \n",
      "     San Jose, CA, 1993. \n",
      "   - O.L. Mangasarian, W.N. Street and W.H. Wolberg. Breast cancer diagnosis and \n",
      "     prognosis via linear programming. Operations Research, 43(4), pages 570-577, \n",
      "     July-August 1995.\n",
      "   - W.H. Wolberg, W.N. Street, and O.L. Mangasarian. Machine learning techniques\n",
      "     to diagnose breast cancer from fine-needle aspirates. Cancer Letters 77 (1994) \n",
      "     163-171.\n",
      "\n"
     ]
    }
   ],
   "source": [
    "print dataset[\"DESCR\"]"
   ]
  },
  {
   "cell_type": "markdown",
   "metadata": {},
   "source": [
    "## 2) separer le jeu d'apprentissage du jeu de test"
   ]
  },
  {
   "cell_type": "code",
   "execution_count": 265,
   "metadata": {
    "collapsed": true
   },
   "outputs": [],
   "source": [
    "from sklearn.cross_validation import train_test_split\n"
   ]
  },
  {
   "cell_type": "code",
   "execution_count": 266,
   "metadata": {
    "collapsed": true
   },
   "outputs": [],
   "source": [
    "X_train, X_test, y_train, y_test = train_test_split(X, y, test_size=0.33)"
   ]
  },
  {
   "cell_type": "markdown",
   "metadata": {},
   "source": [
    "## 3) Standardiser les valeurs"
   ]
  },
  {
   "cell_type": "code",
   "execution_count": 261,
   "metadata": {
    "collapsed": true
   },
   "outputs": [],
   "source": [
    "from sklearn.preprocessing import StandardScaler\n",
    "scaler = StandardScaler()\n",
    "scaler.fit(X_train)                 # Il ne faut fiter que sur les data d'entrainement\n",
    "X_train = scaler.transform(X_train)\n",
    "X_test  = scaler.transform(X_test)  # apply same transformation to test data"
   ]
  },
  {
   "cell_type": "markdown",
   "metadata": {},
   "source": [
    "## 4) choisir un algo et le tester\n",
    "### exemple : Support Vector Machine"
   ]
  },
  {
   "cell_type": "code",
   "execution_count": 109,
   "metadata": {
    "collapsed": false
   },
   "outputs": [
    {
     "data": {
      "text/plain": [
       "{'C': 1.0,\n",
       " 'cache_size': 200,\n",
       " 'class_weight': None,\n",
       " 'coef0': 0.0,\n",
       " 'decision_function_shape': None,\n",
       " 'degree': 3,\n",
       " 'gamma': 'auto',\n",
       " 'kernel': 'rbf',\n",
       " 'max_iter': -1,\n",
       " 'probability': False,\n",
       " 'random_state': None,\n",
       " 'shrinking': True,\n",
       " 'tol': 0.001,\n",
       " 'verbose': False}"
      ]
     },
     "execution_count": 109,
     "metadata": {},
     "output_type": "execute_result"
    }
   ],
   "source": [
    "from sklearn import svm\n",
    "algorithme = svm.SVC()\n",
    "algorithme.get_params()"
   ]
  },
  {
   "cell_type": "code",
   "execution_count": 110,
   "metadata": {
    "collapsed": false
   },
   "outputs": [
    {
     "data": {
      "text/plain": [
       "array([ 0.52238806,  0.55223881,  0.54545455])"
      ]
     },
     "execution_count": 110,
     "metadata": {},
     "output_type": "execute_result"
    }
   ],
   "source": [
    "from sklearn import cross_validation\n",
    "cross_validation.cross_val_score(algorithme, X, y, n_jobs=-1)"
   ]
  },
  {
   "cell_type": "markdown",
   "metadata": {},
   "source": [
    "## 5) aller au delà des paramètres par défaut avec un grid search"
   ]
  },
  {
   "cell_type": "code",
   "execution_count": 111,
   "metadata": {
    "collapsed": false
   },
   "outputs": [
    {
     "name": "stdout",
     "output_type": "stream",
     "text": [
      "0.94776119403 0.969696969697\n"
     ]
    }
   ],
   "source": [
    "from sklearn import grid_search\n",
    "parameters = {  'gamma' : [0.01, 0.1, 0.5]           ,\n",
    "                 \"probability\" : [True]}\n",
    "grid       = grid_search.GridSearchCV(algorithme, parameters, n_jobs=-1)\n",
    "grid.fit(X_train, y_train)\n",
    "print grid.best_score_, grid.best_estimator_.score(X_test, y_test)\n"
   ]
  },
  {
   "cell_type": "markdown",
   "metadata": {},
   "source": [
    "## 5.1) affiner le grid search"
   ]
  },
  {
   "cell_type": "code",
   "execution_count": 112,
   "metadata": {
    "collapsed": false
   },
   "outputs": [
    {
     "name": "stdout",
     "output_type": "stream",
     "text": [
      "0.94776119403 SVC(C=1.5, cache_size=200, class_weight=None, coef0=0.0,\n",
      "  decision_function_shape=None, degree=3, gamma=0.1, kernel='rbf',\n",
      "  max_iter=-1, probability=False, random_state=None, shrinking=True,\n",
      "  tol=0.001, verbose=False)\n"
     ]
    }
   ],
   "source": [
    "parameters = {  'C'      : [0.5, 1, 1.5]             ,\n",
    "                'gamma'  : [0.5, 0.1, 0.15]      }\n",
    "grid = grid_search.GridSearchCV(svm.SVC(), parameters, n_jobs=-1)\n",
    "grid.fit(X_train, y_train)\n",
    "print grid.best_score_, grid.best_estimator_"
   ]
  },
  {
   "cell_type": "code",
   "execution_count": 113,
   "metadata": {
    "collapsed": false
   },
   "outputs": [
    {
     "name": "stdout",
     "output_type": "stream",
     "text": [
      "0.962686567164 SVC(C=1.5, cache_size=200, class_weight=None, coef0=0.0,\n",
      "  decision_function_shape=None, degree=3, gamma=0.05, kernel='rbf',\n",
      "  max_iter=-1, probability=False, random_state=None, shrinking=True,\n",
      "  tol=0.001, verbose=False)\n"
     ]
    }
   ],
   "source": [
    "parameters = {  'C'      : [1.5, 2, 2.5]   ,\n",
    "                'kernel' : ['rbf', 'poly', 'sigmoid'],\n",
    "                'gamma'  : [ 0.05, 0.10, 0.15] }\n",
    "grid = grid_search.GridSearchCV(svm.SVC(), parameters, n_jobs=-1)\n",
    "grid.fit(X_train, y_train)\n",
    "print grid.best_score_, grid.best_estimator_\n"
   ]
  },
  {
   "cell_type": "code",
   "execution_count": 114,
   "metadata": {
    "collapsed": false
   },
   "outputs": [
    {
     "name": "stdout",
     "output_type": "stream",
     "text": [
      "0.970149253731 SVC(C=3, cache_size=200, class_weight=None, coef0=0.0,\n",
      "  decision_function_shape=None, degree=1, gamma=0.01, kernel='rbf',\n",
      "  max_iter=-1, probability=False, random_state=None, shrinking=True,\n",
      "  tol=0.001, verbose=False)\n"
     ]
    }
   ],
   "source": [
    "parameters = {  'C'       : [2.5, 3, 4]   ,\n",
    "                'kernel'  : ['rbf', 'poly', 'sigmoid'],\n",
    "                'gamma'   : [ 0.01, 0.05, 0.07],\n",
    "                 \"degree\" : [1,3,5]}\n",
    "grid = grid_search.GridSearchCV(svm.SVC(), parameters, n_jobs=-1)\n",
    "grid.fit(X_train, y_train)\n",
    "print grid.best_score_, grid.best_estimator_\n"
   ]
  },
  {
   "cell_type": "markdown",
   "metadata": {},
   "source": [
    "# 6) tester tous les algorithmes"
   ]
  },
  {
   "cell_type": "code",
   "execution_count": 115,
   "metadata": {
    "collapsed": false
   },
   "outputs": [],
   "source": [
    "def get_sklearn_algorithms(verbose = False):\n",
    "    \"\"\"\n",
    "    Explore all submodule of sklearn and fetch functions having a 'fit' attribute.\n",
    "    \n",
    "    Be careful : some functions are not models (ex : crossvalidators)\n",
    "    Parameters :\n",
    "        debug = print or not stuff on console\n",
    "    Return :\n",
    "        dict : { module : [ fit_functions] }\n",
    "    \"\"\"\n",
    "    from collections import defaultdict\n",
    "    import importlib\n",
    "    import sklearn\n",
    "    algos = defaultdict(list)\n",
    "    if verbose : print dir(sklearn)\n",
    "    for nom_module in sklearn.__dict__['__all__']:    \n",
    "        if verbose : print nom_module\n",
    "        try:\n",
    "            to_import = \"sklearn.%s\"%nom_module\n",
    "            module    = importlib.import_module(to_import)\n",
    "            for nom_fonction in dir(module):\n",
    "                fonction = getattr(module, nom_fonction)\n",
    "                if hasattr(fonction, \"fit\"):\n",
    "                    if verbose : print \" nom algorithme  = \", nom_fonction\n",
    "                    algos[nom_module].append(fonction)                                            \n",
    "        except Exception as e:\n",
    "            if verbose : print e\n",
    "        if verbose: print \"=\"*30\n",
    "    return algos"
   ]
  },
  {
   "cell_type": "code",
   "execution_count": 116,
   "metadata": {
    "collapsed": false
   },
   "outputs": [
    {
     "name": "stdout",
     "output_type": "stream",
     "text": [
      "['__SKLEARN_SETUP__', '__all__', '__builtins__', '__check_build', '__doc__', '__file__', '__name__', '__package__', '__path__', '__version__', '_isotonic', 'base', 'calibration', 'clone', 'cluster', 'covariance', 'cross_decomposition', 'cross_validation', 'datasets', 'decomposition', 'discriminant_analysis', 'dummy', 'ensemble', 'externals', 'feature_extraction', 'feature_selection', 'gaussian_process', 'grid_search', 'isotonic', 'kernel_approximation', 'kernel_ridge', 'lda', 'learning_curve', 'linear_model', 'manifold', 'metrics', 'mixture', 'multiclass', 'naive_bayes', 'neighbors', 'neural_network', 'pipeline', 'preprocessing', 'qda', 'random_projection', 're', 'semi_supervised', 'setup_module', 'svm', 'sys', 'tree', 'utils', 'warnings']\n",
      "calibration\n",
      " nom algorithme  =  CalibratedClassifierCV\n",
      " nom algorithme  =  IsotonicRegression\n",
      " nom algorithme  =  LabelBinarizer\n",
      " nom algorithme  =  LinearSVC\n",
      " nom algorithme  =  _CalibratedClassifier\n",
      " nom algorithme  =  _SigmoidCalibration\n",
      "==============================\n",
      "cluster\n",
      " nom algorithme  =  AffinityPropagation\n",
      " nom algorithme  =  AgglomerativeClustering\n",
      " nom algorithme  =  Birch\n",
      " nom algorithme  =  DBSCAN\n",
      " nom algorithme  =  FeatureAgglomeration\n",
      " nom algorithme  =  KMeans\n",
      " nom algorithme  =  MeanShift\n",
      " nom algorithme  =  MiniBatchKMeans\n",
      " nom algorithme  =  SpectralBiclustering\n",
      " nom algorithme  =  SpectralClustering\n",
      " nom algorithme  =  SpectralCoclustering\n",
      "==============================\n",
      "covariance\n",
      " nom algorithme  =  EllipticEnvelope\n",
      " nom algorithme  =  EmpiricalCovariance\n",
      " nom algorithme  =  GraphLasso\n",
      " nom algorithme  =  GraphLassoCV\n",
      " nom algorithme  =  LedoitWolf\n",
      " nom algorithme  =  MinCovDet\n",
      " nom algorithme  =  OAS\n",
      " nom algorithme  =  ShrunkCovariance\n",
      "==============================\n",
      "cross_decomposition\n",
      " nom algorithme  =  CCA\n",
      " nom algorithme  =  PLSCanonical\n",
      " nom algorithme  =  PLSRegression\n",
      " nom algorithme  =  PLSSVD\n",
      "==============================\n",
      "cross_validation\n",
      "==============================\n",
      "datasets\n",
      "==============================\n",
      "decomposition\n",
      " nom algorithme  =  DictionaryLearning\n",
      " nom algorithme  =  FactorAnalysis\n",
      " nom algorithme  =  FastICA\n",
      " nom algorithme  =  IncrementalPCA\n",
      " nom algorithme  =  KernelPCA\n",
      " nom algorithme  =  LatentDirichletAllocation\n",
      " nom algorithme  =  MiniBatchDictionaryLearning\n",
      " nom algorithme  =  MiniBatchSparsePCA\n",
      " nom algorithme  =  NMF\n",
      " nom algorithme  =  PCA\n",
      " nom algorithme  =  ProjectedGradientNMF\n",
      " nom algorithme  =  RandomizedPCA\n",
      " nom algorithme  =  SparseCoder\n",
      " nom algorithme  =  SparsePCA\n",
      " nom algorithme  =  TruncatedSVD\n",
      "==============================\n",
      "dummy\n",
      " nom algorithme  =  DummyClassifier\n",
      " nom algorithme  =  DummyRegressor\n",
      "==============================\n",
      "ensemble\n",
      " nom algorithme  =  AdaBoostClassifier\n",
      " nom algorithme  =  AdaBoostRegressor\n",
      " nom algorithme  =  BaggingClassifier\n",
      " nom algorithme  =  BaggingRegressor\n",
      " nom algorithme  =  ExtraTreesClassifier\n",
      " nom algorithme  =  ExtraTreesRegressor\n",
      " nom algorithme  =  GradientBoostingClassifier\n",
      " nom algorithme  =  GradientBoostingRegressor\n",
      " nom algorithme  =  RandomForestClassifier\n",
      " nom algorithme  =  RandomForestRegressor\n",
      " nom algorithme  =  RandomTreesEmbedding\n",
      " nom algorithme  =  VotingClassifier\n",
      "==============================\n",
      "externals\n",
      "==============================\n",
      "feature_extraction\n",
      " nom algorithme  =  DictVectorizer\n",
      " nom algorithme  =  FeatureHasher\n",
      "==============================\n",
      "feature_selection\n",
      " nom algorithme  =  GenericUnivariateSelect\n",
      " nom algorithme  =  RFE\n",
      " nom algorithme  =  RFECV\n",
      " nom algorithme  =  SelectFdr\n",
      " nom algorithme  =  SelectFpr\n",
      " nom algorithme  =  SelectFromModel\n",
      " nom algorithme  =  SelectFwe\n",
      " nom algorithme  =  SelectKBest\n",
      " nom algorithme  =  SelectPercentile\n",
      " nom algorithme  =  VarianceThreshold\n",
      "==============================\n",
      "gaussian_process\n",
      " nom algorithme  =  GaussianProcess\n",
      "==============================\n",
      "grid_search\n",
      " nom algorithme  =  GridSearchCV\n",
      " nom algorithme  =  RandomizedSearchCV\n",
      "==============================\n",
      "isotonic\n",
      " nom algorithme  =  IsotonicRegression\n",
      "==============================\n",
      "kernel_approximation\n",
      " nom algorithme  =  AdditiveChi2Sampler\n",
      " nom algorithme  =  Nystroem\n",
      " nom algorithme  =  RBFSampler\n",
      " nom algorithme  =  SkewedChi2Sampler\n",
      "==============================\n",
      "kernel_ridge\n",
      " nom algorithme  =  KernelRidge\n",
      "==============================\n",
      "lda\n",
      " nom algorithme  =  LDA\n",
      "==============================\n",
      "learning_curve\n",
      "==============================\n",
      "linear_model\n",
      " nom algorithme  =  ARDRegression\n",
      " nom algorithme  =  BayesianRidge\n",
      " nom algorithme  =  ElasticNet\n",
      " nom algorithme  =  ElasticNetCV\n",
      " nom algorithme  =  Lars\n",
      " nom algorithme  =  LarsCV\n",
      " nom algorithme  =  Lasso\n",
      " nom algorithme  =  LassoCV\n",
      " nom algorithme  =  LassoLars\n",
      " nom algorithme  =  LassoLarsCV\n",
      " nom algorithme  =  LassoLarsIC\n",
      " nom algorithme  =  LinearRegression\n",
      " nom algorithme  =  LogisticRegression\n",
      " nom algorithme  =  LogisticRegressionCV\n",
      " nom algorithme  =  MultiTaskElasticNet\n",
      " nom algorithme  =  MultiTaskElasticNetCV\n",
      " nom algorithme  =  MultiTaskLasso\n",
      " nom algorithme  =  MultiTaskLassoCV\n",
      " nom algorithme  =  OrthogonalMatchingPursuit\n",
      " nom algorithme  =  OrthogonalMatchingPursuitCV\n",
      " nom algorithme  =  PassiveAggressiveClassifier\n",
      " nom algorithme  =  PassiveAggressiveRegressor\n",
      " nom algorithme  =  Perceptron\n",
      " nom algorithme  =  RANSACRegressor\n",
      " nom algorithme  =  RandomizedLasso\n",
      " nom algorithme  =  RandomizedLogisticRegression\n",
      " nom algorithme  =  Ridge\n",
      " nom algorithme  =  RidgeCV\n",
      " nom algorithme  =  RidgeClassifier\n",
      " nom algorithme  =  RidgeClassifierCV\n",
      " nom algorithme  =  SGDClassifier\n",
      " nom algorithme  =  SGDRegressor\n",
      " nom algorithme  =  TheilSenRegressor\n",
      "==============================\n",
      "manifold\n",
      " nom algorithme  =  Isomap\n",
      " nom algorithme  =  LocallyLinearEmbedding\n",
      " nom algorithme  =  MDS\n",
      " nom algorithme  =  SpectralEmbedding\n",
      " nom algorithme  =  TSNE\n",
      "==============================\n",
      "metrics\n",
      "==============================\n",
      "mixture\n",
      " nom algorithme  =  DPGMM\n",
      " nom algorithme  =  GMM\n",
      " nom algorithme  =  VBGMM\n",
      "==============================\n",
      "multiclass\n",
      " nom algorithme  =  LabelBinarizer\n",
      " nom algorithme  =  OneVsOneClassifier\n",
      " nom algorithme  =  OneVsRestClassifier\n",
      " nom algorithme  =  OutputCodeClassifier\n",
      " nom algorithme  =  _ConstantPredictor\n",
      "==============================\n",
      "naive_bayes\n",
      " nom algorithme  =  BaseDiscreteNB\n",
      " nom algorithme  =  BernoulliNB\n",
      " nom algorithme  =  GaussianNB\n",
      " nom algorithme  =  LabelBinarizer\n",
      " nom algorithme  =  MultinomialNB\n",
      "==============================\n",
      "neighbors\n",
      " nom algorithme  =  KNeighborsClassifier\n",
      " nom algorithme  =  KNeighborsRegressor\n",
      " nom algorithme  =  KernelDensity\n",
      " nom algorithme  =  LSHForest\n",
      " nom algorithme  =  NearestCentroid\n",
      " nom algorithme  =  NearestNeighbors\n",
      " nom algorithme  =  RadiusNeighborsClassifier\n",
      " nom algorithme  =  RadiusNeighborsRegressor\n",
      "==============================\n",
      "neural_network\n",
      " nom algorithme  =  BernoulliRBM\n",
      "==============================\n",
      "pipeline\n",
      " nom algorithme  =  FeatureUnion\n",
      " nom algorithme  =  Pipeline\n",
      "==============================\n",
      "preprocessing\n",
      " nom algorithme  =  Binarizer\n",
      " nom algorithme  =  FunctionTransformer\n",
      " nom algorithme  =  Imputer\n",
      " nom algorithme  =  KernelCenterer\n",
      " nom algorithme  =  LabelBinarizer\n",
      " nom algorithme  =  LabelEncoder\n",
      " nom algorithme  =  MaxAbsScaler\n",
      " nom algorithme  =  MinMaxScaler\n",
      " nom algorithme  =  MultiLabelBinarizer\n",
      " nom algorithme  =  Normalizer\n",
      " nom algorithme  =  OneHotEncoder\n",
      " nom algorithme  =  PolynomialFeatures\n",
      " nom algorithme  =  RobustScaler\n",
      " nom algorithme  =  StandardScaler\n",
      "==============================\n",
      "qda\n",
      " nom algorithme  =  QDA\n",
      "==============================\n",
      "random_projection\n",
      " nom algorithme  =  BaseRandomProjection\n",
      " nom algorithme  =  GaussianRandomProjection\n",
      " nom algorithme  =  SparseRandomProjection\n",
      "==============================\n",
      "semi_supervised\n",
      " nom algorithme  =  LabelPropagation\n",
      " nom algorithme  =  LabelSpreading\n",
      "==============================\n",
      "svm\n",
      " nom algorithme  =  LinearSVC\n",
      " nom algorithme  =  LinearSVR\n",
      " nom algorithme  =  NuSVC\n",
      " nom algorithme  =  NuSVR\n",
      " nom algorithme  =  OneClassSVM\n",
      " nom algorithme  =  SVC\n",
      " nom algorithme  =  SVR\n",
      " nom algorithme  =  libsvm\n",
      "==============================\n",
      "tree\n",
      " nom algorithme  =  DecisionTreeClassifier\n",
      " nom algorithme  =  DecisionTreeRegressor\n",
      " nom algorithme  =  ExtraTreeClassifier\n",
      " nom algorithme  =  ExtraTreeRegressor\n",
      "==============================\n",
      "discriminant_analysis\n",
      " nom algorithme  =  LinearDiscriminantAnalysis\n",
      " nom algorithme  =  QuadraticDiscriminantAnalysis\n",
      " nom algorithme  =  StandardScaler\n",
      "==============================\n",
      "clone\n",
      "No module named clone\n",
      "==============================\n",
      "\n",
      "===> neighbors\n",
      "KNeighborsClassifier,KNeighborsRegressor,KernelDensity,LSHForest,NearestCentroid,NearestNeighbors,RadiusNeighborsClassifier,RadiusNeighborsRegressor\n",
      "\n",
      "===> neural_network\n",
      "BernoulliRBM\n",
      "\n",
      "===> lda\n",
      "LinearDiscriminantAnalysis\n",
      "\n",
      "===> kernel_ridge\n",
      "KernelRidge\n",
      "\n",
      "===> manifold\n",
      "Isomap,LocallyLinearEmbedding,MDS,SpectralEmbedding,TSNE\n",
      "\n",
      "===> feature_extraction\n",
      "DictVectorizer,FeatureHasher\n",
      "\n",
      "===> cluster\n",
      "AffinityPropagation,AgglomerativeClustering,Birch,DBSCAN,FeatureAgglomeration,KMeans,MeanShift,MiniBatchKMeans,SpectralBiclustering,SpectralClustering,SpectralCoclustering\n",
      "\n",
      "===> naive_bayes\n",
      "BaseDiscreteNB,BernoulliNB,GaussianNB,LabelBinarizer,MultinomialNB\n",
      "\n",
      "===> discriminant_analysis\n",
      "LinearDiscriminantAnalysis,QuadraticDiscriminantAnalysis,StandardScaler\n",
      "\n",
      "===> kernel_approximation\n",
      "AdditiveChi2Sampler,Nystroem,RBFSampler,SkewedChi2Sampler\n",
      "\n",
      "===> calibration\n",
      "CalibratedClassifierCV,IsotonicRegression,LabelBinarizer,LinearSVC,_CalibratedClassifier,_SigmoidCalibration\n",
      "\n",
      "===> multiclass\n",
      "LabelBinarizer,OneVsOneClassifier,OneVsRestClassifier,OutputCodeClassifier,_ConstantPredictor\n",
      "\n",
      "===> grid_search\n",
      "GridSearchCV,RandomizedSearchCV\n",
      "\n",
      "===> decomposition\n",
      "DictionaryLearning,FactorAnalysis,FastICA,IncrementalPCA,KernelPCA,LatentDirichletAllocation,MiniBatchDictionaryLearning,MiniBatchSparsePCA,NMF,PCA,ProjectedGradientNMF,RandomizedPCA,SparseCoder,SparsePCA,TruncatedSVD\n",
      "\n",
      "===> ensemble\n",
      "AdaBoostClassifier,AdaBoostRegressor,BaggingClassifier,BaggingRegressor,ExtraTreesClassifier,ExtraTreesRegressor,GradientBoostingClassifier,GradientBoostingRegressor,RandomForestClassifier,RandomForestRegressor,RandomTreesEmbedding,VotingClassifier\n",
      "\n",
      "===> isotonic\n",
      "IsotonicRegression\n",
      "\n",
      "===> mixture\n",
      "DPGMM,GMM,VBGMM\n",
      "\n",
      "===> qda\n",
      "QuadraticDiscriminantAnalysis\n",
      "\n",
      "===> linear_model\n",
      "ARDRegression,BayesianRidge,ElasticNet,ElasticNetCV,Lars,LarsCV,Lasso,LassoCV,LassoLars,LassoLarsCV,LassoLarsIC,LinearRegression,LogisticRegression,LogisticRegressionCV,MultiTaskElasticNet,MultiTaskElasticNetCV,MultiTaskLasso,MultiTaskLassoCV,OrthogonalMatchingPursuit,OrthogonalMatchingPursuitCV,PassiveAggressiveClassifier,PassiveAggressiveRegressor,Perceptron,RANSACRegressor,RandomizedLasso,RandomizedLogisticRegression,Ridge,RidgeCV,RidgeClassifier,RidgeClassifierCV,SGDClassifier,SGDRegressor,TheilSenRegressor\n",
      "\n",
      "===> cross_decomposition\n",
      "CCA,PLSCanonical,PLSRegression,PLSSVD\n",
      "\n",
      "===> semi_supervised\n",
      "LabelPropagation,LabelSpreading\n",
      "\n",
      "===> covariance\n",
      "EllipticEnvelope,EmpiricalCovariance,GraphLasso,GraphLassoCV,LedoitWolf,MinCovDet,OAS,ShrunkCovariance\n",
      "\n",
      "===> preprocessing\n",
      "Binarizer,FunctionTransformer,Imputer,KernelCenterer,LabelBinarizer,LabelEncoder,MaxAbsScaler,MinMaxScaler,MultiLabelBinarizer,Normalizer,OneHotEncoder,PolynomialFeatures,RobustScaler,StandardScaler\n",
      "\n",
      "===> feature_selection\n",
      "GenericUnivariateSelect,RFE,RFECV,SelectFdr,SelectFpr,SelectFromModel,SelectFwe,SelectKBest,SelectPercentile,VarianceThreshold\n",
      "\n",
      "===> dummy\n",
      "DummyClassifier,DummyRegressor\n",
      "\n",
      "===> pipeline\n",
      "FeatureUnion,Pipeline\n",
      "\n",
      "===> svm\n",
      "LinearSVC,LinearSVR,NuSVC,NuSVR,OneClassSVM,SVC,SVR,so\n",
      "\n",
      "===> random_projection\n",
      "BaseRandomProjection,GaussianRandomProjection,SparseRandomProjection\n",
      "\n",
      "===> tree\n",
      "DecisionTreeClassifier,DecisionTreeRegressor,ExtraTreeClassifier,ExtraTreeRegressor\n",
      "\n",
      "===> gaussian_process\n",
      "GaussianProcess\n"
     ]
    }
   ],
   "source": [
    "algos = get_sklearn_algorithms(True)\n",
    "for key in algos.keys():\n",
    "    print \"\\n===>\",key\n",
    "    algos_ = []\n",
    "    for algo in algos[key]:\n",
    "        classe_algo = str(algo)\n",
    "        nom_algo    = classe_algo[str(classe_algo).rfind(\".\")+1:str(classe_algo).rfind(\"'\")]\n",
    "        algos_.append(nom_algo)\n",
    "    print \",\".join(algos_)"
   ]
  },
  {
   "cell_type": "code",
   "execution_count": 117,
   "metadata": {
    "collapsed": true
   },
   "outputs": [],
   "source": [
    "import warnings\n",
    "warnings.filterwarnings(\"ignore\", category=DeprecationWarning) "
   ]
  },
  {
   "cell_type": "code",
   "execution_count": 118,
   "metadata": {
    "collapsed": false,
    "scrolled": true
   },
   "outputs": [
    {
     "name": "stdout",
     "output_type": "stream",
     "text": [
      "Classifier implementing t\n",
      "0.969696969697\n",
      "==============================\n",
      "Regression based on k-nea\n",
      "0.886821994408\n",
      "==============================\n",
      "Kernel Density Estimation\n",
      "-2390.03391376\n",
      "==============================\n",
      "Performs approximate near\n",
      "'LSHForest' object has no attribute 'score'\n",
      "==============================\n",
      "Nearest centroid classifi\n",
      "0.878787878788\n",
      "==============================\n",
      "Unsupervised learner for\n",
      "'NearestNeighbors' object has no attribute 'score'\n",
      "==============================\n",
      "Classifier implementing a\n",
      "Algo de classification\n",
      "==============================\n",
      "Regression based on neigh\n",
      "Input contains NaN, infinity or a value too large \n",
      "==============================\n",
      "Bernoulli Restricted Bolt\n",
      "'BernoulliRBM' object has no attribute 'score'\n",
      "==============================\n",
      "Linear Discriminant Analy\n",
      "0.893939393939\n",
      "==============================\n",
      "Kernel ridge regression.\n",
      "-0.489815404888\n",
      "==============================\n",
      "Isomap Embedding\n",
      "\n",
      "    Non\n",
      "'Isomap' object has no attribute 'score'\n",
      "==============================\n",
      "Locally Linear Embedding\n",
      "'LocallyLinearEmbedding' object has no attribute '\n",
      "==============================\n",
      "Multidimensional scaling\n",
      "'MDS' object has no attribute 'score'\n",
      "==============================\n",
      "Spectral embedding for no\n",
      "'SpectralEmbedding' object has no attribute 'score\n",
      "==============================\n",
      "t-distributed Stochastic\n",
      "array must not contain infs or NaNs\n",
      "==============================\n",
      "Transforms lists of featu\n",
      "'numpy.ndarray' object has no attribute 'iteritems\n",
      "==============================\n",
      "Implements feature hashin\n",
      "'FeatureHasher' object has no attribute 'score'\n",
      "==============================\n",
      "Perform Affinity Propagat\n",
      "'AffinityPropagation' object has no attribute 'sco\n",
      "==============================\n",
      "Agglomerative Cluste\n",
      "'AgglomerativeClustering' object has no attribute \n",
      "==============================\n",
      "Implements the Birch clus\n",
      "'Birch' object has no attribute 'score'\n",
      "==============================\n",
      "Perform DBSCAN clustering\n",
      "'DBSCAN' object has no attribute 'score'\n",
      "==============================\n",
      "Agglomerate features.\n",
      "'FeatureAgglomeration' object has no attribute 'sc\n",
      "==============================\n",
      "K-Means clustering\n",
      "\n",
      "    R\n",
      "-887.282465074\n",
      "==============================\n",
      "Mean shift clustering usi\n",
      "'MeanShift' object has no attribute 'score'\n",
      "==============================\n",
      "Mini-Batch K-Means cluste\n",
      "-907.97295526\n",
      "==============================\n",
      "Spectral biclustering (Kl\n",
      "fit() takes exactly 2 arguments (3 given)\n",
      "==============================\n",
      "Apply clustering to a pro\n",
      "'SpectralClustering' object has no attribute 'scor\n",
      "==============================\n",
      "Spectral Co-Clustering al\n",
      "fit() takes exactly 2 arguments (3 given)\n",
      "==============================\n",
      "Can't instantiate abstract class BaseDiscreteNB wi\n",
      "==============================\n",
      "Naive Bayes classifier fo\n",
      "0.939393939394\n",
      "==============================\n",
      "Gaussian Naive Bayes\n",
      "0.939393939394\n",
      "==============================\n",
      "Binarize labels in a one-\n",
      "fit() takes exactly 2 arguments (3 given)\n",
      "==============================\n",
      "Naive Bayes classifi\n",
      "Input X must be non-negative\n",
      "==============================\n",
      "Linear Discriminant Analy\n",
      "0.893939393939\n",
      "==============================\n",
      "Quadratic Discrimina\n",
      "0.954545454545\n",
      "==============================\n",
      "Standardize features by r\n",
      "'StandardScaler' object has no attribute 'score'\n",
      "==============================\n",
      "Approximate feature map f\n",
      "'AdditiveChi2Sampler' object has no attribute 'sco\n",
      "==============================\n",
      "Approximate a kernel map\n",
      "'Nystroem' object has no attribute 'score'\n",
      "==============================\n",
      "Approximates feature map\n",
      "'RBFSampler' object has no attribute 'score'\n",
      "==============================\n",
      "Approximates feature map\n",
      "'SkewedChi2Sampler' object has no attribute 'score\n",
      "==============================\n",
      "Probability calibration w\n",
      "0.954545454545\n",
      "==============================\n",
      "Isotonic regression model\n",
      "X should be a 1d array\n",
      "==============================\n",
      "Binarize labels in a one-\n",
      "fit() takes exactly 2 arguments (3 given)\n",
      "==============================\n",
      "Linear Support Vector Cla\n",
      "0.954545454545\n",
      "==============================\n",
      "__init__() takes at least 2 arguments (1 given)\n",
      "==============================\n",
      "Sigmoid regression model.\n",
      "bad input shape (134, 30)\n",
      "==============================\n",
      "Binarize labels in a one-\n",
      "fit() takes exactly 2 arguments (3 given)\n",
      "==============================\n",
      "__init__() takes at least 2 arguments (1 given)\n",
      "==============================\n",
      "__init__() takes at least 2 arguments (1 given)\n",
      "==============================\n",
      "__init__() takes at least 2 arguments (1 given)\n",
      "==============================\n",
      "'NoneType' object has no attribute 'find'\n",
      "==============================\n",
      "__init__() takes at least 3 arguments (1 given)\n",
      "==============================\n",
      "__init__() takes at least 3 arguments (1 given)\n",
      "==============================\n",
      "Dictionary learning\n",
      "'DictionaryLearning' object has no attribute 'scor\n",
      "==============================\n",
      "Factor Analysis (FA)\n",
      "-17.9909232113\n",
      "==============================\n",
      "FastICA\n",
      "'FastICA' object has no attribute 'score'\n",
      "==============================\n",
      "Incremental principal com\n",
      "'IncrementalPCA' object has no attribute 'score'\n",
      "==============================\n",
      "Kernel Principal componen\n",
      "'KernelPCA' object has no attribute 'score'\n",
      "==============================\n",
      "Latent Dirichlet Allocati\n",
      "Negative values in data passed to LatentDirichletA\n",
      "==============================\n",
      "Mini-batch dictionary lea\n",
      "'MiniBatchDictionaryLearning' object has no attrib\n",
      "==============================\n",
      "Mini-batch Sparse Princip\n",
      "'MiniBatchSparsePCA' object has no attribute 'scor\n",
      "==============================\n",
      "Non-Negative Matrix Facto\n",
      "Negative values in data passed to NMF (input X)\n",
      "==============================\n",
      "Principal component analy\n",
      "-15.6379336308\n",
      "==============================\n",
      "Non-Negative Matrix Facto\n",
      "Negative values in data passed to NMF (input X)\n",
      "==============================\n",
      "Principal component analy\n",
      "'RandomizedPCA' object has no attribute 'score'\n",
      "==============================\n",
      "__init__() takes at least 2 arguments (1 given)\n",
      "==============================\n",
      "Sparse Principal Componen\n",
      "'SparsePCA' object has no attribute 'score'\n",
      "==============================\n",
      "Dimensionality reduction\n",
      "'TruncatedSVD' object has no attribute 'score'\n",
      "==============================\n",
      "An AdaBoost classifier.\n",
      "0.939393939394\n",
      "==============================\n",
      "An AdaBoost regressor.\n",
      "0.827805925047\n",
      "==============================\n",
      "A Bagging classifier.\n",
      "0.909090909091\n",
      "==============================\n",
      "A Bagging regressor.\n",
      "0.803168685927\n",
      "==============================\n",
      "An extra-trees classifier\n",
      "0.984848484848\n",
      "==============================\n",
      "An extra-trees regressor.\n",
      "0.888052190121\n",
      "==============================\n",
      "Gradient Boosting for cla\n",
      "0.893939393939\n",
      "==============================\n",
      "Gradient Boosting for reg\n",
      "0.734386848404\n",
      "==============================\n",
      "A random forest classifie\n",
      "0.954545454545\n",
      "==============================\n",
      "A random forest regressor\n",
      "0.854836905871\n",
      "==============================\n",
      "An ensemble of totally ra\n",
      "'RandomTreesEmbedding' object has no attribute 'sc\n",
      "==============================\n",
      "__init__() takes at least 2 arguments (1 given)\n",
      "==============================\n",
      "Isotonic regression model\n",
      "X should be a 1d array\n",
      "==============================\n",
      "Variational Inference for\n",
      "[ -59.82438772  -90.04137827  -55.05392246  -56.02113586  -60.34866009\n",
      "  -54.21808042  -78.30113012  -53.80847607  -51.78452289  -56.94533562\n",
      "  -54.99275392  -56.89400162  -50.61222846  -51.91915062  -55.81474216\n",
      "  -54.14913629  -53.10699652 -108.91079376  -52.35216904  -52.09712508\n",
      "  -52.71637447  -51.96701486  -59.94494079  -58.07113578  -53.32154506\n",
      "  -54.64863186  -55.01521582  -53.99986235  -53.58971776  -52.87271687\n",
      "  -51.0879793   -59.24459863  -53.41679795  -49.3009467   -53.66616775\n",
      "  -51.9347624   -49.76149756  -53.59600522  -53.79275018  -52.52753314\n",
      "  -50.29326316  -56.48442847  -52.40971489  -50.92337258  -51.20005384\n",
      "  -75.03402301  -51.45946363  -64.73235061  -50.60208066  -50.23341283\n",
      "  -50.31846173  -53.44742194  -50.52918184  -50.97637618  -52.1005539\n",
      "  -55.41229972  -55.09638204  -50.49111368  -52.277213    -51.47183299\n",
      "  -50.50768822  -53.42398671  -54.31082393  -52.22765566  -50.51343821\n",
      "  -77.6403237 ]\n",
      "The truth value of an array with more than one ele\n",
      "==============================\n",
      "Gaussian Mixture Model\n",
      "[ -50.32325193 -110.25293583  -40.86193661  -42.7802214   -51.36304697\n",
      "  -39.20420207  -86.96837479  -38.39182934  -34.37770112  -44.61319678\n",
      "  -40.74062039  -44.51138549  -32.05267691  -34.64470976  -42.37087856\n",
      "  -39.06746443  -37.00057736 -147.67685148  -35.50351985  -34.99768842\n",
      "  -36.22585242  -34.73963942  -50.56234612  -46.84600841  -37.42609379\n",
      "  -40.05811939  -40.78516933  -38.77140782  -37.9579636   -36.53592799\n",
      "  -32.99623868  -49.17334995  -37.61500989  -29.45199763  -38.1095877\n",
      "  -34.67567275  -30.36541313  -37.97043361  -38.36064001  -35.85132138\n",
      "  -31.42006957  -43.69907465  -35.61765117  -32.66977241  -33.21851733\n",
      "  -80.48868595  -33.73300757  -60.05726776  -32.03255067  -31.30136777\n",
      "  -31.47004618  -37.67574677  -31.88796964  -32.77489502  -35.00448883\n",
      "  -41.57271011  -40.94614717  -31.81246865  -35.35485874  -33.75753987\n",
      "  -31.84534112  -37.62926744  -39.38814127  -35.25657112  -31.85674513\n",
      "  -85.65779028]\n",
      "The truth value of an array with more than one ele\n",
      "==============================\n",
      "Variational Inference for\n",
      "[ -59.82438772  -90.04137827  -55.05392246  -56.02113586  -60.34866009\n",
      "  -54.21808042  -78.30113012  -53.80847607  -51.78452289  -56.94533562\n",
      "  -54.99275392  -56.89400162  -50.61222846  -51.91915062  -55.81474216\n",
      "  -54.14913629  -53.10699652 -108.91079376  -52.35216904  -52.09712508\n",
      "  -52.71637447  -51.96701486  -59.94494079  -58.07113578  -53.32154506\n",
      "  -54.64863186  -55.01521582  -53.99986235  -53.58971776  -52.87271687\n",
      "  -51.0879793   -59.24459863  -53.41679795  -49.3009467   -53.66616775\n",
      "  -51.9347624   -49.76149756  -53.59600522  -53.79275018  -52.52753314\n",
      "  -50.29326316  -56.48442847  -52.40971489  -50.92337258  -51.20005384\n",
      "  -75.03402301  -51.45946363  -64.73235061  -50.60208066  -50.23341283\n",
      "  -50.31846173  -53.44742194  -50.52918184  -50.97637618  -52.1005539\n",
      "  -55.41229972  -55.09638204  -50.49111368  -52.277213    -51.47183299\n",
      "  -50.50768822  -53.42398671  -54.31082393  -52.22765566  -50.51343821\n",
      "  -77.6403237 ]\n",
      "The truth value of an array with more than one ele\n",
      "==============================\n",
      "Quadratic Discrimina\n",
      "0.954545454545\n",
      "==============================\n",
      "Bayesian ARD regression.\n",
      "0.65488535047\n",
      "==============================\n",
      "Bayesian ridge regression\n",
      "0.667958125808\n",
      "==============================\n",
      "Linear regression with co\n",
      "-0.0149114631873\n",
      "==============================\n",
      "Elastic Net model with it\n",
      "0.673572867327\n",
      "==============================\n",
      "Least Angle Regression mo\n",
      "-602.760328454\n",
      "==============================\n",
      "Cross-validated Least Ang\n",
      "0.559724932023\n",
      "==============================\n",
      "Linear Model trained with\n",
      "-0.0149114631873\n",
      "==============================\n",
      "Lasso linear model with i\n",
      "0.676839276593\n",
      "==============================\n",
      "Lasso model fit with Leas\n",
      "-0.0149114631873\n",
      "==============================\n",
      "Cross-validated Lasso, us\n",
      "0.679893862495\n",
      "==============================\n",
      "Lasso model fit with Lars\n",
      "0.581070850165\n",
      "==============================\n",
      "Ordinary least squar\n",
      "0.381514383684\n",
      "==============================\n",
      "Logistic Regression (aka\n",
      "0.969696969697\n",
      "==============================\n",
      "Logistic Regression CV (a\n",
      "0.969696969697\n",
      "==============================\n",
      "Multi-task ElasticNet mod\n",
      "For mono-task outputs, use ElasticNet\n",
      "==============================\n",
      "Multi-task L1/L2 ElasticN\n",
      "For mono-task outputs, use ElasticNetCV\n",
      "==============================\n",
      "Multi-task Lasso model tr\n",
      "For mono-task outputs, use ElasticNet\n",
      "==============================\n",
      "Multi-task L1/L2 Lasso wi\n",
      "For mono-task outputs, use LassoCV\n",
      "==============================\n",
      "Orthogonal Matching Pursu\n",
      "0.660561556603\n",
      "==============================\n",
      "Cross-validated Orthogona\n",
      "0.652614143219\n",
      "==============================\n",
      "Passive Aggressive Classi\n",
      "0.939393939394\n",
      "==============================\n",
      "Passive Aggressive Regres\n",
      "0.22290739569\n",
      "==============================\n",
      "Perceptron\n",
      "\n",
      "    Read more\n",
      "0.954545454545\n",
      "==============================\n",
      "RANSAC (RANdom SAmple Con\n",
      "0.282069989671\n",
      "==============================\n",
      "Randomized Lasso.\n",
      "\n",
      "    Ra\n"
     ]
    },
    {
     "name": "stderr",
     "output_type": "stream",
     "text": [
      "/Users/romain/anaconda/lib/python2.7/site-packages/sklearn/linear_model/least_angle.py:334: ConvergenceWarning: Early stopping the lars path, as the residues are small and the current value of alpha is no longer well controlled. 40 iterations, alpha=7.249e-04, previous alpha=1.009e-04, with an active set of 25 regressors.\n",
      "  ConvergenceWarning)\n",
      "/Users/romain/anaconda/lib/python2.7/site-packages/sklearn/linear_model/least_angle.py:334: ConvergenceWarning: Early stopping the lars path, as the residues are small and the current value of alpha is no longer well controlled. 38 iterations, alpha=2.882e-03, previous alpha=1.077e-04, with an active set of 25 regressors.\n",
      "  ConvergenceWarning)\n",
      "/Users/romain/anaconda/lib/python2.7/site-packages/sklearn/linear_model/least_angle.py:334: ConvergenceWarning: Early stopping the lars path, as the residues are small and the current value of alpha is no longer well controlled. 40 iterations, alpha=3.388e-03, previous alpha=4.377e-05, with an active set of 27 regressors.\n",
      "  ConvergenceWarning)\n",
      "/Users/romain/anaconda/lib/python2.7/site-packages/sklearn/linear_model/least_angle.py:334: ConvergenceWarning: Early stopping the lars path, as the residues are small and the current value of alpha is no longer well controlled. 35 iterations, alpha=1.330e-03, previous alpha=1.223e-04, with an active set of 26 regressors.\n",
      "  ConvergenceWarning)\n"
     ]
    },
    {
     "name": "stdout",
     "output_type": "stream",
     "text": [
      "'RandomizedLasso' object has no attribute 'score'\n",
      "==============================\n",
      "Randomized Logistic Regre\n",
      "'RandomizedLogisticRegression' object has no attri\n",
      "==============================\n",
      "Linear least squares with\n",
      "0.541096957989\n",
      "==============================\n",
      "Ridge regression with bui\n",
      "0.661292878241\n",
      "==============================\n",
      "Classifier using Ridge re\n",
      "0.909090909091\n",
      "==============================\n",
      "Ridge classifier with bui\n",
      "0.954545454545\n",
      "==============================\n",
      "Linear classifiers (SVM,\n",
      "0.954545454545\n",
      "==============================\n",
      "Linear model fitted by mi\n",
      "0.678129733361\n",
      "==============================\n",
      "Theil-Sen Estimator\n",
      "0.22841068861\n",
      "==============================\n",
      "CCA Canonical Correlation\n",
      "0.102944741218\n",
      "==============================\n",
      "PLSCanonical implements\n",
      "-7.35365245932\n",
      "==============================\n",
      "PLS regression\n",
      "\n",
      "    PLSRe\n",
      "0.69308475531\n",
      "==============================\n",
      "Partial Least Square SVD\n",
      "'PLSSVD' object has no attribute 'score'\n",
      "==============================\n",
      "Label Propagation classif\n",
      "0.939393939394\n",
      "==============================\n",
      "LabelSpreading model for\n",
      "0.939393939394\n",
      "==============================\n",
      "An object for detecting o\n",
      "0.424242424242\n",
      "==============================\n",
      "Maximum likelihood covari\n",
      "-15.6379336308\n",
      "==============================\n",
      "Sparse inverse covariance\n",
      "Non SPD result: the system is too ill-conditioned \n",
      "==============================\n",
      "Sparse inverse covariance\n",
      "-28.2172463906\n",
      "==============================\n",
      "LedoitWolf Estimator\n",
      "-17.7901800019\n",
      "==============================\n",
      "Minimum Covariance Determ\n",
      "-101.097383494\n",
      "==============================\n",
      "Oracle Approximating Shri\n",
      "-16.5045309997\n",
      "==============================\n",
      "Covariance estimator with\n",
      "-19.5349507921\n",
      "==============================\n",
      "Binarize data (set featur\n",
      "'Binarizer' object has no attribute 'score'\n",
      "==============================\n",
      "Constructs a transformer\n",
      "'FunctionTransformer' object has no attribute 'sco\n",
      "==============================\n",
      "Imputation transformer fo\n",
      "'Imputer' object has no attribute 'score'\n",
      "==============================\n",
      "Center a kernel matrix\n",
      "'KernelCenterer' object has no attribute 'score'\n",
      "==============================\n",
      "Binarize labels in a one-\n",
      "fit() takes exactly 2 arguments (3 given)\n",
      "==============================\n",
      "Encode labels with value\n",
      "fit() takes exactly 2 arguments (3 given)\n",
      "==============================\n",
      "Scale each feature by its\n",
      "'MaxAbsScaler' object has no attribute 'score'\n",
      "==============================\n",
      "Transforms features by sc\n",
      "'MinMaxScaler' object has no attribute 'score'\n",
      "==============================\n",
      "Transform between iterabl\n",
      "fit() takes exactly 2 arguments (3 given)\n",
      "==============================\n",
      "Normalize samples individ\n",
      "'Normalizer' object has no attribute 'score'\n",
      "==============================\n",
      "Encode categorical intege\n",
      "X needs to contain only non-negative integers.\n",
      "==============================\n",
      "Generate polynomial and i\n",
      "'PolynomialFeatures' object has no attribute 'scor\n",
      "==============================\n",
      "Scale features using stat\n",
      "'RobustScaler' object has no attribute 'score'\n",
      "==============================\n",
      "Standardize features by r\n",
      "'StandardScaler' object has no attribute 'score'\n",
      "==============================\n",
      "Univariate feature select\n",
      "'GenericUnivariateSelect' object has no attribute \n",
      "==============================\n",
      "__init__() takes at least 2 arguments (1 given)\n",
      "==============================\n",
      "__init__() takes at least 2 arguments (1 given)\n",
      "==============================\n",
      "Filter\n",
      "'SelectFdr' object has no attribute 'score'\n",
      "==============================\n",
      "Filter\n",
      "'SelectFpr' object has no attribute 'score'\n",
      "==============================\n",
      "__init__() takes at least 2 arguments (1 given)\n",
      "==============================\n",
      "Filter\n",
      "'SelectFwe' object has no attribute 'score'\n",
      "==============================\n",
      "Select features according\n",
      "'SelectKBest' object has no attribute 'score'\n",
      "==============================\n",
      "Select features according\n",
      "'SelectPercentile' object has no attribute 'score'\n",
      "==============================\n",
      "Feature selector that rem\n",
      "'VarianceThreshold' object has no attribute 'score\n",
      "==============================\n",
      "DummyClassifier is a\n",
      "0.575757575758\n",
      "==============================\n",
      "DummyRegressor is a\n",
      "-0.0149114631873\n",
      "==============================\n",
      "__init__() takes at least 2 arguments (1 given)\n",
      "==============================\n",
      "__init__() takes exactly 2 arguments (1 given)\n",
      "==============================\n",
      "Linear Support Vector Cla\n",
      "0.954545454545\n",
      "==============================\n",
      "Linear Support Vector Reg\n",
      "0.428184592551\n",
      "==============================\n",
      "Nu-Support Vector Classif\n",
      "0.954545454545\n",
      "==============================\n",
      "Nu Support Vector Regress\n",
      "0.823537919732\n",
      "==============================\n",
      "Unsupervised Outlier Dete\n",
      "'OneClassSVM' object has no attribute 'score'\n",
      "==============================\n",
      "C-Support Vector Classifi\n",
      "0.954545454545\n",
      "==============================\n",
      "Epsilon-Support Vector Re\n",
      "0.799044430169\n",
      "==============================\n",
      "'module' object is not callable\n",
      "==============================\n",
      "Can't instantiate abstract class BaseRandomProject\n",
      "==============================\n",
      "Reduce dimensionality thr\n",
      "eps=0.100000 and n_samples=134 lead to a target di\n",
      "==============================\n",
      "Reduce dimensionality thr\n",
      "eps=0.100000 and n_samples=134 lead to a target di\n",
      "==============================\n",
      "A decision tree classifie\n",
      "0.909090909091\n",
      "==============================\n",
      "A decision tree regressor\n",
      "0.569431500466\n",
      "==============================\n",
      "An extremely randomized t\n",
      "0.924242424242\n",
      "==============================\n",
      "An extremely randomized t\n",
      "0.815470643057\n",
      "==============================\n",
      "The Gaussian Process mode\n",
      "0.73479323968\n",
      "==============================\n"
     ]
    }
   ],
   "source": [
    "performances               = {}\n",
    "modeles_a_tester           = []\n",
    "classes_de_models_a_tester = algos.keys()\n",
    "best_algorithm = 0\n",
    "best_perf = 0\n",
    "for classe_de_models in classes_de_models_a_tester:\n",
    "    modeles_a_tester.extend(algos[classe_de_models])\n",
    "    \n",
    "for pointeur_vers_algo in modeles_a_tester:\n",
    "    try:\n",
    "        algorithme = pointeur_vers_algo()\n",
    "        doc        = algorithme.__doc__\n",
    "        name       = doc[:min(doc.find(\":\"), 25)].strip()\n",
    "        print name\n",
    "        algorithme.fit(X_train, y_train)\n",
    "        performance = algorithme.score(X_test, y_test)\n",
    "        print performance\n",
    "        if performance >  best_perf:\n",
    "            best_algorithm = algorithme\n",
    "            best_perf = performance\n",
    "            \n",
    "        if 0<performance and performance<1:\n",
    "            performances[name] = [performance]\n",
    "    except Exception as e:\n",
    "        if \"label\" in str(e): print \"Algo de classification\"\n",
    "        else                : print str(e)[:50]\n",
    "    print \"=\"*30\n",
    "    "
   ]
  },
  {
   "cell_type": "code",
   "execution_count": 119,
   "metadata": {
    "collapsed": false
   },
   "outputs": [
    {
     "data": {
      "text/plain": [
       "ExtraTreesClassifier(bootstrap=False, class_weight=None, criterion='gini',\n",
       "           max_depth=None, max_features='auto', max_leaf_nodes=None,\n",
       "           min_samples_leaf=1, min_samples_split=2,\n",
       "           min_weight_fraction_leaf=0.0, n_estimators=10, n_jobs=1,\n",
       "           oob_score=False, random_state=None, verbose=0, warm_start=False)"
      ]
     },
     "execution_count": 119,
     "metadata": {},
     "output_type": "execute_result"
    }
   ],
   "source": [
    "best_algorithm"
   ]
  },
  {
   "cell_type": "code",
   "execution_count": 120,
   "metadata": {
    "collapsed": false
   },
   "outputs": [
    {
     "data": {
      "text/plain": [
       "{'A Bagging classifier.': [0.90909090909090906],\n",
       " 'A Bagging regressor.': [0.80316868592730661],\n",
       " 'A decision tree classifie': [0.90909090909090906],\n",
       " 'A decision tree regressor': [0.56943150046598312],\n",
       " 'A random forest classifie': [0.95454545454545459],\n",
       " 'A random forest regressor': [0.85483690587138861],\n",
       " 'An AdaBoost classifier.': [0.93939393939393945],\n",
       " 'An AdaBoost regressor.': [0.82780592504730433],\n",
       " 'An extra-trees classifier': [0.98484848484848486],\n",
       " 'An extra-trees regressor.': [0.88805219012115566],\n",
       " 'An extremely randomized t': [0.81547064305684991],\n",
       " 'An object for detecting o': [0.42424242424242425],\n",
       " 'Bayesian ARD regression.': [0.65488535046968144],\n",
       " 'Bayesian ridge regression': [0.6679581258081333],\n",
       " 'C-Support Vector Classifi': [0.95454545454545459],\n",
       " 'CCA Canonical Correlation': [0.10294474121830088],\n",
       " 'Classifier implementing t': [0.96969696969696972],\n",
       " 'Classifier using Ridge re': [0.90909090909090906],\n",
       " 'Cross-validated Lasso, us': [0.6798938624946691],\n",
       " 'Cross-validated Least Ang': [0.55972493202276552],\n",
       " 'Cross-validated Orthogona': [0.65261414321931377],\n",
       " 'DummyClassifier is a': [0.5757575757575758],\n",
       " 'Elastic Net model with it': [0.67357286732664123],\n",
       " 'Epsilon-Support Vector Re': [0.79904443016851201],\n",
       " 'Gaussian Naive Bayes': [0.93939393939393945],\n",
       " 'Gradient Boosting for cla': [0.89393939393939392],\n",
       " 'Gradient Boosting for reg': [0.73438684840351265],\n",
       " 'Label Propagation classif': [0.93939393939393945],\n",
       " 'LabelSpreading model for': [0.93939393939393945],\n",
       " 'Lasso linear model with i': [0.67683927659276799],\n",
       " 'Lasso model fit with Lars': [0.58107085016505899],\n",
       " 'Linear Discriminant Analy': [0.89393939393939392],\n",
       " 'Linear Support Vector Cla': [0.95454545454545459],\n",
       " 'Linear Support Vector Reg': [0.428184592550924],\n",
       " 'Linear classifiers (SVM,': [0.95454545454545459],\n",
       " 'Linear least squares with': [0.5410969579887388],\n",
       " 'Linear model fitted by mi': [0.67812973336069138],\n",
       " 'Logistic Regression (aka': [0.96969696969696972],\n",
       " 'Logistic Regression CV (a': [0.96969696969696972],\n",
       " 'Naive Bayes classifier fo': [0.93939393939393945],\n",
       " 'Nearest centroid classifi': [0.87878787878787878],\n",
       " 'Nu Support Vector Regress': [0.82353791973165569],\n",
       " 'Nu-Support Vector Classif': [0.95454545454545459],\n",
       " 'Ordinary least squar': [0.38151438368403545],\n",
       " 'Orthogonal Matching Pursu': [0.66056155660333693],\n",
       " 'PLS regression\\n\\n    PLSRe': [0.69308475531028191],\n",
       " 'Passive Aggressive Classi': [0.93939393939393945],\n",
       " 'Passive Aggressive Regres': [0.22290739569004125],\n",
       " 'Perceptron\\n\\n    Read more': [0.95454545454545459],\n",
       " 'Probability calibration w': [0.95454545454545459],\n",
       " 'Quadratic Discrimina': [0.95454545454545459],\n",
       " 'RANSAC (RANdom SAmple Con': [0.28206998967052999],\n",
       " 'Regression based on k-nea': [0.88682199440820131],\n",
       " 'Ridge classifier with bui': [0.95454545454545459],\n",
       " 'Ridge regression with bui': [0.66129287824105409],\n",
       " 'The Gaussian Process mode': [0.73479323967981269],\n",
       " 'Theil-Sen Estimator': [0.2284106886096221]}"
      ]
     },
     "execution_count": 120,
     "metadata": {},
     "output_type": "execute_result"
    }
   ],
   "source": [
    "performances"
   ]
  },
  {
   "cell_type": "code",
   "execution_count": 121,
   "metadata": {
    "collapsed": false
   },
   "outputs": [],
   "source": [
    "import pandas as pd\n",
    "df = pd.DataFrame(performances).T"
   ]
  },
  {
   "cell_type": "code",
   "execution_count": 122,
   "metadata": {
    "collapsed": false
   },
   "outputs": [],
   "source": [
    "col_name = \"performance\"\n",
    "df.columns = [col_name]"
   ]
  },
  {
   "cell_type": "code",
   "execution_count": 123,
   "metadata": {
    "collapsed": false
   },
   "outputs": [],
   "source": [
    "df = df.sort_values(col_name)"
   ]
  },
  {
   "cell_type": "code",
   "execution_count": 124,
   "metadata": {
    "collapsed": false
   },
   "outputs": [
    {
     "data": {
      "text/html": [
       "<div>\n",
       "<table border=\"1\" class=\"dataframe\">\n",
       "  <thead>\n",
       "    <tr style=\"text-align: right;\">\n",
       "      <th></th>\n",
       "      <th>performance</th>\n",
       "    </tr>\n",
       "  </thead>\n",
       "  <tbody>\n",
       "    <tr>\n",
       "      <th>CCA Canonical Correlation</th>\n",
       "      <td>0.102945</td>\n",
       "    </tr>\n",
       "    <tr>\n",
       "      <th>Passive Aggressive Regres</th>\n",
       "      <td>0.222907</td>\n",
       "    </tr>\n",
       "    <tr>\n",
       "      <th>Theil-Sen Estimator</th>\n",
       "      <td>0.228411</td>\n",
       "    </tr>\n",
       "    <tr>\n",
       "      <th>RANSAC (RANdom SAmple Con</th>\n",
       "      <td>0.282070</td>\n",
       "    </tr>\n",
       "    <tr>\n",
       "      <th>Ordinary least squar</th>\n",
       "      <td>0.381514</td>\n",
       "    </tr>\n",
       "    <tr>\n",
       "      <th>An object for detecting o</th>\n",
       "      <td>0.424242</td>\n",
       "    </tr>\n",
       "    <tr>\n",
       "      <th>Linear Support Vector Reg</th>\n",
       "      <td>0.428185</td>\n",
       "    </tr>\n",
       "    <tr>\n",
       "      <th>Linear least squares with</th>\n",
       "      <td>0.541097</td>\n",
       "    </tr>\n",
       "    <tr>\n",
       "      <th>Cross-validated Least Ang</th>\n",
       "      <td>0.559725</td>\n",
       "    </tr>\n",
       "    <tr>\n",
       "      <th>A decision tree regressor</th>\n",
       "      <td>0.569432</td>\n",
       "    </tr>\n",
       "    <tr>\n",
       "      <th>DummyClassifier is a</th>\n",
       "      <td>0.575758</td>\n",
       "    </tr>\n",
       "    <tr>\n",
       "      <th>Lasso model fit with Lars</th>\n",
       "      <td>0.581071</td>\n",
       "    </tr>\n",
       "    <tr>\n",
       "      <th>Cross-validated Orthogona</th>\n",
       "      <td>0.652614</td>\n",
       "    </tr>\n",
       "    <tr>\n",
       "      <th>Bayesian ARD regression.</th>\n",
       "      <td>0.654885</td>\n",
       "    </tr>\n",
       "    <tr>\n",
       "      <th>Orthogonal Matching Pursu</th>\n",
       "      <td>0.660562</td>\n",
       "    </tr>\n",
       "    <tr>\n",
       "      <th>Ridge regression with bui</th>\n",
       "      <td>0.661293</td>\n",
       "    </tr>\n",
       "    <tr>\n",
       "      <th>Bayesian ridge regression</th>\n",
       "      <td>0.667958</td>\n",
       "    </tr>\n",
       "    <tr>\n",
       "      <th>Elastic Net model with it</th>\n",
       "      <td>0.673573</td>\n",
       "    </tr>\n",
       "    <tr>\n",
       "      <th>Lasso linear model with i</th>\n",
       "      <td>0.676839</td>\n",
       "    </tr>\n",
       "    <tr>\n",
       "      <th>Linear model fitted by mi</th>\n",
       "      <td>0.678130</td>\n",
       "    </tr>\n",
       "    <tr>\n",
       "      <th>Cross-validated Lasso, us</th>\n",
       "      <td>0.679894</td>\n",
       "    </tr>\n",
       "    <tr>\n",
       "      <th>PLS regression\\n\\n    PLSRe</th>\n",
       "      <td>0.693085</td>\n",
       "    </tr>\n",
       "    <tr>\n",
       "      <th>Gradient Boosting for reg</th>\n",
       "      <td>0.734387</td>\n",
       "    </tr>\n",
       "    <tr>\n",
       "      <th>The Gaussian Process mode</th>\n",
       "      <td>0.734793</td>\n",
       "    </tr>\n",
       "    <tr>\n",
       "      <th>Epsilon-Support Vector Re</th>\n",
       "      <td>0.799044</td>\n",
       "    </tr>\n",
       "    <tr>\n",
       "      <th>A Bagging regressor.</th>\n",
       "      <td>0.803169</td>\n",
       "    </tr>\n",
       "    <tr>\n",
       "      <th>An extremely randomized t</th>\n",
       "      <td>0.815471</td>\n",
       "    </tr>\n",
       "    <tr>\n",
       "      <th>Nu Support Vector Regress</th>\n",
       "      <td>0.823538</td>\n",
       "    </tr>\n",
       "    <tr>\n",
       "      <th>An AdaBoost regressor.</th>\n",
       "      <td>0.827806</td>\n",
       "    </tr>\n",
       "    <tr>\n",
       "      <th>A random forest regressor</th>\n",
       "      <td>0.854837</td>\n",
       "    </tr>\n",
       "    <tr>\n",
       "      <th>Nearest centroid classifi</th>\n",
       "      <td>0.878788</td>\n",
       "    </tr>\n",
       "    <tr>\n",
       "      <th>Regression based on k-nea</th>\n",
       "      <td>0.886822</td>\n",
       "    </tr>\n",
       "    <tr>\n",
       "      <th>An extra-trees regressor.</th>\n",
       "      <td>0.888052</td>\n",
       "    </tr>\n",
       "    <tr>\n",
       "      <th>Gradient Boosting for cla</th>\n",
       "      <td>0.893939</td>\n",
       "    </tr>\n",
       "    <tr>\n",
       "      <th>Linear Discriminant Analy</th>\n",
       "      <td>0.893939</td>\n",
       "    </tr>\n",
       "    <tr>\n",
       "      <th>A Bagging classifier.</th>\n",
       "      <td>0.909091</td>\n",
       "    </tr>\n",
       "    <tr>\n",
       "      <th>A decision tree classifie</th>\n",
       "      <td>0.909091</td>\n",
       "    </tr>\n",
       "    <tr>\n",
       "      <th>Classifier using Ridge re</th>\n",
       "      <td>0.909091</td>\n",
       "    </tr>\n",
       "    <tr>\n",
       "      <th>Passive Aggressive Classi</th>\n",
       "      <td>0.939394</td>\n",
       "    </tr>\n",
       "    <tr>\n",
       "      <th>An AdaBoost classifier.</th>\n",
       "      <td>0.939394</td>\n",
       "    </tr>\n",
       "    <tr>\n",
       "      <th>Gaussian Naive Bayes</th>\n",
       "      <td>0.939394</td>\n",
       "    </tr>\n",
       "    <tr>\n",
       "      <th>LabelSpreading model for</th>\n",
       "      <td>0.939394</td>\n",
       "    </tr>\n",
       "    <tr>\n",
       "      <th>Naive Bayes classifier fo</th>\n",
       "      <td>0.939394</td>\n",
       "    </tr>\n",
       "    <tr>\n",
       "      <th>Label Propagation classif</th>\n",
       "      <td>0.939394</td>\n",
       "    </tr>\n",
       "    <tr>\n",
       "      <th>Nu-Support Vector Classif</th>\n",
       "      <td>0.954545</td>\n",
       "    </tr>\n",
       "    <tr>\n",
       "      <th>C-Support Vector Classifi</th>\n",
       "      <td>0.954545</td>\n",
       "    </tr>\n",
       "    <tr>\n",
       "      <th>Linear classifiers (SVM,</th>\n",
       "      <td>0.954545</td>\n",
       "    </tr>\n",
       "    <tr>\n",
       "      <th>Perceptron\\n\\n    Read more</th>\n",
       "      <td>0.954545</td>\n",
       "    </tr>\n",
       "    <tr>\n",
       "      <th>Probability calibration w</th>\n",
       "      <td>0.954545</td>\n",
       "    </tr>\n",
       "    <tr>\n",
       "      <th>Quadratic Discrimina</th>\n",
       "      <td>0.954545</td>\n",
       "    </tr>\n",
       "    <tr>\n",
       "      <th>A random forest classifie</th>\n",
       "      <td>0.954545</td>\n",
       "    </tr>\n",
       "    <tr>\n",
       "      <th>Ridge classifier with bui</th>\n",
       "      <td>0.954545</td>\n",
       "    </tr>\n",
       "    <tr>\n",
       "      <th>Linear Support Vector Cla</th>\n",
       "      <td>0.954545</td>\n",
       "    </tr>\n",
       "    <tr>\n",
       "      <th>Classifier implementing t</th>\n",
       "      <td>0.969697</td>\n",
       "    </tr>\n",
       "    <tr>\n",
       "      <th>Logistic Regression CV (a</th>\n",
       "      <td>0.969697</td>\n",
       "    </tr>\n",
       "    <tr>\n",
       "      <th>Logistic Regression (aka</th>\n",
       "      <td>0.969697</td>\n",
       "    </tr>\n",
       "    <tr>\n",
       "      <th>An extra-trees classifier</th>\n",
       "      <td>0.984848</td>\n",
       "    </tr>\n",
       "  </tbody>\n",
       "</table>\n",
       "</div>"
      ],
      "text/plain": [
       "                             performance\n",
       "CCA Canonical Correlation       0.102945\n",
       "Passive Aggressive Regres       0.222907\n",
       "Theil-Sen Estimator             0.228411\n",
       "RANSAC (RANdom SAmple Con       0.282070\n",
       "Ordinary least squar            0.381514\n",
       "An object for detecting o       0.424242\n",
       "Linear Support Vector Reg       0.428185\n",
       "Linear least squares with       0.541097\n",
       "Cross-validated Least Ang       0.559725\n",
       "A decision tree regressor       0.569432\n",
       "DummyClassifier is a            0.575758\n",
       "Lasso model fit with Lars       0.581071\n",
       "Cross-validated Orthogona       0.652614\n",
       "Bayesian ARD regression.        0.654885\n",
       "Orthogonal Matching Pursu       0.660562\n",
       "Ridge regression with bui       0.661293\n",
       "Bayesian ridge regression       0.667958\n",
       "Elastic Net model with it       0.673573\n",
       "Lasso linear model with i       0.676839\n",
       "Linear model fitted by mi       0.678130\n",
       "Cross-validated Lasso, us       0.679894\n",
       "PLS regression\\n\\n    PLSRe     0.693085\n",
       "Gradient Boosting for reg       0.734387\n",
       "The Gaussian Process mode       0.734793\n",
       "Epsilon-Support Vector Re       0.799044\n",
       "A Bagging regressor.            0.803169\n",
       "An extremely randomized t       0.815471\n",
       "Nu Support Vector Regress       0.823538\n",
       "An AdaBoost regressor.          0.827806\n",
       "A random forest regressor       0.854837\n",
       "Nearest centroid classifi       0.878788\n",
       "Regression based on k-nea       0.886822\n",
       "An extra-trees regressor.       0.888052\n",
       "Gradient Boosting for cla       0.893939\n",
       "Linear Discriminant Analy       0.893939\n",
       "A Bagging classifier.           0.909091\n",
       "A decision tree classifie       0.909091\n",
       "Classifier using Ridge re       0.909091\n",
       "Passive Aggressive Classi       0.939394\n",
       "An AdaBoost classifier.         0.939394\n",
       "Gaussian Naive Bayes            0.939394\n",
       "LabelSpreading model for        0.939394\n",
       "Naive Bayes classifier fo       0.939394\n",
       "Label Propagation classif       0.939394\n",
       "Nu-Support Vector Classif       0.954545\n",
       "C-Support Vector Classifi       0.954545\n",
       "Linear classifiers (SVM,        0.954545\n",
       "Perceptron\\n\\n    Read more     0.954545\n",
       "Probability calibration w       0.954545\n",
       "Quadratic Discrimina            0.954545\n",
       "A random forest classifie       0.954545\n",
       "Ridge classifier with bui       0.954545\n",
       "Linear Support Vector Cla       0.954545\n",
       "Classifier implementing t       0.969697\n",
       "Logistic Regression CV (a       0.969697\n",
       "Logistic Regression (aka        0.969697\n",
       "An extra-trees classifier       0.984848"
      ]
     },
     "execution_count": 124,
     "metadata": {},
     "output_type": "execute_result"
    }
   ],
   "source": [
    "df"
   ]
  },
  {
   "cell_type": "code",
   "execution_count": 125,
   "metadata": {
    "collapsed": false
   },
   "outputs": [],
   "source": [
    "liste_des_performances = df.performance.values\n",
    "gains = [0]\n",
    "for indice, performance in enumerate(liste_des_performances):\n",
    "    if indice>0:\n",
    "        previous_value = liste_des_performances[indice-1]\n",
    "        current_value  = liste_des_performances[indice]\n",
    "        gain = (current_value - previous_value) / previous_value\n",
    "        gains.append(round(gain*100, 2))\n",
    "df[\"gains\"] = gains"
   ]
  },
  {
   "cell_type": "code",
   "execution_count": 126,
   "metadata": {
    "collapsed": false
   },
   "outputs": [],
   "source": [
    "df = df.drop(\"gains\", axis=1)"
   ]
  },
  {
   "cell_type": "code",
   "execution_count": 127,
   "metadata": {
    "collapsed": false
   },
   "outputs": [
    {
     "data": {
      "text/html": [
       "<div>\n",
       "<table border=\"1\" class=\"dataframe\">\n",
       "  <thead>\n",
       "    <tr style=\"text-align: right;\">\n",
       "      <th></th>\n",
       "      <th>performance</th>\n",
       "    </tr>\n",
       "  </thead>\n",
       "  <tbody>\n",
       "    <tr>\n",
       "      <th>CCA Canonical Correlation</th>\n",
       "      <td>0.102945</td>\n",
       "    </tr>\n",
       "    <tr>\n",
       "      <th>Passive Aggressive Regres</th>\n",
       "      <td>0.222907</td>\n",
       "    </tr>\n",
       "    <tr>\n",
       "      <th>Theil-Sen Estimator</th>\n",
       "      <td>0.228411</td>\n",
       "    </tr>\n",
       "    <tr>\n",
       "      <th>RANSAC (RANdom SAmple Con</th>\n",
       "      <td>0.282070</td>\n",
       "    </tr>\n",
       "    <tr>\n",
       "      <th>Ordinary least squar</th>\n",
       "      <td>0.381514</td>\n",
       "    </tr>\n",
       "    <tr>\n",
       "      <th>An object for detecting o</th>\n",
       "      <td>0.424242</td>\n",
       "    </tr>\n",
       "    <tr>\n",
       "      <th>Linear Support Vector Reg</th>\n",
       "      <td>0.428185</td>\n",
       "    </tr>\n",
       "    <tr>\n",
       "      <th>Linear least squares with</th>\n",
       "      <td>0.541097</td>\n",
       "    </tr>\n",
       "    <tr>\n",
       "      <th>Cross-validated Least Ang</th>\n",
       "      <td>0.559725</td>\n",
       "    </tr>\n",
       "    <tr>\n",
       "      <th>A decision tree regressor</th>\n",
       "      <td>0.569432</td>\n",
       "    </tr>\n",
       "    <tr>\n",
       "      <th>DummyClassifier is a</th>\n",
       "      <td>0.575758</td>\n",
       "    </tr>\n",
       "    <tr>\n",
       "      <th>Lasso model fit with Lars</th>\n",
       "      <td>0.581071</td>\n",
       "    </tr>\n",
       "    <tr>\n",
       "      <th>Cross-validated Orthogona</th>\n",
       "      <td>0.652614</td>\n",
       "    </tr>\n",
       "    <tr>\n",
       "      <th>Bayesian ARD regression.</th>\n",
       "      <td>0.654885</td>\n",
       "    </tr>\n",
       "    <tr>\n",
       "      <th>Orthogonal Matching Pursu</th>\n",
       "      <td>0.660562</td>\n",
       "    </tr>\n",
       "    <tr>\n",
       "      <th>Ridge regression with bui</th>\n",
       "      <td>0.661293</td>\n",
       "    </tr>\n",
       "    <tr>\n",
       "      <th>Bayesian ridge regression</th>\n",
       "      <td>0.667958</td>\n",
       "    </tr>\n",
       "    <tr>\n",
       "      <th>Elastic Net model with it</th>\n",
       "      <td>0.673573</td>\n",
       "    </tr>\n",
       "    <tr>\n",
       "      <th>Lasso linear model with i</th>\n",
       "      <td>0.676839</td>\n",
       "    </tr>\n",
       "    <tr>\n",
       "      <th>Linear model fitted by mi</th>\n",
       "      <td>0.678130</td>\n",
       "    </tr>\n",
       "    <tr>\n",
       "      <th>Cross-validated Lasso, us</th>\n",
       "      <td>0.679894</td>\n",
       "    </tr>\n",
       "    <tr>\n",
       "      <th>PLS regression\\n\\n    PLSRe</th>\n",
       "      <td>0.693085</td>\n",
       "    </tr>\n",
       "    <tr>\n",
       "      <th>Gradient Boosting for reg</th>\n",
       "      <td>0.734387</td>\n",
       "    </tr>\n",
       "    <tr>\n",
       "      <th>The Gaussian Process mode</th>\n",
       "      <td>0.734793</td>\n",
       "    </tr>\n",
       "    <tr>\n",
       "      <th>Epsilon-Support Vector Re</th>\n",
       "      <td>0.799044</td>\n",
       "    </tr>\n",
       "    <tr>\n",
       "      <th>A Bagging regressor.</th>\n",
       "      <td>0.803169</td>\n",
       "    </tr>\n",
       "    <tr>\n",
       "      <th>An extremely randomized t</th>\n",
       "      <td>0.815471</td>\n",
       "    </tr>\n",
       "    <tr>\n",
       "      <th>Nu Support Vector Regress</th>\n",
       "      <td>0.823538</td>\n",
       "    </tr>\n",
       "    <tr>\n",
       "      <th>An AdaBoost regressor.</th>\n",
       "      <td>0.827806</td>\n",
       "    </tr>\n",
       "    <tr>\n",
       "      <th>A random forest regressor</th>\n",
       "      <td>0.854837</td>\n",
       "    </tr>\n",
       "    <tr>\n",
       "      <th>Nearest centroid classifi</th>\n",
       "      <td>0.878788</td>\n",
       "    </tr>\n",
       "    <tr>\n",
       "      <th>Regression based on k-nea</th>\n",
       "      <td>0.886822</td>\n",
       "    </tr>\n",
       "    <tr>\n",
       "      <th>An extra-trees regressor.</th>\n",
       "      <td>0.888052</td>\n",
       "    </tr>\n",
       "    <tr>\n",
       "      <th>Gradient Boosting for cla</th>\n",
       "      <td>0.893939</td>\n",
       "    </tr>\n",
       "    <tr>\n",
       "      <th>Linear Discriminant Analy</th>\n",
       "      <td>0.893939</td>\n",
       "    </tr>\n",
       "    <tr>\n",
       "      <th>A Bagging classifier.</th>\n",
       "      <td>0.909091</td>\n",
       "    </tr>\n",
       "    <tr>\n",
       "      <th>A decision tree classifie</th>\n",
       "      <td>0.909091</td>\n",
       "    </tr>\n",
       "    <tr>\n",
       "      <th>Classifier using Ridge re</th>\n",
       "      <td>0.909091</td>\n",
       "    </tr>\n",
       "    <tr>\n",
       "      <th>Passive Aggressive Classi</th>\n",
       "      <td>0.939394</td>\n",
       "    </tr>\n",
       "    <tr>\n",
       "      <th>An AdaBoost classifier.</th>\n",
       "      <td>0.939394</td>\n",
       "    </tr>\n",
       "    <tr>\n",
       "      <th>Gaussian Naive Bayes</th>\n",
       "      <td>0.939394</td>\n",
       "    </tr>\n",
       "    <tr>\n",
       "      <th>LabelSpreading model for</th>\n",
       "      <td>0.939394</td>\n",
       "    </tr>\n",
       "    <tr>\n",
       "      <th>Naive Bayes classifier fo</th>\n",
       "      <td>0.939394</td>\n",
       "    </tr>\n",
       "    <tr>\n",
       "      <th>Label Propagation classif</th>\n",
       "      <td>0.939394</td>\n",
       "    </tr>\n",
       "    <tr>\n",
       "      <th>Nu-Support Vector Classif</th>\n",
       "      <td>0.954545</td>\n",
       "    </tr>\n",
       "    <tr>\n",
       "      <th>C-Support Vector Classifi</th>\n",
       "      <td>0.954545</td>\n",
       "    </tr>\n",
       "    <tr>\n",
       "      <th>Linear classifiers (SVM,</th>\n",
       "      <td>0.954545</td>\n",
       "    </tr>\n",
       "    <tr>\n",
       "      <th>Perceptron\\n\\n    Read more</th>\n",
       "      <td>0.954545</td>\n",
       "    </tr>\n",
       "    <tr>\n",
       "      <th>Probability calibration w</th>\n",
       "      <td>0.954545</td>\n",
       "    </tr>\n",
       "    <tr>\n",
       "      <th>Quadratic Discrimina</th>\n",
       "      <td>0.954545</td>\n",
       "    </tr>\n",
       "    <tr>\n",
       "      <th>A random forest classifie</th>\n",
       "      <td>0.954545</td>\n",
       "    </tr>\n",
       "    <tr>\n",
       "      <th>Ridge classifier with bui</th>\n",
       "      <td>0.954545</td>\n",
       "    </tr>\n",
       "    <tr>\n",
       "      <th>Linear Support Vector Cla</th>\n",
       "      <td>0.954545</td>\n",
       "    </tr>\n",
       "    <tr>\n",
       "      <th>Classifier implementing t</th>\n",
       "      <td>0.969697</td>\n",
       "    </tr>\n",
       "    <tr>\n",
       "      <th>Logistic Regression CV (a</th>\n",
       "      <td>0.969697</td>\n",
       "    </tr>\n",
       "    <tr>\n",
       "      <th>Logistic Regression (aka</th>\n",
       "      <td>0.969697</td>\n",
       "    </tr>\n",
       "    <tr>\n",
       "      <th>An extra-trees classifier</th>\n",
       "      <td>0.984848</td>\n",
       "    </tr>\n",
       "  </tbody>\n",
       "</table>\n",
       "</div>"
      ],
      "text/plain": [
       "                             performance\n",
       "CCA Canonical Correlation       0.102945\n",
       "Passive Aggressive Regres       0.222907\n",
       "Theil-Sen Estimator             0.228411\n",
       "RANSAC (RANdom SAmple Con       0.282070\n",
       "Ordinary least squar            0.381514\n",
       "An object for detecting o       0.424242\n",
       "Linear Support Vector Reg       0.428185\n",
       "Linear least squares with       0.541097\n",
       "Cross-validated Least Ang       0.559725\n",
       "A decision tree regressor       0.569432\n",
       "DummyClassifier is a            0.575758\n",
       "Lasso model fit with Lars       0.581071\n",
       "Cross-validated Orthogona       0.652614\n",
       "Bayesian ARD regression.        0.654885\n",
       "Orthogonal Matching Pursu       0.660562\n",
       "Ridge regression with bui       0.661293\n",
       "Bayesian ridge regression       0.667958\n",
       "Elastic Net model with it       0.673573\n",
       "Lasso linear model with i       0.676839\n",
       "Linear model fitted by mi       0.678130\n",
       "Cross-validated Lasso, us       0.679894\n",
       "PLS regression\\n\\n    PLSRe     0.693085\n",
       "Gradient Boosting for reg       0.734387\n",
       "The Gaussian Process mode       0.734793\n",
       "Epsilon-Support Vector Re       0.799044\n",
       "A Bagging regressor.            0.803169\n",
       "An extremely randomized t       0.815471\n",
       "Nu Support Vector Regress       0.823538\n",
       "An AdaBoost regressor.          0.827806\n",
       "A random forest regressor       0.854837\n",
       "Nearest centroid classifi       0.878788\n",
       "Regression based on k-nea       0.886822\n",
       "An extra-trees regressor.       0.888052\n",
       "Gradient Boosting for cla       0.893939\n",
       "Linear Discriminant Analy       0.893939\n",
       "A Bagging classifier.           0.909091\n",
       "A decision tree classifie       0.909091\n",
       "Classifier using Ridge re       0.909091\n",
       "Passive Aggressive Classi       0.939394\n",
       "An AdaBoost classifier.         0.939394\n",
       "Gaussian Naive Bayes            0.939394\n",
       "LabelSpreading model for        0.939394\n",
       "Naive Bayes classifier fo       0.939394\n",
       "Label Propagation classif       0.939394\n",
       "Nu-Support Vector Classif       0.954545\n",
       "C-Support Vector Classifi       0.954545\n",
       "Linear classifiers (SVM,        0.954545\n",
       "Perceptron\\n\\n    Read more     0.954545\n",
       "Probability calibration w       0.954545\n",
       "Quadratic Discrimina            0.954545\n",
       "A random forest classifie       0.954545\n",
       "Ridge classifier with bui       0.954545\n",
       "Linear Support Vector Cla       0.954545\n",
       "Classifier implementing t       0.969697\n",
       "Logistic Regression CV (a       0.969697\n",
       "Logistic Regression (aka        0.969697\n",
       "An extra-trees classifier       0.984848"
      ]
     },
     "execution_count": 127,
     "metadata": {},
     "output_type": "execute_result"
    }
   ],
   "source": [
    "df"
   ]
  },
  {
   "cell_type": "code",
   "execution_count": 128,
   "metadata": {
    "collapsed": true
   },
   "outputs": [],
   "source": [
    "%matplotlib inline\n",
    "import matplotlib.pyplot as plt\n",
    "import matplotlib.ticker as ticker"
   ]
  },
  {
   "cell_type": "code",
   "execution_count": 129,
   "metadata": {
    "collapsed": false
   },
   "outputs": [
    {
     "data": {
      "image/png": "[encoded data removed]",
      "text/plain": [
       "<matplotlib.figure.Figure at 0x114e51fd0>"
      ]
     },
     "metadata": {},
     "output_type": "display_data"
    }
   ],
   "source": [
    "df = df.sort_values(col_name)\n",
    "ax = df.plot(rot=45, x_compat=True)"
   ]
  },
  {
   "cell_type": "code",
   "execution_count": 130,
   "metadata": {
    "collapsed": false
   },
   "outputs": [
    {
     "data": {
      "image/png": "[encoded data removed]",
      "text/plain": [
       "<matplotlib.figure.Figure at 0x1146d2e90>"
      ]
     },
     "metadata": {},
     "output_type": "display_data"
    }
   ],
   "source": [
    "df = df.sort_values(col_name)\n",
    "ax = df.plot(rot=90, x_compat=True)\n",
    "ax.xaxis.set_ticklabels(df.index)\n",
    "ax.xaxis.set_major_locator(ticker.MultipleLocator(1))"
   ]
  },
  {
   "cell_type": "code",
   "execution_count": 131,
   "metadata": {
    "collapsed": false
   },
   "outputs": [
    {
     "data": {
      "text/plain": [
       "<matplotlib.axes._subplots.AxesSubplot at 0x11376b450>"
      ]
     },
     "execution_count": 131,
     "metadata": {},
     "output_type": "execute_result"
    },
    {
     "data": {
      "image/png": "[encoded data removed]",
      "text/plain": [
       "<matplotlib.figure.Figure at 0x11391e310>"
      ]
     },
     "metadata": {},
     "output_type": "display_data"
    }
   ],
   "source": [
    "fig , axes = plt.subplots(1,1)\n",
    "fig.set_size_inches(15,3)\n",
    "df = df.sort_values(col_name )\n",
    "axes.xaxis.set_ticklabels(df.index)\n",
    "axes.xaxis.set_major_locator(ticker.MultipleLocator(1))\n",
    "df.plot(rot=45, ax=axes)\n"
   ]
  },
  {
   "cell_type": "code",
   "execution_count": 132,
   "metadata": {
    "collapsed": false
   },
   "outputs": [
    {
     "data": {
      "text/plain": [
       "<matplotlib.axes._subplots.AxesSubplot at 0x113e53210>"
      ]
     },
     "execution_count": 132,
     "metadata": {},
     "output_type": "execute_result"
    },
    {
     "data": {
      "image/png": "[encoded data removed]",
      "text/plain": [
       "<matplotlib.figure.Figure at 0x113ec9210>"
      ]
     },
     "metadata": {},
     "output_type": "display_data"
    }
   ],
   "source": [
    "fig , axes = plt.subplots(1,1)\n",
    "fig.set_size_inches(15,3)\n",
    "df = df.sort_values(col_name )\n",
    "axes.xaxis.set_ticklabels(df.index)\n",
    "axes.xaxis.set_major_locator(ticker.MultipleLocator(1))\n",
    "df.plot(kind='bar', rot=90, ax=axes)"
   ]
  },
  {
   "cell_type": "code",
   "execution_count": 133,
   "metadata": {
    "collapsed": false,
    "scrolled": true
   },
   "outputs": [
    {
     "data": {
      "image/png": "[encoded data removed]",
      "text/plain": [
       "<matplotlib.figure.Figure at 0x113788150>"
      ]
     },
     "metadata": {},
     "output_type": "display_data"
    }
   ],
   "source": [
    "new_labels = []\n",
    "for i, index in enumerate(df.index):\n",
    "    new_label = \"%s (%.2f)\"%(index,df.performance[i])\n",
    "    new_labels.append(new_label.replace(\"\\n\", \" \"))\n",
    "    \n",
    "fig , axes = plt.subplots(1,1)\n",
    "df.index = new_labels\n",
    "fig.set_size_inches(15,8)\n",
    "fig.subplots_adjust(left=0.65)\n",
    "df.sort_values(col_name).plot(kind='barh', ax=axes)\n",
    "axes.xaxis.set_major_locator(ticker.MultipleLocator(1))\n",
    "\n",
    "pass"
   ]
  },
  {
   "cell_type": "markdown",
   "metadata": {},
   "source": [
    "# 7) which scoring function ?"
   ]
  },
  {
   "cell_type": "code",
   "execution_count": 236,
   "metadata": {
    "collapsed": false
   },
   "outputs": [],
   "source": [
    "from sklearn.metrics import precision_recall_curve"
   ]
  },
  {
   "cell_type": "code",
   "execution_count": 237,
   "metadata": {
    "collapsed": true
   },
   "outputs": [],
   "source": [
    "from sklearn.metrics import roc_curve"
   ]
  },
  {
   "cell_type": "markdown",
   "metadata": {},
   "source": [
    "# 8) tester les métriques sur un algo"
   ]
  },
  {
   "cell_type": "code",
   "execution_count": 289,
   "metadata": {
    "collapsed": false
   },
   "outputs": [],
   "source": [
    "from sklearn.tree import DecisionTreeClassifier\n",
    "from sklearn.ensemble import RandomForestClassifier\n",
    "from sklearn.linear_model import ElasticNet, BayesianRidge"
   ]
  },
  {
   "cell_type": "markdown",
   "metadata": {},
   "source": [
    "# 8.1) l'algo a des performances variables"
   ]
  },
  {
   "cell_type": "code",
   "execution_count": 290,
   "metadata": {
    "collapsed": false
   },
   "outputs": [
    {
     "name": "stdout",
     "output_type": "stream",
     "text": [
      "0 0.989361702128\n",
      "1 0.984042553191\n",
      "2 0.994680851064\n",
      "3 0.989361702128\n",
      "4 0.984042553191\n",
      "5 0.989361702128\n",
      "6 0.989361702128\n",
      "7 0.989361702128\n"
     ]
    }
   ],
   "source": [
    "performances = {}\n",
    "algorithme = RandomForestClassifier()\n",
    "for i in range(8):\n",
    "    modele      = algorithme.fit(X_train, y_train)\n",
    "    performance = modele.score(   X_test, y_test)\n",
    "    print i, performance\n",
    "    performances[i] = [performance]"
   ]
  },
  {
   "cell_type": "code",
   "execution_count": 291,
   "metadata": {
    "collapsed": false
   },
   "outputs": [
    {
     "data": {
      "text/plain": [
       "<matplotlib.axes._subplots.AxesSubplot at 0x11825a810>"
      ]
     },
     "execution_count": 291,
     "metadata": {},
     "output_type": "execute_result"
    },
    {
     "data": {
      "image/png": "[encoded data removed]",
      "text/plain": [
       "<matplotlib.figure.Figure at 0x1184b5450>"
      ]
     },
     "metadata": {},
     "output_type": "display_data"
    }
   ],
   "source": [
    "pd.DataFrame.from_dict(performances).T.plot()"
   ]
  },
  {
   "cell_type": "markdown",
   "metadata": {},
   "source": [
    "# 9) Taux d'erreur sur probabilité d'appartenance à une classe"
   ]
  },
  {
   "cell_type": "code",
   "execution_count": 295,
   "metadata": {
    "collapsed": false
   },
   "outputs": [
    {
     "name": "stdout",
     "output_type": "stream",
     "text": [
      "[ 0.  1.] [ 0.  1.] [ 0.1  0.9] [ 0.1  0.9] [ 1.  0.] [ 1.  0.] [ 1.  0.] [ 0.8  0.2] [ 0.  1.] [ 0.2  0.8] [ 0.  1.] [ 0.3  0.7] [ 0.  1.] [ 1.  0.] [ 0.  1.] [ 1.  0.] [ 0.6  0.4] [ 0.2  0.8] [ 0.9  0.1] [ 0.  1.] [ 1.  0.] [ 0.  1.] [ 0.  1.] [ 0.9  0.1] [ 0.1  0.9] [ 0.  1.] [ 0.9  0.1] [ 0.  1.] [ 0.  1.] [ 0.5  0.5]\n"
     ]
    }
   ],
   "source": [
    "y_pred = modele.predict_proba(X_test)\n",
    "for i in y_pred[:30]:\n",
    "    print i,"
   ]
  },
  {
   "cell_type": "code",
   "execution_count": 296,
   "metadata": {
    "collapsed": false
   },
   "outputs": [
    {
     "data": {
      "text/plain": [
       "array([ 1. ,  1. ,  0.9,  0.9,  0. ,  0. ,  0. ,  0.2,  1. ,  0.8,  1. ,\n",
       "        0.7,  1. ,  0. ,  1. ,  0. ,  0.4,  0.8,  0.1,  1. ,  0. ,  1. ,\n",
       "        1. ,  0.1,  0.9,  1. ,  0.1,  1. ,  1. ,  0.5])"
      ]
     },
     "execution_count": 296,
     "metadata": {},
     "output_type": "execute_result"
    }
   ],
   "source": [
    "y_pred[:, 1][:30]"
   ]
  },
  {
   "cell_type": "code",
   "execution_count": 298,
   "metadata": {
    "collapsed": false
   },
   "outputs": [
    {
     "data": {
      "text/plain": [
       "array([1, 1, 1, 1, 0, 0, 0, 0, 1, 1, 1, 1, 1, 0, 1, 0, 0, 1, 0, 1, 0, 1, 1,\n",
       "       0, 1, 1, 0, 1, 1, 1])"
      ]
     },
     "execution_count": 298,
     "metadata": {},
     "output_type": "execute_result"
    }
   ],
   "source": [
    "y_test[:30]"
   ]
  },
  {
   "cell_type": "markdown",
   "metadata": {},
   "source": [
    "# Le taux d'erreur dépend du seuil de choix de basculement vers 1 ou 0"
   ]
  },
  {
   "cell_type": "code",
   "execution_count": 273,
   "metadata": {
    "collapsed": true
   },
   "outputs": [],
   "source": [
    "from sklearn.metrics import confusion_matrix, roc_curve, auc"
   ]
  },
  {
   "cell_type": "code",
   "execution_count": 274,
   "metadata": {
    "collapsed": true
   },
   "outputs": [],
   "source": [
    "def bascule(y_pred, seuil):\n",
    "    return map(lambda prediction : 0 if prediction < seuil   else 1, y_pred)"
   ]
  },
  {
   "cell_type": "code",
   "execution_count": 275,
   "metadata": {
    "collapsed": false
   },
   "outputs": [
    {
     "name": "stdout",
     "output_type": "stream",
     "text": [
      "[[ 73   1]\n",
      " [  1 113]]\n",
      "[1, 1, 1, 1, 0, 0, 0, 0, 1, 1, 1, 1, 1, 0, 1, 0, 0, 1, 0, 1, 0, 1, 1, 0, 1, 1, 0, 1, 1, 1, 0, 1, 1, 1, 1, 1, 1, 1, 0, 1, 0, 1, 1, 1, 0, 1, 0, 0, 1, 1, 1, 0, 0, 0, 0, 0, 1, 1, 0, 1, 1, 1, 1, 1, 1, 1, 0, 1, 1, 1, 0, 1, 1, 1, 0, 0, 0, 1, 1, 0, 1, 0, 0, 1, 0, 1, 1, 0, 0, 1, 1, 1, 1, 1, 1, 1, 1, 1, 1, 0, 0, 0, 1, 0, 0, 1, 1, 1, 0, 0, 1, 0, 0, 0, 1, 0, 1, 0, 1, 0, 0, 0, 1, 0, 1, 1, 1, 1, 0, 1, 0, 0, 1, 0, 1, 0, 0, 1, 1, 1, 1, 0, 0, 0, 0, 1, 1, 1, 1, 1, 1, 0, 1, 0, 1, 1, 1, 1, 0, 1, 1, 0, 0, 1, 1, 0, 1, 0, 0, 0, 1, 1, 1, 1, 1, 0, 1, 1, 0, 0, 0, 1, 1, 0, 1, 1, 1, 1]\n"
     ]
    }
   ],
   "source": [
    "prediction_selon_seuil = bascule(y_pred[:, 1], 0.5)\n",
    "print confusion_matrix(prediction_selon_seuil, y_test)\n",
    "print prediction_selon_seuil"
   ]
  },
  {
   "cell_type": "code",
   "execution_count": 276,
   "metadata": {
    "collapsed": true
   },
   "outputs": [],
   "source": [
    "def draw_confusion_matrix(y_test, predictions, title):\n",
    "    from sklearn.metrics import confusion_matrix,accuracy_score\n",
    "    import matplotlib.pyplot as plt\n",
    "    cm    = confusion_matrix(y_test, predictions)\n",
    "    accur = accuracy_score  (y_test, predictions)\n",
    "    \n",
    "    plt.matshow  (cm)\n",
    "    plt.ylabel   ('True Label')\n",
    "    plt.xlabel   ('Predicted Label')\n",
    "    plt.suptitle ('Confusion matrix (Accuracy of %.2f) for [%s]'%(accur,title))\n",
    "    plt.colorbar ()\n",
    "    plt.show     ()"
   ]
  },
  {
   "cell_type": "code",
   "execution_count": 277,
   "metadata": {
    "collapsed": false
   },
   "outputs": [
    {
     "data": {
      "image/png": "[encoded data removed]",
      "text/plain": [
       "<matplotlib.figure.Figure at 0x110cac410>"
      ]
     },
     "metadata": {},
     "output_type": "display_data"
    }
   ],
   "source": [
    "draw_confusion_matrix(y_test, prediction_selon_seuil, \"t\")"
   ]
  },
  {
   "cell_type": "markdown",
   "metadata": {},
   "source": [
    "# Comment tester tous les seuils ? \n",
    "# Avec la courbe ROC"
   ]
  },
  {
   "cell_type": "code",
   "execution_count": 278,
   "metadata": {
    "collapsed": false
   },
   "outputs": [],
   "source": [
    "taux_de_faux_positif, taux_de_vrai_positifs, seuils =  roc_curve(y_test, y_pred[:, 1])"
   ]
  },
  {
   "cell_type": "code",
   "execution_count": 299,
   "metadata": {
    "collapsed": false
   },
   "outputs": [
    {
     "data": {
      "text/plain": [
       "array([ 1. ,  0.9,  0.8,  0.7,  0.5,  0.4,  0.3,  0.2,  0.1,  0. ])"
      ]
     },
     "execution_count": 299,
     "metadata": {},
     "output_type": "execute_result"
    }
   ],
   "source": [
    "seuils"
   ]
  },
  {
   "cell_type": "code",
   "execution_count": 300,
   "metadata": {
    "collapsed": false
   },
   "outputs": [
    {
     "data": {
      "text/plain": [
       "array([ 0.73684211,  0.85964912,  0.93859649,  0.99122807,  0.99122807,\n",
       "        1.        ,  1.        ,  1.        ,  1.        ,  1.        ])"
      ]
     },
     "execution_count": 300,
     "metadata": {},
     "output_type": "execute_result"
    }
   ],
   "source": [
    "taux_de_vrai_positifs"
   ]
  },
  {
   "cell_type": "code",
   "execution_count": 301,
   "metadata": {
    "collapsed": false
   },
   "outputs": [
    {
     "data": {
      "text/plain": [
       "array([ 0.        ,  0.        ,  0.        ,  0.        ,  0.01351351,\n",
       "        0.02702703,  0.05405405,  0.09459459,  0.21621622,  1.        ])"
      ]
     },
     "execution_count": 301,
     "metadata": {},
     "output_type": "execute_result"
    }
   ],
   "source": [
    "taux_de_faux_positif"
   ]
  },
  {
   "cell_type": "code",
   "execution_count": 302,
   "metadata": {
    "collapsed": false
   },
   "outputs": [
    {
     "data": {
      "text/plain": [
       "0.99982219061166433"
      ]
     },
     "execution_count": 302,
     "metadata": {},
     "output_type": "execute_result"
    }
   ],
   "source": [
    "auc_global = auc(taux_de_faux_positif, taux_de_vrai_positifs)\n",
    "auc_global"
   ]
  },
  {
   "cell_type": "markdown",
   "metadata": {},
   "source": [
    "# Tracer la courbe ROC"
   ]
  },
  {
   "cell_type": "code",
   "execution_count": 303,
   "metadata": {
    "collapsed": false
   },
   "outputs": [
    {
     "data": {
      "image/png": "[encoded data removed]",
      "text/plain": [
       "<matplotlib.figure.Figure at 0x11642b610>"
      ]
     },
     "metadata": {},
     "output_type": "display_data"
    }
   ],
   "source": [
    "plt.figure()\n",
    "lw = 2\n",
    "plt.plot(taux_de_faux_positif, \n",
    "         taux_de_vrai_positifs, \n",
    "         color='darkorange',\n",
    "         lw=lw, \n",
    "         label='ROC curve (area = %0.2f)' % auc_global)\n",
    "plt.plot([0, 1], [0, 1], color='navy', lw=lw, linestyle='--')\n",
    "plt.xlim([0.0, 1.0])\n",
    "plt.ylim([0.0, 1.05])\n",
    "plt.xlabel('False Positive Rate')\n",
    "plt.ylabel('True Positive Rate')\n",
    "plt.title('Receiver operating characteristic example')\n",
    "plt.legend(loc=\"lower right\")\n",
    "plt.show()"
   ]
  },
  {
   "cell_type": "markdown",
   "metadata": {},
   "source": [
    "# on s'intéresse en général à l'AUC (ici elle paraît trop belle)"
   ]
  }
 ],
 "metadata": {
  "kernelspec": {
   "display_name": "Python [Root]",
   "language": "python",
   "name": "Python [Root]"
  },
  "language_info": {
   "codemirror_mode": {
    "name": "ipython",
    "version": 2
   },
   "file_extension": ".py",
   "mimetype": "text/x-python",
   "name": "python",
   "nbconvert_exporter": "python",
   "pygments_lexer": "ipython2",
   "version": "2.7.11"
  }
 },
 "nbformat": 4,
 "nbformat_minor": 0
}
