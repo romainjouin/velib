{
 "cells": [
  {
   "cell_type": "markdown",
   "metadata": {},
   "source": [
    "# Debut"
   ]
  },
  {
   "cell_type": "code",
   "execution_count": 290,
   "metadata": {
    "collapsed": false
   },
   "outputs": [],
   "source": [
    "def random_float(min=0, max=9):\n",
    "    import random\n",
    "    entier = random.randint(min, max)\n",
    "    float_ = random.random()\n",
    "    return entier+float_"
   ]
  },
  {
   "cell_type": "code",
   "execution_count": 291,
   "metadata": {
    "collapsed": true
   },
   "outputs": [],
   "source": [
    "class Position():\n",
    "    def __init__(self, longitude, lattitude):\n",
    "        self.longitude = longitude\n",
    "        self.lattitude = lattitude\n",
    "    def __str__(self):\n",
    "        return \"(lon:%s lat:%s)\"%(self.longitude, self.lattitude)\n"
   ]
  },
  {
   "cell_type": "markdown",
   "metadata": {},
   "source": [
    "# 1) Logger"
   ]
  },
  {
   "cell_type": "code",
   "execution_count": 398,
   "metadata": {
    "collapsed": false
   },
   "outputs": [],
   "source": [
    "class Logger():\n",
    "    def __init__(self, path, bufferlength=1, separator=\"\\n\", mode=\"a\"):\n",
    "        import os\n",
    "        if os.path.exists(path) :\n",
    "            msg = \"Attention : vous allez utiliser un fichier existant !\"\n",
    "            print (msg)\n",
    "            if (mode != \"a\"):\n",
    "                raise msg\n",
    "        self.path         = path\n",
    "        self.logs         = []\n",
    "        self.bufferlength = bufferlength\n",
    "        self.separator    = separator\n",
    "\n",
    "    def clean_msg(self, msg):\n",
    "        msg = str(msg)\n",
    "        if msg[-1] != \"\\n\": \n",
    "            msg = msg + \"\\n\"\n",
    "        return msg\n",
    "    \n",
    "    def log(self, msg):\n",
    "        msg = self.clean_msg(msg)\n",
    "        import datetime\n",
    "        msg=str(datetime.datetime.now().isoformat())+\",\"+msg\n",
    "        self.logs.append(msg)\n",
    "        if self.bufferlength < len(self.logs):\n",
    "            self.write_to_disk()\n",
    "    \n",
    "    def write_to_disk(self):\n",
    "        with open(self.path, \"a\") as f:\n",
    "            f.writelines(self.logs)\n",
    "        self.logs= []\n",
    "    \n",
    "    def __del__(self):\n",
    "        self.write_to_disk()\n",
    "                "
   ]
  },
  {
   "cell_type": "code",
   "execution_count": 399,
   "metadata": {
    "collapsed": false
   },
   "outputs": [],
   "source": [
    "def get_random_position():\n",
    "    return Position(random_float(), random_float())"
   ]
  },
  {
   "cell_type": "markdown",
   "metadata": {},
   "source": [
    "# 2) Velo"
   ]
  },
  {
   "cell_type": "code",
   "execution_count": 400,
   "metadata": {
    "collapsed": true
   },
   "outputs": [],
   "source": [
    "class Velo:\n",
    "    nb_d_instance =0\n",
    "    def __init__(self):\n",
    "        import random\n",
    "        Velo.nb_d_instance += 1\n",
    "        self.id             = \"velo_%s\"%(Velo.nb_d_instance)\n",
    "        self.performance    = random.random()\n",
    "    def update_performance(self):\n",
    "        import numpy as np\n",
    "        self.performance = np.random.normal(0.75, 0.2)"
   ]
  },
  {
   "cell_type": "markdown",
   "metadata": {},
   "source": [
    "# 3) Trajet"
   ]
  },
  {
   "cell_type": "code",
   "execution_count": 401,
   "metadata": {
    "collapsed": false
   },
   "outputs": [],
   "source": [
    "class Trajet():\n",
    "    def __init__(self, position_depart, position_arrivee):\n",
    "        self.depart      = position_depart\n",
    "        self.destination = position_arrivee\n",
    "        self.set_position(position_depart)\n",
    "        self.set_distance() \n",
    "        self.set_pas()\n",
    "        self.avancee_minimale    = 1\n",
    "        \n",
    "    def set_position(self, position):\n",
    "        self.longitude   = position.longitude\n",
    "        self.lattitude   = position.lattitude\n",
    "        self.position    = position\n",
    "        \n",
    "    def set_pas(self):\n",
    "        delta_longitude    = self.destination.longitude  - self.longitude\n",
    "        delta_lattitude    = self.destination.lattitude  - self.lattitude\n",
    "        self.pas_longitude = delta_longitude / float(10)\n",
    "        self.pas_lattitude = delta_lattitude / float(10)\n",
    "        \n",
    "    def set_distance(self):\n",
    "        import math\n",
    "        delta_longitude = self.destination.longitude  - self.longitude\n",
    "        delta_lattitude = self.destination.lattitude  - self.lattitude\n",
    "        distance        = math.sqrt(math.pow(delta_longitude, 2) + math.pow(delta_lattitude, 2))\n",
    "        self.distance   = distance\n",
    "        \n",
    "    def next_position(self):\n",
    "        self.set_distance() \n",
    "        if self.distance < self.avancee_minimale:\n",
    "            self.set_position(self.destination)\n",
    "            return self.destination\n",
    "        else:\n",
    "            new_longitude   = self.longitude + self.pas_longitude\n",
    "            new_latitude    = self.lattitude + self.pas_lattitude\n",
    "            new_position    = Position(new_longitude, new_latitude)\n",
    "            self.set_position(new_position)\n",
    "            return new_position"
   ]
  },
  {
   "cell_type": "markdown",
   "metadata": {},
   "source": [
    "# 4) Decaux"
   ]
  },
  {
   "cell_type": "code",
   "execution_count": 402,
   "metadata": {
    "collapsed": false
   },
   "outputs": [],
   "source": [
    "class JcDecaux():\n",
    "    def __init__(self, largeur=10, hauteur=10):\n",
    "        self.largeur = largeur\n",
    "        self.hauteur = hauteur\n",
    "        self.reseau = []\n",
    "        for lattitude in range(self.largeur):\n",
    "            for longitude in range(self.hauteur):\n",
    "                emplacement = Position(lattitude, longitude)\n",
    "                new_station = Station(emplacement)\n",
    "                self.reseau.append(new_station)\n",
    "                \n",
    "    def get_closest_station(self, position):\n",
    "        nb_ligne = round(position.lattitude)\n",
    "        nb_col   = round(position.longitude)\n",
    "        \n",
    "        indice   =  (nb_ligne * self.largeur) + (nb_col )\n",
    "        try:\n",
    "            closest  = self.reseau[int(indice)]\n",
    "        except:\n",
    "                closest  = self.reseau[-1]\n",
    "        return closest\n",
    "    \n",
    "\n",
    "    def filtrer_le_reseau(self, function_de_test):\n",
    "        \"\"\"\n",
    "        Renvoie les stations qui passe le test.\n",
    "        \n",
    "        Parameters:\n",
    "            function de test : lambda function\n",
    "        Return:\n",
    "            list\n",
    "        \n",
    "        \"\"\"\n",
    "        return list(filter(function_de_test, self.reseau))\n",
    "    def nb_station_passant_le_test(self, function):\n",
    "        r = self.filtrer_le_reseau(function)\n",
    "        return len(r)\n",
    "    \n",
    "    def nombre_de_stations(self):\n",
    "        return len(self.reseau)\n",
    "    \n",
    "    def nombre_de_velos(self):\n",
    "        return sum(map(lambda x: x.nb_de_velos(),self.reseau))\n",
    "    \n",
    "    def nombre_de_stations_pleine(self):\n",
    "        test  = lambda station: station.nb_bornes == len(station.velos)\n",
    "        return self.nb_station_passant_le_test(test)\n",
    "    \n",
    "    def nombre_de_stations_avec_velo(self):\n",
    "        test = lambda x: x.has_velo()\n",
    "        return self.nb_station_passant_le_test(test)\n",
    "    \n",
    "    def nombre_de_stations_vide(self):\n",
    "        test  = lambda station: not station.has_velo()\n",
    "        return self.nb_station_passant_le_test(test)\n",
    "\n",
    "    def __str__(self):\n",
    "        return \"\"\"\n",
    "                Nb de stations           : %s \n",
    "                Nb de vélos              : %s \n",
    "                Nb de stations avec vélo : %s \n",
    "                Nb de stations pleines   : %s\n",
    "                Nb de stations vides     : %s\n",
    "        \"\"\"%(self.nombre_de_stations(),\n",
    "             self.nombre_de_velos(),\n",
    "             self.nombre_de_stations_avec_velo(),\n",
    "             self.nombre_de_stations_pleine(),\n",
    "             self.nombre_de_stations_vide())\n",
    "    \n",
    "    def nombre_de_velos_sous_performants(self, seuil=0.5):\n",
    "        r = map(lambda station: station.nb_velo_under_perf(seuil), self.reseau)\n",
    "        return sum(list(r))\n",
    "    "
   ]
  },
  {
   "cell_type": "markdown",
   "metadata": {},
   "source": [
    "# 5) Station"
   ]
  },
  {
   "cell_type": "code",
   "execution_count": 403,
   "metadata": {
    "collapsed": false
   },
   "outputs": [
    {
     "name": "stdout",
     "output_type": "stream",
     "text": [
      "Attention : vous allez utiliser un fichier existant !\n"
     ]
    }
   ],
   "source": [
    "class Station:\n",
    "    nb_d_instance =0\n",
    "    station_logger=Logger(\"./stations.csv\")\n",
    "    def __init__(self, position):\n",
    "        import random\n",
    "        Station.nb_d_instance +=1\n",
    "        NB_BORNES_POSSIBLES = [5,10,15,20,30]\n",
    "        self.position       = position\n",
    "        self.nb_bornes      = random.choice(NB_BORNES_POSSIBLES)\n",
    "        self.velos          = [Velo() for i in range(self.nb_bornes)]\n",
    "        self.id             = Station.nb_d_instance\n",
    "    \n",
    "    def nb_de_velos(self):\n",
    "        return len(self.velos)\n",
    "\n",
    "    def has_empty_place(self):\n",
    "        return len(self.velos) < self.nb_bornes\n",
    "\n",
    "    def has_velo(self):\n",
    "        return 0 < len(self.velos)\n",
    "    def log(self, message):\n",
    "        message=\"station_%s : %s\"%(self.id, message)\n",
    "        Station.station_logger.log(message)\n",
    "        \n",
    "    def deposer_un_velo(self, velo):\n",
    "        if self.has_empty_place():\n",
    "            velo.update_performance()\n",
    "            self.velos.append(velo)\n",
    "            self.log(\"recupere le velo %s\"%velo.id)\n",
    "            return True\n",
    "        else:\n",
    "            self.log(\"complete\")\n",
    "            return False\n",
    "    def prendre_un_velo(self):\n",
    "        if self.has_velo():\n",
    "            velo = self.velos.pop()\n",
    "            self.log(\"donne le velo %s\"%velo.id)\n",
    "            return velo\n",
    "        else:\n",
    "            self.log(\"vide.\")\n",
    "            return False\n",
    "\n",
    "    def nb_velo_under_perf(self, seuil_de_performance=0.5):\n",
    "        test = lambda velo: velo.performance < seuil_de_performance\n",
    "        return len(list(filter(test, self.velos)))\n",
    "        "
   ]
  },
  {
   "cell_type": "markdown",
   "metadata": {},
   "source": [
    "# 6) Cycliste"
   ]
  },
  {
   "cell_type": "code",
   "execution_count": 404,
   "metadata": {
    "collapsed": false
   },
   "outputs": [
    {
     "name": "stdout",
     "output_type": "stream",
     "text": [
      "Attention : vous allez utiliser un fichier existant !\n"
     ]
    }
   ],
   "source": [
    "class Cycliste:\n",
    "    nb_d_instance =0\n",
    "    cycliste_logger= Logger(\"./cyclistes.csv\")\n",
    "    def __init__(self, position_home, position_travail):\n",
    "        import random\n",
    "        import numpy as np\n",
    "        Cycliste.nb_d_instance +=1\n",
    "        self.id           = Cycliste.nb_d_instance\n",
    "        self.home         = position_home\n",
    "        self.travail      = position_travail\n",
    "        self.est_en_route = False\n",
    "        self.position     = position_home\n",
    "        self.destination  = position_travail\n",
    "        self.sur_velo     = False\n",
    "        self.velo         = False\n",
    "        self.set_next_trajet()\n",
    "        self.sexe         = random.choice([\"H\", \"F\"])\n",
    "        self.age          = random.choice(range(15,85))\n",
    "        self.sportivite   = np.random.normal(2, 2)\n",
    "        \n",
    "        \n",
    "        \n",
    "    def est_a_la_maison(self):\n",
    "        return self.position == self.home\n",
    "    def est_au_travail(self):\n",
    "        return self.position == self.travail\n",
    "    def est_arrive(self):\n",
    "        return self.position == self.destination\n",
    "    \n",
    "    def log(self, message):\n",
    "        message=\"cycliste_%s : %s\"%(self.id, message)\n",
    "        Cycliste.cycliste_logger.log(message)\n",
    "        \n",
    "    def trouve_velo(self):\n",
    "        limite = 10\n",
    "        while not self.sur_velo and 0 < limite :\n",
    "            limite         = limite - 1\n",
    "            station_proche = reseau.get_closest_station(self.position)\n",
    "            velo           = station_proche.prendre_un_velo()\n",
    "            self.log(\"essaie station : %s \"%station_proche.id)\n",
    "            self.position  = station_proche.position \n",
    "            if velo:\n",
    "                self.log(\"trouve velo %s sur station %s\"%(velo.id, station_proche.id))\n",
    "                self.sur_velo = True\n",
    "                self.velo     = velo\n",
    "                self.set_next_trajet()\n",
    "                \n",
    "    def rendre_velo(self):\n",
    "        limite = 10\n",
    "        while self.sur_velo and 0 < limite :\n",
    "            limite         = limite - 1\n",
    "            station_proche = reseau.get_closest_station(self.position)\n",
    "            velo_rendu     = station_proche.deposer_un_velo(self.velo)\n",
    "            self.log(\"essaie de rendre sur la station : %s \"%station_proche.id)\n",
    "            self.position  = station_proche.position \n",
    "            if velo_rendu:\n",
    "                self.log( \"velo rendu sur la station sur : %s\"%station_proche.id)\n",
    "                self.sur_velo = False\n",
    "                self.velo     = False\n",
    "                #self.set_next_trajet()\n",
    "                \n",
    "    def set_next_trajet(self):\n",
    "        if self.est_a_la_maison():\n",
    "            self.log(\"next trajet = travail\")\n",
    "            self.destination = self.travail\n",
    "        if self.est_au_travail():\n",
    "            self.log(\"next trajet = maison\")\n",
    "            self.destination = self.home\n",
    "        self.trajet = Trajet(self.position, self.destination)\n",
    "    \n",
    "    \n",
    "    def avancer(self):\n",
    "        if self.sur_velo:\n",
    "            self.log( \"est sur un velo\")\n",
    "            if self.est_arrive():\n",
    "                self.log( \"est arrive\")\n",
    "                self.set_next_trajet()\n",
    "                self.rendre_velo()\n",
    "            else:\n",
    "                self.position = self.trajet.next_position()\n",
    "                self.log( \"va a la prochaine position : %s \"%self.position.__dict__)\n",
    "        else:\n",
    "            self.log( \"va chercher un velo\")\n",
    "            self.trouve_velo()\n",
    "            \n",
    "        "
   ]
  },
  {
   "cell_type": "code",
   "execution_count": 405,
   "metadata": {
    "collapsed": true
   },
   "outputs": [],
   "source": [
    "class Ville:\n",
    "    def __init__(self, nb_de_cyclistes):\n",
    "        self.cyclistes = [Cycliste(get_random_position(), get_random_position()) for i in range(nb_de_cyclistes)]\n",
    "        \n",
    "    def reveil(self):\n",
    "        list(map(lambda cycliste : cycliste.avancer(), self.cyclistes))\n",
    "        "
   ]
  },
  {
   "cell_type": "markdown",
   "metadata": {},
   "source": [
    "# 7) Algo"
   ]
  },
  {
   "cell_type": "code",
   "execution_count": 406,
   "metadata": {
    "collapsed": false
   },
   "outputs": [],
   "source": [
    "reseau = JcDecaux(10,10)\n"
   ]
  },
  {
   "cell_type": "code",
   "execution_count": 407,
   "metadata": {
    "collapsed": false
   },
   "outputs": [
    {
     "name": "stdout",
     "output_type": "stream",
     "text": [
      "\n",
      "                Nb de stations           : 100 \n",
      "                Nb de vélos              : 1490 \n",
      "                Nb de stations avec vélo : 100 \n",
      "                Nb de stations pleines   : 100\n",
      "                Nb de stations vides     : 0\n",
      "        \n"
     ]
    }
   ],
   "source": [
    "print(reseau)"
   ]
  },
  {
   "cell_type": "code",
   "execution_count": 408,
   "metadata": {
    "collapsed": false
   },
   "outputs": [
    {
     "data": {
      "text/plain": [
       "1490"
      ]
     },
     "execution_count": 408,
     "metadata": {},
     "output_type": "execute_result"
    }
   ],
   "source": [
    "reseau.nombre_de_velos()"
   ]
  },
  {
   "cell_type": "code",
   "execution_count": 409,
   "metadata": {
    "collapsed": false
   },
   "outputs": [],
   "source": [
    "paris = Ville(3)\n"
   ]
  },
  {
   "cell_type": "code",
   "execution_count": 410,
   "metadata": {
    "collapsed": false
   },
   "outputs": [],
   "source": [
    "for i in range(10):\n",
    "    paris.reveil()"
   ]
  },
  {
   "cell_type": "code",
   "execution_count": 412,
   "metadata": {
    "collapsed": false
   },
   "outputs": [
    {
     "name": "stdout",
     "output_type": "stream",
     "text": [
      "/home/spark/formation_python\r\n"
     ]
    }
   ],
   "source": [
    "!pwd"
   ]
  },
  {
   "cell_type": "code",
   "execution_count": 411,
   "metadata": {
    "collapsed": false
   },
   "outputs": [
    {
     "name": "stdout",
     "output_type": "stream",
     "text": [
      "cycliste_4 : next trajet = travail\r\n",
      "cycliste_5 : next trajet = travail\r\n",
      "cycliste_6 : next trajet = travail\r\n",
      "cycliste_4 : va chercher un velo\r\n",
      "cycliste_4 : essaie station : 165 \r\n",
      "cycliste_4 : trouve velo velo_8935 sur station 165\r\n",
      "cycliste_5 : va chercher un velo\r\n",
      "cycliste_5 : essaie station : 187 \r\n",
      "cycliste_5 : trouve velo velo_9280 sur station 187\r\n",
      "cycliste_6 : va chercher un velo\r\n",
      "cycliste_6 : essaie station : 183 \r\n",
      "cycliste_6 : trouve velo velo_9195 sur station 183\r\n",
      "cycliste_4 : est sur un velo\r\n",
      "cycliste_4 : va a la prochaine position : {'longitude': 5.7483317800289395, 'lattitude': 3.9157684496334415} \r\n",
      "cycliste_5 : est sur un velo\r\n",
      "cycliste_5 : va a la prochaine position : {'longitude': 7.567430296450751, 'lattitude': 5.675058100031086} \r\n",
      "cycliste_6 : est sur un velo\r\n",
      "cycliste_6 : va a la prochaine position : {'longitude': 7.2553105717618385, 'lattitude': 1.9885839291873988} \r\n",
      "cycliste_4 : est sur un velo\r\n",
      "cycliste_4 : va a la prochaine position : {'longitude': 5.496663560057879, 'lattitude': 3.831536899266883} \r\n",
      "cycliste_5 : est sur un velo\r\n",
      "cycliste_5 : va a la prochaine position : {'longitude': 7.134860592901502, 'lattitude': 5.350116200062171} \r\n",
      "cycliste_6 : est sur un velo\r\n",
      "cycliste_6 : va a la prochaine position : {'longitude': 6.510621143523677, 'lattitude': 1.9771678583747976} \r\n",
      "cycliste_4 : est sur un velo\r\n",
      "cycliste_4 : va a la prochaine position : {'longitude': 5.244995340086819, 'lattitude': 3.7473053489003245} \r\n",
      "cycliste_5 : est sur un velo\r\n",
      "cycliste_5 : va a la prochaine position : {'longitude': 6.702290889352253, 'lattitude': 5.025174300093257} \r\n",
      "cycliste_6 : est sur un velo\r\n",
      "cycliste_6 : va a la prochaine position : {'longitude': 5.765931715285515, 'lattitude': 1.9657517875621964} \r\n",
      "cycliste_4 : est sur un velo\r\n",
      "cycliste_4 : va a la prochaine position : {'longitude': 4.993327120115758, 'lattitude': 3.663073798533766} \r\n",
      "cycliste_5 : est sur un velo\r\n",
      "cycliste_5 : va a la prochaine position : {'longitude': 6.269721185803004, 'lattitude': 4.700232400124342} \r\n",
      "cycliste_6 : est sur un velo\r\n",
      "cycliste_6 : va a la prochaine position : {'longitude': 5.021242287047354, 'lattitude': 1.9543357167495952} \r\n",
      "cycliste_4 : est sur un velo\r\n",
      "cycliste_4 : va a la prochaine position : {'longitude': 4.741658900144698, 'lattitude': 3.5788422481672075} \r\n",
      "cycliste_5 : est sur un velo\r\n",
      "cycliste_5 : va a la prochaine position : {'longitude': 5.837151482253755, 'lattitude': 4.375290500155428} \r\n",
      "cycliste_6 : est sur un velo\r\n",
      "cycliste_6 : va a la prochaine position : {'longitude': 4.276552858809192, 'lattitude': 1.942919645936994} \r\n",
      "cycliste_4 : est sur un velo\r\n",
      "cycliste_4 : va a la prochaine position : {'longitude': 4.489990680173637, 'lattitude': 3.494610697800649} \r\n",
      "cycliste_5 : est sur un velo\r\n",
      "cycliste_5 : va a la prochaine position : {'longitude': 5.404581778704506, 'lattitude': 4.050348600186513} \r\n",
      "cycliste_6 : est sur un velo\r\n",
      "cycliste_6 : va a la prochaine position : {'longitude': 3.531863430571031, 'lattitude': 1.9315035751243927} \r\n",
      "cycliste_4 : est sur un velo\r\n",
      "cycliste_4 : va a la prochaine position : {'longitude': 4.238322460202577, 'lattitude': 3.4103791474340905} \r\n",
      "cycliste_5 : est sur un velo\r\n",
      "cycliste_5 : va a la prochaine position : {'longitude': 4.972012075155257, 'lattitude': 3.7254067002175986} \r\n",
      "cycliste_6 : est sur un velo\r\n",
      "cycliste_6 : va a la prochaine position : {'longitude': 2.7871740023328693, 'lattitude': 1.9200875043117915} \r\n",
      "cycliste_4 : est sur un velo\r\n",
      "cycliste_4 : va a la prochaine position : {'longitude': 3.4833178002893925, 'lattitude': 3.157684496334417} \r\n",
      "cycliste_5 : est sur un velo\r\n",
      "cycliste_5 : va a la prochaine position : {'longitude': 4.5394423716060075, 'lattitude': 3.4004648002486837} \r\n",
      "cycliste_6 : est sur un velo\r\n",
      "cycliste_6 : va a la prochaine position : {'longitude': 2.0424845740947077, 'lattitude': 1.9086714334991903} \r\n",
      "cycliste_4 : est sur un velo\r\n",
      "cycliste_4 : est arrive\r\n",
      "cycliste_4 : next trajet = maison\r\n",
      "cycliste_4 : essaie de rendre sur la station : 134 \r\n",
      "cycliste_4 : essaie de rendre sur la station : 134 \r\n",
      "cycliste_4 : essaie de rendre sur la station : 134 \r\n",
      "cycliste_4 : essaie de rendre sur la station : 134 \r\n",
      "cycliste_4 : essaie de rendre sur la station : 134 \r\n",
      "cycliste_4 : essaie de rendre sur la station : 134 \r\n",
      "cycliste_4 : essaie de rendre sur la station : 134 \r\n",
      "cycliste_4 : essaie de rendre sur la station : 134 \r\n",
      "cycliste_4 : essaie de rendre sur la station : 134 \r\n",
      "cycliste_4 : essaie de rendre sur la station : 134 \r\n",
      "cycliste_5 : est sur un velo\r\n",
      "cycliste_5 : va a la prochaine position : {'longitude': 4.106872668056758, 'lattitude': 3.075522900279769} \r\n",
      "cycliste_6 : est sur un velo\r\n",
      "cycliste_6 : va a la prochaine position : {'longitude': 1.297795145856546, 'lattitude': 1.8972553626865891} \r\n",
      "cycliste_7 : next trajet = travail\r\n",
      "cycliste_8 : next trajet = travail\r\n",
      "cycliste_9 : next trajet = travail\r\n",
      "2017-05-30 14:08:06.324295,cycliste_1 : next trajet = travail\r\n",
      "2017-05-30 14:08:06.324451,cycliste_2 : next trajet = travail\r\n",
      "2017-05-30T14:11:25.704877,cycliste_1 : next trajet = travail\r\n",
      "2017-05-30T14:11:25.705036,cycliste_2 : next trajet = travail\r\n",
      "2017-05-30T14:12:18.572799,cycliste_1 : next trajet = travail\r\n",
      "2017-05-30T14:12:18.572968,cycliste_2 : next trajet = travail\r\n",
      "2017-05-30T14:12:18.577603,cycliste_3 : next trajet = travail\r\n",
      "2017-05-30T14:12:18.735008,cycliste_1 : va chercher un velo\r\n",
      "2017-05-30T14:12:18.735898,cycliste_1 : essaie station : 57 \r\n",
      "2017-05-30T14:12:18.735916,cycliste_1 : trouve velo velo_885 sur station 57\r\n",
      "2017-05-30T14:12:18.736057,cycliste_2 : va chercher un velo\r\n",
      "2017-05-30T14:12:18.736185,cycliste_2 : essaie station : 39 \r\n",
      "2017-05-30T14:12:18.736284,cycliste_2 : trouve velo velo_575 sur station 39\r\n",
      "2017-05-30T14:12:18.736347,cycliste_3 : va chercher un velo\r\n",
      "2017-05-30T14:12:18.736541,cycliste_3 : essaie station : 37 \r\n",
      "2017-05-30T14:12:18.736557,cycliste_3 : trouve velo velo_535 sur station 37\r\n",
      "2017-05-30T14:12:18.736671,cycliste_1 : est sur un velo\r\n",
      "2017-05-30T14:12:18.736746,cycliste_1 : va a la prochaine position : {'longitude': 4.7355509785661996, 'lattitude': 5.551431124293079} \r\n",
      "2017-05-30T14:12:18.736864,cycliste_2 : est sur un velo\r\n",
      "2017-05-30T14:12:18.736911,cycliste_2 : va a la prochaine position : {'longitude': 2.9919265708728093, 'lattitude': 7.8046468153984865} \r\n",
      "2017-05-30T14:12:18.737008,cycliste_3 : est sur un velo\r\n",
      "2017-05-30T14:12:18.737054,cycliste_3 : va a la prochaine position : {'longitude': 2.98926389734819, 'lattitude': 5.572809647377402} \r\n",
      "2017-05-30T14:12:18.737199,cycliste_1 : est sur un velo\r\n",
      "2017-05-30T14:12:18.737249,cycliste_1 : va a la prochaine position : {'longitude': 4.471101957132399, 'lattitude': 5.102862248586158} \r\n",
      "2017-05-30T14:12:18.737349,cycliste_2 : est sur un velo\r\n",
      "2017-05-30T14:12:18.737394,cycliste_2 : va a la prochaine position : {'longitude': 2.9838531417456187, 'lattitude': 7.609293630796973} \r\n",
      "2017-05-30T14:12:18.737494,cycliste_3 : est sur un velo\r\n",
      "2017-05-30T14:12:18.737545,cycliste_3 : va a la prochaine position : {'longitude': 2.9785277946963804, 'lattitude': 5.145619294754804} \r\n",
      "2017-05-30T14:12:18.737673,cycliste_1 : est sur un velo\r\n",
      "2017-05-30T14:12:18.737719,cycliste_1 : va a la prochaine position : {'longitude': 4.206652935698599, 'lattitude': 4.654293372879237} \r\n",
      "2017-05-30T14:12:18.737842,cycliste_2 : est sur un velo\r\n",
      "2017-05-30T14:12:18.737889,cycliste_2 : va a la prochaine position : {'longitude': 2.975779712618428, 'lattitude': 7.413940446195459} \r\n",
      "2017-05-30T14:12:18.737984,cycliste_3 : est sur un velo\r\n",
      "2017-05-30T14:12:18.738031,cycliste_3 : va a la prochaine position : {'longitude': 2.9677916920445706, 'lattitude': 4.718428942132205} \r\n",
      "2017-05-30T14:12:18.738135,cycliste_1 : est sur un velo\r\n",
      "2017-05-30T14:12:18.738181,cycliste_1 : va a la prochaine position : {'longitude': 3.9422039142647978, 'lattitude': 4.205724497172316} \r\n",
      "2017-05-30T14:12:18.738272,cycliste_2 : est sur un velo\r\n",
      "2017-05-30T14:12:18.738324,cycliste_2 : va a la prochaine position : {'longitude': 2.9677062834912373, 'lattitude': 7.218587261593946} \r\n",
      "2017-05-30T14:12:18.738474,cycliste_3 : est sur un velo\r\n",
      "2017-05-30T14:12:18.738522,cycliste_3 : va a la prochaine position : {'longitude': 2.957055589392761, 'lattitude': 4.291238589509607} \r\n",
      "2017-05-30T14:12:18.738655,cycliste_1 : est sur un velo\r\n",
      "2017-05-30T14:12:18.738703,cycliste_1 : va a la prochaine position : {'longitude': 3.677754892830997, 'lattitude': 3.7571556214653947} \r\n",
      "2017-05-30T14:12:18.738824,cycliste_2 : est sur un velo\r\n",
      "2017-05-30T14:12:18.738872,cycliste_2 : va a la prochaine position : {'longitude': 2.9596328543640467, 'lattitude': 7.023234076992432} \r\n",
      "2017-05-30T14:12:18.739010,cycliste_3 : est sur un velo\r\n",
      "2017-05-30T14:12:18.739063,cycliste_3 : va a la prochaine position : {'longitude': 2.946319486740951, 'lattitude': 3.864048236887009} \r\n",
      "2017-05-30T14:12:18.739166,cycliste_1 : est sur un velo\r\n",
      "2017-05-30T14:12:18.739214,cycliste_1 : va a la prochaine position : {'longitude': 3.413305871397196, 'lattitude': 3.3085867457584737} \r\n",
      "2017-05-30T14:12:18.739307,cycliste_2 : est sur un velo\r\n",
      "2017-05-30T14:12:18.739351,cycliste_2 : va a la prochaine position : {'longitude': 2.919265708728093, 'lattitude': 6.046468153984868} \r\n",
      "2017-05-30T14:12:18.739472,cycliste_3 : est sur un velo\r\n",
      "2017-05-30T14:12:18.739521,cycliste_3 : va a la prochaine position : {'longitude': 2.935583384089141, 'lattitude': 3.436857884264411} \r\n",
      "2017-05-30T14:12:18.740647,cycliste_1 : est sur un velo\r\n",
      "2017-05-30T14:12:18.740701,cycliste_1 : va a la prochaine position : {'longitude': 3.148856849963395, 'lattitude': 2.8600178700515526} \r\n",
      "2017-05-30T14:12:18.740863,cycliste_2 : est sur un velo\r\n",
      "2017-05-30T14:12:18.740886,cycliste_2 : est arrive\r\n",
      "2017-05-30T14:12:18.740981,cycliste_2 : next trajet = maison\r\n",
      "2017-05-30T14:12:18.741227,cycliste_2 : essaie de rendre sur la station : 64 \r\n",
      "2017-05-30T14:12:18.741406,cycliste_2 : essaie de rendre sur la station : 37 \r\n",
      "2017-05-30T14:12:18.741423,cycliste_2 : velo rendu sur la station sur : 37\r\n",
      "2017-05-30T14:12:18.741514,cycliste_3 : est sur un velo\r\n",
      "2017-05-30T14:12:18.741567,cycliste_3 : va a la prochaine position : {'longitude': 2.9248472814373314, 'lattitude': 3.0096675316418127} \r\n",
      "2017-05-30T14:12:18.741694,cycliste_1 : est sur un velo\r\n",
      "2017-05-30T14:12:18.741748,cycliste_1 : va a la prochaine position : {'longitude': 2.884407828529594, 'lattitude': 2.4114489943446316} \r\n",
      "2017-05-30T14:12:18.741872,cycliste_2 : va chercher un velo\r\n",
      "2017-05-30T14:12:18.742005,cycliste_2 : essaie station : 64 \r\n",
      "2017-05-30T14:12:18.742108,cycliste_2 : trouve velo velo_1020 sur station 64\r\n",
      "2017-05-30T14:12:18.742155,cycliste_3 : est sur un velo\r\n",
      "2017-05-30T14:12:18.742318,cycliste_3 : va a la prochaine position : {'longitude': 2.9141111787855216, 'lattitude': 2.5824771790192145} \r\n",
      "2017-05-30T14:12:18.742347,cycliste_1 : est sur un velo\r\n",
      "2017-05-30T14:12:18.742459,cycliste_1 : va a la prochaine position : {'longitude': 2.6199588070957933, 'lattitude': 1.9628801186377105} \r\n",
      "2017-05-30T14:12:18.742486,cycliste_2 : est sur un velo\r\n",
      "2017-05-30T14:12:18.742599,cycliste_2 : va a la prochaine position : {'longitude': 6.222677146827504, 'lattitude': 2.9599662431457046} \r\n",
      "2017-05-30T14:12:18.742627,cycliste_3 : est sur un velo\r\n"
     ]
    }
   ],
   "source": [
    "!cat cyclistes.csv"
   ]
  },
  {
   "cell_type": "code",
   "execution_count": 366,
   "metadata": {
    "collapsed": false
   },
   "outputs": [
    {
     "name": "stdout",
     "output_type": "stream",
     "text": [
      "station_27 : donne le velo velo_6655\r\n",
      "station_165 : donne le velo velo_8935\r\n",
      "station_187 : donne le velo velo_9280\r\n",
      "station_183 : donne le velo velo_9195\r\n",
      "station_134 : complete\r\n",
      "station_134 : complete\r\n",
      "station_134 : complete\r\n",
      "station_134 : complete\r\n",
      "station_134 : complete\r\n",
      "station_134 : complete\r\n",
      "station_134 : complete\r\n",
      "station_134 : complete\r\n",
      "station_134 : complete\r\n",
      "station_134 : complete\r\n"
     ]
    }
   ],
   "source": [
    "!cat stations.csv"
   ]
  },
  {
   "cell_type": "code",
   "execution_count": 311,
   "metadata": {
    "collapsed": false
   },
   "outputs": [
    {
     "name": "stdout",
     "output_type": "stream",
     "text": [
      "Attention : vous allez utiliser un fichier existant !\n"
     ]
    }
   ],
   "source": [
    "if False:\n",
    "    path_to_cyclistes = \"./cyclistes.csv\"\n",
    "    logger_ = Logger(path_to_cyclistes)\n",
    "    infos_voulues = [\"id\", \"sexe\", \"sportivite\", \"age\", \"sur_velo\"]\n",
    "    to_write      = \",\".join(infos_voulues)\n",
    "    logger_.log(to_write)\n",
    "    for cycliste in paris.cyclistes:\n",
    "        dico          = cycliste.__dict__        \n",
    "        infos         = [str(dico[voulue]) for voulue in infos_voulues]\n",
    "        to_write      = \",\".join(infos)\n",
    "        logger_.log(to_write)\n"
   ]
  },
  {
   "cell_type": "markdown",
   "metadata": {},
   "source": [
    "# Exemple de dataFrame pandas"
   ]
  },
  {
   "cell_type": "code",
   "execution_count": 313,
   "metadata": {
    "collapsed": true
   },
   "outputs": [],
   "source": [
    "logger_.write_to_disk()\n"
   ]
  },
  {
   "cell_type": "code",
   "execution_count": null,
   "metadata": {
    "collapsed": true
   },
   "outputs": [],
   "source": []
  },
  {
   "cell_type": "code",
   "execution_count": 308,
   "metadata": {
    "collapsed": true
   },
   "outputs": [],
   "source": [
    "import pandas as pd"
   ]
  },
  {
   "cell_type": "code",
   "execution_count": 309,
   "metadata": {
    "collapsed": false
   },
   "outputs": [],
   "source": [
    "dico = {}\n",
    "for i in range(12):\n",
    "    seuil       = float(i/10)\n",
    "    nb_velo     = test_reseau.nombre_de_velos_sous_performants(seuil)\n",
    "    dico[seuil] = nb_velo"
   ]
  },
  {
   "cell_type": "code",
   "execution_count": 310,
   "metadata": {
    "collapsed": false
   },
   "outputs": [
    {
     "data": {
      "text/plain": [
       "<matplotlib.axes._subplots.AxesSubplot at 0x7fd03e4f4b70>"
      ]
     },
     "execution_count": 310,
     "metadata": {},
     "output_type": "execute_result"
    },
    {
     "data": {
      "image/png": "[encoded data removed]",
      "text/plain": [
       "<matplotlib.figure.Figure at 0x7fd03e568f98>"
      ]
     },
     "metadata": {},
     "output_type": "display_data"
    }
   ],
   "source": [
    "%matplotlib inline\n",
    "pd.DataFrame(dico, index=range(12)).T[0].plot(kind='bar')"
   ]
  }
 ],
 "metadata": {
  "celltoolbar": "Raw Cell Format",
  "kernelspec": {
   "display_name": "Python [Root]",
   "language": "python",
   "name": "Python [Root]"
  },
  "language_info": {
   "codemirror_mode": {
    "name": "ipython",
    "version": 3
   },
   "file_extension": ".py",
   "mimetype": "text/x-python",
   "name": "python",
   "nbconvert_exporter": "python",
   "pygments_lexer": "ipython3",
   "version": "3.5.2"
  }
 },
 "nbformat": 4,
 "nbformat_minor": 0
}
