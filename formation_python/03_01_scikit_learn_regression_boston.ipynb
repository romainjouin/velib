{
 "cells": [
  {
   "cell_type": "markdown",
   "metadata": {},
   "source": [
    "# Scikit Learn"
   ]
  },
  {
   "cell_type": "markdown",
   "metadata": {},
   "source": [
    "# Régression sur le prix des maisons à boston"
   ]
  },
  {
   "cell_type": "markdown",
   "metadata": {},
   "source": [
    "## 1) Import de dataset"
   ]
  },
  {
   "cell_type": "code",
   "execution_count": 26,
   "metadata": {
    "collapsed": true
   },
   "outputs": [],
   "source": [
    "from sklearn import datasets"
   ]
  },
  {
   "cell_type": "code",
   "execution_count": 27,
   "metadata": {
    "collapsed": true
   },
   "outputs": [],
   "source": [
    "digits = datasets.load_digits()\n",
    "X = digits.data\n",
    "y = digits.target\n",
    "\n",
    "boston = datasets.load_boston()\n",
    "X = boston[\"data\"]\n",
    "y = boston[\"target\"]\n",
    "\n"
   ]
  },
  {
   "cell_type": "markdown",
   "metadata": {},
   "source": [
    "## 2) separer le jeu d'apprentissage du jeu de test"
   ]
  },
  {
   "cell_type": "code",
   "execution_count": 28,
   "metadata": {
    "collapsed": true
   },
   "outputs": [],
   "source": [
    "from sklearn.cross_validation import train_test_split"
   ]
  },
  {
   "cell_type": "code",
   "execution_count": 29,
   "metadata": {
    "collapsed": true
   },
   "outputs": [],
   "source": [
    "X_train, X_test, y_train, y_test = train_test_split(X, y, test_size=0.33)"
   ]
  },
  {
   "cell_type": "markdown",
   "metadata": {},
   "source": [
    "## 3) Standardiser les valeurs"
   ]
  },
  {
   "cell_type": "code",
   "execution_count": 30,
   "metadata": {
    "collapsed": true
   },
   "outputs": [],
   "source": [
    "from sklearn.preprocessing import StandardScaler\n",
    "scaler = StandardScaler()\n",
    "scaler.fit(X_train)                 # Il ne faut fiter que sur les data d'entrainement\n",
    "X_train = scaler.transform(X_train)\n",
    "X_test  = scaler.transform(X_test)  # apply same transformation to test data"
   ]
  },
  {
   "cell_type": "markdown",
   "metadata": {},
   "source": [
    "## 4) choisir un algo et le tester\n",
    "### exemple : Support Vector Machine"
   ]
  },
  {
   "cell_type": "code",
   "execution_count": 31,
   "metadata": {
    "collapsed": true
   },
   "outputs": [],
   "source": [
    "from sklearn import svm\n",
    "svr = svm.SVR(kernel='linear')"
   ]
  },
  {
   "cell_type": "code",
   "execution_count": 32,
   "metadata": {
    "collapsed": false
   },
   "outputs": [
    {
     "data": {
      "text/plain": [
       "array([ 0.7002155 ,  0.31447767, -0.44395345])"
      ]
     },
     "execution_count": 32,
     "metadata": {},
     "output_type": "execute_result"
    }
   ],
   "source": [
    "from sklearn import cross_validation\n",
    "cross_validation.cross_val_score(svr, X, y, n_jobs=-1)"
   ]
  },
  {
   "cell_type": "markdown",
   "metadata": {},
   "source": [
    "## 5) aller au delà des paramètres par défaut avec un grid search"
   ]
  },
  {
   "cell_type": "code",
   "execution_count": 33,
   "metadata": {
    "collapsed": false
   },
   "outputs": [
    {
     "name": "stdout",
     "output_type": "stream",
     "text": [
      "0.494858561911 SVR(C=1.0, cache_size=200, coef0=0.0, degree=3, epsilon=0.1, gamma=0.1,\n",
      "  kernel='rbf', max_iter=-1, shrinking=True, tol=0.001, verbose=False)\n"
     ]
    }
   ],
   "source": [
    "from sklearn import grid_search\n",
    "parameters = {  'gamma' : [0.01, 0.1, 0.5]           }\n",
    "grid       = grid_search.GridSearchCV(svm.SVR(), parameters, n_jobs=-1)\n",
    "grid.fit(X_train, y_train)\n",
    "print grid.best_score_, grid.best_estimator_"
   ]
  },
  {
   "cell_type": "markdown",
   "metadata": {},
   "source": [
    "## 5.1) affiner le grid search"
   ]
  },
  {
   "cell_type": "code",
   "execution_count": 34,
   "metadata": {
    "collapsed": false
   },
   "outputs": [
    {
     "name": "stdout",
     "output_type": "stream",
     "text": [
      "0.564272956791 SVR(C=1.5, cache_size=200, coef0=0.0, degree=3, epsilon=0.1, gamma=0.1,\n",
      "  kernel='rbf', max_iter=-1, shrinking=True, tol=0.001, verbose=False)\n"
     ]
    }
   ],
   "source": [
    "parameters = {  'C'      : [0.5, 1, 1.5]             ,\n",
    "                'gamma'  : [0.5, 0.1, 0.15]      }\n",
    "grid = grid_search.GridSearchCV(svm.SVR(), parameters, n_jobs=-1)\n",
    "grid.fit(X_train, y_train)\n",
    "print grid.best_score_, grid.best_estimator_"
   ]
  },
  {
   "cell_type": "code",
   "execution_count": 35,
   "metadata": {
    "collapsed": false
   },
   "outputs": [
    {
     "name": "stdout",
     "output_type": "stream",
     "text": [
      "0.672021351295 SVR(C=2.5, cache_size=200, coef0=0.0, degree=3, epsilon=0.1, gamma=0.05,\n",
      "  kernel='rbf', max_iter=-1, shrinking=True, tol=0.001, verbose=False)\n"
     ]
    }
   ],
   "source": [
    "parameters = {  'C'      : [1.5, 2, 2.5]   ,\n",
    "                'kernel' : ['rbf', 'poly', 'sigmoid'],\n",
    "                'gamma'  : [ 0.05, 0.10, 0.15] }\n",
    "grid = grid_search.GridSearchCV(svm.SVR(), parameters, n_jobs=-1)\n",
    "grid.fit(X_train, y_train)\n",
    "print grid.best_score_, grid.best_estimator_\n"
   ]
  },
  {
   "cell_type": "code",
   "execution_count": 36,
   "metadata": {
    "collapsed": false
   },
   "outputs": [
    {
     "name": "stdout",
     "output_type": "stream",
     "text": [
      "0.706920845534 SVR(C=4, cache_size=200, coef0=0.0, degree=1, epsilon=0.1, gamma=0.05,\n",
      "  kernel='rbf', max_iter=-1, shrinking=True, tol=0.001, verbose=False)\n"
     ]
    }
   ],
   "source": [
    "parameters = {  'C'       : [2.5, 3, 4]   ,\n",
    "                'kernel'  : ['rbf', 'poly', 'sigmoid'],\n",
    "                'gamma'   : [ 0.01, 0.05, 0.07],\n",
    "                 \"degree\" : [1,3,5]}\n",
    "grid = grid_search.GridSearchCV(svm.SVR(), parameters, n_jobs=-1)\n",
    "grid.fit(X_train, y_train)\n",
    "print grid.best_score_, grid.best_estimator_\n"
   ]
  },
  {
   "cell_type": "code",
   "execution_count": 37,
   "metadata": {
    "collapsed": false
   },
   "outputs": [
    {
     "name": "stdout",
     "output_type": "stream",
     "text": [
      "0.744120549013 SVR(C=7, cache_size=200, coef0=0.0, degree=1, epsilon=0.1, gamma=0.03,\n",
      "  kernel='rbf', max_iter=-1, shrinking=True, tol=0.001, verbose=False)\n"
     ]
    }
   ],
   "source": [
    "parameters = {  'C'       : [4, 5, 6, 7]   ,\n",
    "                'kernel'  : ['rbf'],\n",
    "                'gamma'   : [ 0.03, 0.05, 0.07],\n",
    "                 \"degree\" : [1,2, 3]}\n",
    "grid = grid_search.GridSearchCV(svm.SVR(), parameters, n_jobs=-1)\n",
    "grid.fit(X_train, y_train)\n",
    "print grid.best_score_, grid.best_estimator_\n"
   ]
  },
  {
   "cell_type": "code",
   "execution_count": 38,
   "metadata": {
    "collapsed": false
   },
   "outputs": [
    {
     "name": "stdout",
     "output_type": "stream",
     "text": [
      "0.770056777954 SVR(C=15, cache_size=200, coef0=0.0, degree=1, epsilon=0.1, gamma=0.04,\n",
      "  kernel='rbf', max_iter=-1, shrinking=True, tol=0.001, verbose=False)\n"
     ]
    }
   ],
   "source": [
    "parameters = {  'C'       : [7, 10, 15]   ,\n",
    "                'kernel'  : ['rbf'],\n",
    "                'gamma'   : [ 0.02, 0.03, 0.04],\n",
    "                 \"degree\" : [1,2]}\n",
    "grid = grid_search.GridSearchCV(svm.SVR(), parameters, n_jobs=-1)\n",
    "grid.fit(X_train, y_train)\n",
    "print grid.best_score_, grid.best_estimator_\n"
   ]
  },
  {
   "cell_type": "code",
   "execution_count": 39,
   "metadata": {
    "collapsed": false
   },
   "outputs": [
    {
     "name": "stdout",
     "output_type": "stream",
     "text": [
      "0.779777006678 SVR(C=30, cache_size=200, coef0=0.0, degree=1, epsilon=0.15, gamma=0.03,\n",
      "  kernel='rbf', max_iter=-1, shrinking=True, tol=0.001, verbose=False)\n"
     ]
    }
   ],
   "source": [
    "parameters = {  'C'       : [10, 15, 20, 30]   ,\n",
    "                'kernel'  : ['rbf'],\n",
    "                'gamma'   : [ 0.03],\n",
    "                  \"epsilon\" : [0.01, 0.05, 0.15],\n",
    "                 \"degree\" : [1,2]}\n",
    "grid = grid_search.GridSearchCV(svm.SVR(), parameters, n_jobs=-1)\n",
    "grid.fit(X_train, y_train)\n",
    "print grid.best_score_, grid.best_estimator_\n"
   ]
  },
  {
   "cell_type": "code",
   "execution_count": 40,
   "metadata": {
    "collapsed": false
   },
   "outputs": [
    {
     "name": "stdout",
     "output_type": "stream",
     "text": [
      "0.803300187581 SVR(C=100, cache_size=200, coef0=0.0, degree=1, epsilon=1, gamma=0.03,\n",
      "  kernel='rbf', max_iter=-1, shrinking=True, tol=0.001, verbose=False)\n"
     ]
    }
   ],
   "source": [
    "parameters = {  'C'       : [30, 50, 100]   ,\n",
    "                'kernel'  : ['rbf'],\n",
    "                'gamma'   : [ 0.03],\n",
    "                  \"epsilon\" : [0.01, 0.05, 0.15, 0.5, 0.9, 1],\n",
    "                 \"degree\" : [1,2]}\n",
    "grid = grid_search.GridSearchCV(svm.SVR(), parameters, n_jobs=-1)\n",
    "grid.fit(X_train, y_train)\n",
    "print grid.best_score_, grid.best_estimator_\n"
   ]
  },
  {
   "cell_type": "code",
   "execution_count": 41,
   "metadata": {
    "collapsed": false
   },
   "outputs": [
    {
     "name": "stdout",
     "output_type": "stream",
     "text": [
      "0.812370067012 SVR(C=260, cache_size=200, coef0=0.0, degree=1, epsilon=2.5, gamma=0.03,\n",
      "  kernel='rbf', max_iter=-1, shrinking=True, tol=0.001, verbose=False)\n"
     ]
    }
   ],
   "source": [
    "parameters = {  'C'       : [190, 200, 250, 260]   ,\n",
    "                'kernel'  : ['rbf'],\n",
    "                'gamma'   : [ 0.03],\n",
    "                  \"epsilon\" : [1.5, 2, 2.5],\n",
    "                 \"degree\" : [1,2]}\n",
    "grid = grid_search.GridSearchCV(svm.SVR(), parameters, n_jobs=-1)\n",
    "grid.fit(X_train, y_train)\n",
    "print grid.best_score_, grid.best_estimator_\n"
   ]
  },
  {
   "cell_type": "markdown",
   "metadata": {},
   "source": [
    "# 6) tester tous les algorithmes"
   ]
  },
  {
   "cell_type": "code",
   "execution_count": 42,
   "metadata": {
    "collapsed": false
   },
   "outputs": [],
   "source": [
    "def get_sklearn_algorithms(verbose = False):\n",
    "    \"\"\"\n",
    "    Explore all submodule of sklearn and fetch functions having a 'fit' attribute.\n",
    "    \n",
    "    Be careful : some functions are not models (ex : crossvalidators)\n",
    "    Parameters :\n",
    "        debug = print or not stuff on console\n",
    "    Return :\n",
    "        dict : { module : [ fit_functions] }\n",
    "    \"\"\"\n",
    "    from collections import defaultdict\n",
    "    import importlib\n",
    "    import sklearn\n",
    "    algos = defaultdict(list)\n",
    "    if verbose : print dir(sklearn)\n",
    "    for nom_module in dir(sklearn):    \n",
    "        if verbose : print nom_module\n",
    "        try:\n",
    "            to_import = \"sklearn.%s\"%nom_module\n",
    "            module    = importlib.import_module(to_import)\n",
    "            for nom_fonction in dir(module):\n",
    "                fonction = getattr(module, nom_fonction)\n",
    "                if hasattr(fonction, \"fit\"):\n",
    "                    if verbose : print \" nom algorithme  = \", nom_fonction\n",
    "                    algos[nom_module].append(fonction)                                            \n",
    "        except Exception as e:\n",
    "            if verbose : print e\n",
    "        if verbose: print \"=\"*30\n",
    "    return algos"
   ]
  },
  {
   "cell_type": "markdown",
   "metadata": {},
   "source": [
    "## Liste les algorithmes"
   ]
  },
  {
   "cell_type": "code",
   "execution_count": 43,
   "metadata": {
    "collapsed": false
   },
   "outputs": [
    {
     "name": "stdout",
     "output_type": "stream",
     "text": [
      "\n",
      "===> grid_search\n",
      "GridSearchCV,RandomizedSearchCV\n",
      "\n",
      "===> svm\n",
      "LinearSVC,LinearSVR,NuSVC,NuSVR,OneClassSVM,SVC,SVR,so\n",
      "\n",
      "===> linear_model\n",
      "ARDRegression,BayesianRidge,ElasticNet,ElasticNetCV,Lars,LarsCV,Lasso,LassoCV,LassoLars,LassoLarsCV,LassoLarsIC,LinearRegression,LogisticRegression,LogisticRegressionCV,MultiTaskElasticNet,MultiTaskElasticNetCV,MultiTaskLasso,MultiTaskLassoCV,OrthogonalMatchingPursuit,OrthogonalMatchingPursuitCV,PassiveAggressiveClassifier,PassiveAggressiveRegressor,Perceptron,RANSACRegressor,RandomizedLasso,RandomizedLogisticRegression,Ridge,RidgeCV,RidgeClassifier,RidgeClassifierCV,SGDClassifier,SGDRegressor,TheilSenRegressor\n",
      "\n",
      "===> multiclass\n",
      "LabelBinarizer,OneVsOneClassifier,OneVsRestClassifier,OutputCodeClassifier,_ConstantPredictor\n",
      "\n",
      "===> feature_extraction\n",
      "DictVectorizer,FeatureHasher\n",
      "\n",
      "===> preprocessing\n",
      "Binarizer,FunctionTransformer,Imputer,KernelCenterer,LabelBinarizer,LabelEncoder,MaxAbsScaler,MinMaxScaler,MultiLabelBinarizer,Normalizer,OneHotEncoder,PolynomialFeatures,RobustScaler,StandardScaler\n",
      "\n",
      "===> feature_selection\n",
      "GenericUnivariateSelect,RFE,RFECV,SelectFdr,SelectFpr,SelectFromModel,SelectFwe,SelectKBest,SelectPercentile,VarianceThreshold\n"
     ]
    }
   ],
   "source": [
    "algos = get_sklearn_algorithms()\n",
    "for key in algos.keys():\n",
    "    print \"\\n===>\",key\n",
    "    algos_ = []\n",
    "    for algo in algos[key]:\n",
    "        classe_algo = str(algo)\n",
    "        nom_algo    = classe_algo[str(classe_algo).rfind(\".\")+1:str(classe_algo).rfind(\"'\")]\n",
    "        algos_.append(nom_algo)\n",
    "    print \",\".join(algos_)"
   ]
  },
  {
   "cell_type": "markdown",
   "metadata": {},
   "source": [
    "## supprimer les warnings dans jupyter"
   ]
  },
  {
   "cell_type": "code",
   "execution_count": 44,
   "metadata": {
    "collapsed": true
   },
   "outputs": [],
   "source": [
    "import warnings\n",
    "warnings.filterwarnings(\"ignore\", category=DeprecationWarning) "
   ]
  },
  {
   "cell_type": "markdown",
   "metadata": {},
   "source": [
    "## Utiliser chaque algo et conserver les performances"
   ]
  },
  {
   "cell_type": "code",
   "execution_count": 45,
   "metadata": {
    "collapsed": false,
    "scrolled": true
   },
   "outputs": [
    {
     "name": "stdout",
     "output_type": "stream",
     "text": [
      "__init__() takes at least 3 arguments (1 given)\n",
      "==============================\n",
      "__init__() takes at least 3 arguments (1 given)\n",
      "==============================\n",
      "Linear Support Vector Cla\n",
      "Algo de classification\n",
      "==============================\n",
      "Linear Support Vector Reg\n",
      "0.746111678112\n",
      "==============================\n",
      "Nu-Support Vector Classif\n",
      "Algo de classification\n",
      "==============================\n",
      "Nu Support Vector Regress\n",
      "0.646396607568\n",
      "==============================\n",
      "Unsupervised Outlier Dete\n",
      "'OneClassSVM' object has no attribute 'score'\n",
      "==============================\n",
      "C-Support Vector Classifi\n",
      "Algo de classification\n",
      "==============================\n",
      "Epsilon-Support Vector Re\n",
      "0.672981334577\n",
      "==============================\n",
      "'module' object is not callable\n",
      "==============================\n",
      "Bayesian ARD regression.\n",
      "0.755075929851\n",
      "==============================\n",
      "Bayesian ridge regression\n",
      "0.751554950323\n",
      "==============================\n",
      "Linear regression with co\n",
      "0.664673045157\n",
      "==============================\n",
      "Elastic Net model with it\n",
      "0.752858764369\n",
      "==============================\n",
      "Least Angle Regression mo\n",
      "0.748383577901\n",
      "==============================\n",
      "Cross-validated Least Ang\n",
      "0.751072490257\n",
      "==============================\n",
      "Linear Model trained with\n",
      "0.698708229311\n",
      "==============================\n",
      "Lasso linear model with i\n",
      "0.751454445335\n",
      "==============================\n",
      "Lasso model fit with Leas\n",
      "-0.00139972545964\n",
      "==============================\n",
      "Cross-validated Lasso, us\n",
      "0.751072490257\n",
      "==============================\n",
      "Lasso model fit with Lars\n",
      "0.748383577901\n",
      "==============================\n",
      "Ordinary least squar\n",
      "0.748383577901\n",
      "==============================\n",
      "Logistic Regression (aka\n",
      "Algo de classification\n",
      "==============================\n",
      "Logistic Regression CV (a\n",
      "Algo de classification\n",
      "==============================\n",
      "Multi-task ElasticNet mod\n",
      "For mono-task outputs, use ElasticNet\n",
      "==============================\n",
      "Multi-task L1/L2 ElasticN\n",
      "For mono-task outputs, use ElasticNetCV\n",
      "==============================\n",
      "Multi-task Lasso model tr\n",
      "For mono-task outputs, use ElasticNet\n",
      "==============================\n",
      "Multi-task L1/L2 Lasso wi\n",
      "For mono-task outputs, use LassoCV\n",
      "==============================\n",
      "Orthogonal Matching Pursu\n",
      "0.570195545202\n",
      "==============================\n",
      "Cross-validated Orthogona\n",
      "0.757078835667\n",
      "==============================\n",
      "Passive Aggressive Classi\n",
      "Algo de classification\n",
      "==============================\n",
      "Passive Aggressive Regres\n",
      "0.385339524153\n",
      "==============================\n",
      "Perceptron\n",
      "\n",
      "    Read more\n",
      "Algo de classification\n",
      "==============================\n",
      "RANSAC (RANdom SAmple Con\n",
      "0.613112209437\n",
      "==============================\n",
      "Randomized Lasso.\n",
      "\n",
      "    Ra\n"
     ]
    },
    {
     "name": "stderr",
     "output_type": "stream",
     "text": [
      "/Users/romain/anaconda/lib/python2.7/site-packages/scipy/linalg/basic.py:884: RuntimeWarning: internal gelsd driver lwork query error, required iwork dimension not returned. This is likely the result of LAPACK bug 0038, fixed in LAPACK 3.2.2 (released July 21, 2010). Falling back to 'gelss' driver.\n",
      "  warnings.warn(mesg, RuntimeWarning)\n"
     ]
    },
    {
     "name": "stdout",
     "output_type": "stream",
     "text": [
      "'RandomizedLasso' object has no attribute 'score'\n",
      "==============================\n",
      "Randomized Logistic Regre\n",
      "Algo de classification\n",
      "==============================\n",
      "Linear least squares with\n",
      "0.749085298715\n",
      "==============================\n",
      "Ridge regression with bui\n",
      "0.749085298715\n",
      "==============================\n",
      "Classifier using Ridge re\n",
      "Algo de classification\n",
      "==============================\n",
      "Ridge classifier with bui\n",
      "Algo de classification\n",
      "==============================\n",
      "Linear classifiers (SVM,\n",
      "Algo de classification\n",
      "==============================\n",
      "Linear model fitted by mi\n",
      "0.756270028156\n",
      "==============================\n",
      "Theil-Sen Estimator\n",
      "0.627573329519\n",
      "==============================\n",
      "Binarize labels in a one-\n",
      "fit() takes exactly 2 arguments (3 given)\n",
      "==============================\n",
      "__init__() takes at least 2 arguments (1 given)\n",
      "==============================\n",
      "__init__() takes at least 2 arguments (1 given)\n",
      "==============================\n",
      "__init__() takes at least 2 arguments (1 given)\n",
      "==============================\n",
      "'NoneType' object has no attribute 'find'\n",
      "==============================\n",
      "Transforms lists of featu\n",
      "'numpy.ndarray' object has no attribute 'iteritems\n",
      "==============================\n",
      "Implements feature hashin\n",
      "'FeatureHasher' object has no attribute 'score'\n",
      "==============================\n",
      "Binarize data (set featur\n",
      "'Binarizer' object has no attribute 'score'\n",
      "==============================\n",
      "Constructs a transformer\n",
      "'FunctionTransformer' object has no attribute 'sco\n",
      "==============================\n",
      "Imputation transformer fo\n",
      "'Imputer' object has no attribute 'score'\n",
      "==============================\n",
      "Center a kernel matrix\n",
      "'KernelCenterer' object has no attribute 'score'\n",
      "==============================\n",
      "Binarize labels in a one-\n",
      "fit() takes exactly 2 arguments (3 given)\n",
      "==============================\n",
      "Encode labels with value\n",
      "fit() takes exactly 2 arguments (3 given)\n",
      "==============================\n",
      "Scale each feature by its\n",
      "'MaxAbsScaler' object has no attribute 'score'\n",
      "==============================\n",
      "Transforms features by sc\n",
      "'MinMaxScaler' object has no attribute 'score'\n",
      "==============================\n",
      "Transform between iterabl\n",
      "fit() takes exactly 2 arguments (3 given)\n",
      "==============================\n",
      "Normalize samples individ\n",
      "'Normalizer' object has no attribute 'score'\n",
      "==============================\n",
      "Encode categorical intege\n",
      "X needs to contain only non-negative integers.\n",
      "==============================\n",
      "Generate polynomial and i\n",
      "'PolynomialFeatures' object has no attribute 'scor\n",
      "==============================\n",
      "Scale features using stat\n",
      "'RobustScaler' object has no attribute 'score'\n",
      "==============================\n",
      "Standardize features by r\n",
      "'StandardScaler' object has no attribute 'score'\n",
      "==============================\n",
      "Univariate feature select\n",
      "'GenericUnivariateSelect' object has no attribute \n",
      "==============================\n",
      "__init__() takes at least 2 arguments (1 given)\n",
      "==============================\n",
      "__init__() takes at least 2 arguments (1 given)\n",
      "==============================\n",
      "Filter\n",
      "'SelectFdr' object has no attribute 'score'\n",
      "==============================\n",
      "Filter\n",
      "'SelectFpr' object has no attribute 'score'\n",
      "==============================\n",
      "__init__() takes at least 2 arguments (1 given)\n",
      "==============================\n",
      "Filter\n",
      "'SelectFwe' object has no attribute 'score'\n",
      "==============================\n",
      "Select features according\n",
      "'SelectKBest' object has no attribute 'score'\n",
      "==============================\n",
      "Select features according\n",
      "'SelectPercentile' object has no attribute 'score'\n",
      "==============================\n",
      "Feature selector that rem\n",
      "'VarianceThreshold' object has no attribute 'score\n",
      "==============================\n"
     ]
    }
   ],
   "source": [
    "performances               = {}\n",
    "modeles_a_tester           = []\n",
    "classes_de_models_a_tester = algos.keys()\n",
    "best_algorithm = 0\n",
    "best_perf = 0\n",
    "for classe_de_models in classes_de_models_a_tester:\n",
    "    modeles_a_tester.extend(algos[classe_de_models])\n",
    "    \n",
    "for pointeur_vers_algo in modeles_a_tester:\n",
    "    try:\n",
    "        algorithme = pointeur_vers_algo()\n",
    "        doc        = algorithme.__doc__\n",
    "        name       = doc[:min(doc.find(\":\"), 25)].strip()\n",
    "        print name\n",
    "        algorithme.fit(X_train, y_train)\n",
    "        performance = algorithme.score(X_test, y_test)\n",
    "        print performance\n",
    "        if performance >  best_perf:\n",
    "            best_algorithm = algorithme\n",
    "            best_perf = performance\n",
    "            \n",
    "        if 0<performance and performance<1:\n",
    "            performances[name] = [performance]\n",
    "    except Exception as e:\n",
    "        if \"label\" in str(e): print \"Algo de classification\"\n",
    "        else                : print str(e)[:50]\n",
    "    print \"=\"*30\n",
    "    "
   ]
  },
  {
   "cell_type": "markdown",
   "metadata": {},
   "source": [
    "## meilleur algo"
   ]
  },
  {
   "cell_type": "code",
   "execution_count": 46,
   "metadata": {
    "collapsed": false
   },
   "outputs": [
    {
     "data": {
      "text/plain": [
       "OrthogonalMatchingPursuitCV(copy=True, cv=None, fit_intercept=True,\n",
       "              max_iter=None, n_jobs=1, normalize=True, verbose=False)"
      ]
     },
     "execution_count": 46,
     "metadata": {},
     "output_type": "execute_result"
    }
   ],
   "source": [
    "best_algorithm"
   ]
  },
  {
   "cell_type": "markdown",
   "metadata": {},
   "source": [
    "## Performances de chaque algo :"
   ]
  },
  {
   "cell_type": "code",
   "execution_count": 47,
   "metadata": {
    "collapsed": false
   },
   "outputs": [
    {
     "data": {
      "text/plain": [
       "{'Bayesian ARD regression.': [0.75507592985102823],\n",
       " 'Bayesian ridge regression': [0.75155495032311392],\n",
       " 'Cross-validated Lasso, us': [0.75107249025653822],\n",
       " 'Cross-validated Least Ang': [0.75107249025653822],\n",
       " 'Cross-validated Orthogona': [0.75707883566745349],\n",
       " 'Elastic Net model with it': [0.75285876436895305],\n",
       " 'Epsilon-Support Vector Re': [0.67298133457745846],\n",
       " 'Lasso linear model with i': [0.7514544453353601],\n",
       " 'Lasso model fit with Lars': [0.74838357790115551],\n",
       " 'Least Angle Regression mo': [0.74838357790115551],\n",
       " 'Linear Model trained with': [0.69870822931073617],\n",
       " 'Linear Support Vector Reg': [0.74611167811187284],\n",
       " 'Linear least squares with': [0.74908529871456708],\n",
       " 'Linear model fitted by mi': [0.75627002815585087],\n",
       " 'Linear regression with co': [0.66467304515698733],\n",
       " 'Nu Support Vector Regress': [0.64639660756792749],\n",
       " 'Ordinary least squar': [0.74838357790115539],\n",
       " 'Orthogonal Matching Pursu': [0.57019554520243798],\n",
       " 'Passive Aggressive Regres': [0.38533952415259121],\n",
       " 'RANSAC (RANdom SAmple Con': [0.61311220943709743],\n",
       " 'Ridge regression with bui': [0.74908529871459673],\n",
       " 'Theil-Sen Estimator': [0.62757332951936218]}"
      ]
     },
     "execution_count": 47,
     "metadata": {},
     "output_type": "execute_result"
    }
   ],
   "source": [
    "performances"
   ]
  },
  {
   "cell_type": "markdown",
   "metadata": {},
   "source": [
    "## on manipule les performances via panda"
   ]
  },
  {
   "cell_type": "code",
   "execution_count": 51,
   "metadata": {
    "collapsed": true
   },
   "outputs": [],
   "source": [
    "import pandas as pd"
   ]
  },
  {
   "cell_type": "code",
   "execution_count": 52,
   "metadata": {
    "collapsed": false
   },
   "outputs": [],
   "source": [
    "df = pd.DataFrame(performances).T"
   ]
  },
  {
   "cell_type": "code",
   "execution_count": 53,
   "metadata": {
    "collapsed": false
   },
   "outputs": [],
   "source": [
    "col_name = \"performance\"\n",
    "df.columns = [col_name]"
   ]
  },
  {
   "cell_type": "code",
   "execution_count": 54,
   "metadata": {
    "collapsed": false
   },
   "outputs": [],
   "source": [
    "df = df.sort_values(col_name)"
   ]
  },
  {
   "cell_type": "code",
   "execution_count": 55,
   "metadata": {
    "collapsed": false
   },
   "outputs": [
    {
     "data": {
      "text/html": [
       "<div>\n",
       "<table border=\"1\" class=\"dataframe\">\n",
       "  <thead>\n",
       "    <tr style=\"text-align: right;\">\n",
       "      <th></th>\n",
       "      <th>performance</th>\n",
       "    </tr>\n",
       "  </thead>\n",
       "  <tbody>\n",
       "    <tr>\n",
       "      <th>Passive Aggressive Regres</th>\n",
       "      <td>0.385340</td>\n",
       "    </tr>\n",
       "    <tr>\n",
       "      <th>Orthogonal Matching Pursu</th>\n",
       "      <td>0.570196</td>\n",
       "    </tr>\n",
       "    <tr>\n",
       "      <th>RANSAC (RANdom SAmple Con</th>\n",
       "      <td>0.613112</td>\n",
       "    </tr>\n",
       "    <tr>\n",
       "      <th>Theil-Sen Estimator</th>\n",
       "      <td>0.627573</td>\n",
       "    </tr>\n",
       "    <tr>\n",
       "      <th>Nu Support Vector Regress</th>\n",
       "      <td>0.646397</td>\n",
       "    </tr>\n",
       "    <tr>\n",
       "      <th>Linear regression with co</th>\n",
       "      <td>0.664673</td>\n",
       "    </tr>\n",
       "    <tr>\n",
       "      <th>Epsilon-Support Vector Re</th>\n",
       "      <td>0.672981</td>\n",
       "    </tr>\n",
       "    <tr>\n",
       "      <th>Linear Model trained with</th>\n",
       "      <td>0.698708</td>\n",
       "    </tr>\n",
       "    <tr>\n",
       "      <th>Linear Support Vector Reg</th>\n",
       "      <td>0.746112</td>\n",
       "    </tr>\n",
       "    <tr>\n",
       "      <th>Ordinary least squar</th>\n",
       "      <td>0.748384</td>\n",
       "    </tr>\n",
       "    <tr>\n",
       "      <th>Lasso model fit with Lars</th>\n",
       "      <td>0.748384</td>\n",
       "    </tr>\n",
       "    <tr>\n",
       "      <th>Least Angle Regression mo</th>\n",
       "      <td>0.748384</td>\n",
       "    </tr>\n",
       "    <tr>\n",
       "      <th>Linear least squares with</th>\n",
       "      <td>0.749085</td>\n",
       "    </tr>\n",
       "    <tr>\n",
       "      <th>Ridge regression with bui</th>\n",
       "      <td>0.749085</td>\n",
       "    </tr>\n",
       "    <tr>\n",
       "      <th>Cross-validated Least Ang</th>\n",
       "      <td>0.751072</td>\n",
       "    </tr>\n",
       "    <tr>\n",
       "      <th>Cross-validated Lasso, us</th>\n",
       "      <td>0.751072</td>\n",
       "    </tr>\n",
       "    <tr>\n",
       "      <th>Lasso linear model with i</th>\n",
       "      <td>0.751454</td>\n",
       "    </tr>\n",
       "    <tr>\n",
       "      <th>Bayesian ridge regression</th>\n",
       "      <td>0.751555</td>\n",
       "    </tr>\n",
       "    <tr>\n",
       "      <th>Elastic Net model with it</th>\n",
       "      <td>0.752859</td>\n",
       "    </tr>\n",
       "    <tr>\n",
       "      <th>Bayesian ARD regression.</th>\n",
       "      <td>0.755076</td>\n",
       "    </tr>\n",
       "    <tr>\n",
       "      <th>Linear model fitted by mi</th>\n",
       "      <td>0.756270</td>\n",
       "    </tr>\n",
       "    <tr>\n",
       "      <th>Cross-validated Orthogona</th>\n",
       "      <td>0.757079</td>\n",
       "    </tr>\n",
       "  </tbody>\n",
       "</table>\n",
       "</div>"
      ],
      "text/plain": [
       "                           performance\n",
       "Passive Aggressive Regres     0.385340\n",
       "Orthogonal Matching Pursu     0.570196\n",
       "RANSAC (RANdom SAmple Con     0.613112\n",
       "Theil-Sen Estimator           0.627573\n",
       "Nu Support Vector Regress     0.646397\n",
       "Linear regression with co     0.664673\n",
       "Epsilon-Support Vector Re     0.672981\n",
       "Linear Model trained with     0.698708\n",
       "Linear Support Vector Reg     0.746112\n",
       "Ordinary least squar          0.748384\n",
       "Lasso model fit with Lars     0.748384\n",
       "Least Angle Regression mo     0.748384\n",
       "Linear least squares with     0.749085\n",
       "Ridge regression with bui     0.749085\n",
       "Cross-validated Least Ang     0.751072\n",
       "Cross-validated Lasso, us     0.751072\n",
       "Lasso linear model with i     0.751454\n",
       "Bayesian ridge regression     0.751555\n",
       "Elastic Net model with it     0.752859\n",
       "Bayesian ARD regression.      0.755076\n",
       "Linear model fitted by mi     0.756270\n",
       "Cross-validated Orthogona     0.757079"
      ]
     },
     "execution_count": 55,
     "metadata": {},
     "output_type": "execute_result"
    }
   ],
   "source": [
    "df"
   ]
  },
  {
   "cell_type": "markdown",
   "metadata": {},
   "source": [
    "## calcul des gains de performance d'un algo l'autre"
   ]
  },
  {
   "cell_type": "code",
   "execution_count": 56,
   "metadata": {
    "collapsed": false
   },
   "outputs": [],
   "source": [
    "liste_des_performances = df.performance.values\n",
    "gains = [0]\n",
    "for indice, performance in enumerate(liste_des_performances):\n",
    "    if indice>0:\n",
    "        previous_value = liste_des_performances[indice-1]\n",
    "        current_value  = liste_des_performances[indice]\n",
    "        gain = (current_value - previous_value) / previous_value\n",
    "        gains.append(round(gain*100, 2))\n",
    "df[\"gains\"] = gains"
   ]
  },
  {
   "cell_type": "code",
   "execution_count": 57,
   "metadata": {
    "collapsed": false
   },
   "outputs": [],
   "source": [
    "df = df.drop(\"gains\", axis=1)"
   ]
  },
  {
   "cell_type": "code",
   "execution_count": 58,
   "metadata": {
    "collapsed": false
   },
   "outputs": [
    {
     "data": {
      "text/html": [
       "<div>\n",
       "<table border=\"1\" class=\"dataframe\">\n",
       "  <thead>\n",
       "    <tr style=\"text-align: right;\">\n",
       "      <th></th>\n",
       "      <th>performance</th>\n",
       "    </tr>\n",
       "  </thead>\n",
       "  <tbody>\n",
       "    <tr>\n",
       "      <th>Passive Aggressive Regres</th>\n",
       "      <td>0.385340</td>\n",
       "    </tr>\n",
       "    <tr>\n",
       "      <th>Orthogonal Matching Pursu</th>\n",
       "      <td>0.570196</td>\n",
       "    </tr>\n",
       "    <tr>\n",
       "      <th>RANSAC (RANdom SAmple Con</th>\n",
       "      <td>0.613112</td>\n",
       "    </tr>\n",
       "    <tr>\n",
       "      <th>Theil-Sen Estimator</th>\n",
       "      <td>0.627573</td>\n",
       "    </tr>\n",
       "    <tr>\n",
       "      <th>Nu Support Vector Regress</th>\n",
       "      <td>0.646397</td>\n",
       "    </tr>\n",
       "    <tr>\n",
       "      <th>Linear regression with co</th>\n",
       "      <td>0.664673</td>\n",
       "    </tr>\n",
       "    <tr>\n",
       "      <th>Epsilon-Support Vector Re</th>\n",
       "      <td>0.672981</td>\n",
       "    </tr>\n",
       "    <tr>\n",
       "      <th>Linear Model trained with</th>\n",
       "      <td>0.698708</td>\n",
       "    </tr>\n",
       "    <tr>\n",
       "      <th>Linear Support Vector Reg</th>\n",
       "      <td>0.746112</td>\n",
       "    </tr>\n",
       "    <tr>\n",
       "      <th>Ordinary least squar</th>\n",
       "      <td>0.748384</td>\n",
       "    </tr>\n",
       "    <tr>\n",
       "      <th>Lasso model fit with Lars</th>\n",
       "      <td>0.748384</td>\n",
       "    </tr>\n",
       "    <tr>\n",
       "      <th>Least Angle Regression mo</th>\n",
       "      <td>0.748384</td>\n",
       "    </tr>\n",
       "    <tr>\n",
       "      <th>Linear least squares with</th>\n",
       "      <td>0.749085</td>\n",
       "    </tr>\n",
       "    <tr>\n",
       "      <th>Ridge regression with bui</th>\n",
       "      <td>0.749085</td>\n",
       "    </tr>\n",
       "    <tr>\n",
       "      <th>Cross-validated Least Ang</th>\n",
       "      <td>0.751072</td>\n",
       "    </tr>\n",
       "    <tr>\n",
       "      <th>Cross-validated Lasso, us</th>\n",
       "      <td>0.751072</td>\n",
       "    </tr>\n",
       "    <tr>\n",
       "      <th>Lasso linear model with i</th>\n",
       "      <td>0.751454</td>\n",
       "    </tr>\n",
       "    <tr>\n",
       "      <th>Bayesian ridge regression</th>\n",
       "      <td>0.751555</td>\n",
       "    </tr>\n",
       "    <tr>\n",
       "      <th>Elastic Net model with it</th>\n",
       "      <td>0.752859</td>\n",
       "    </tr>\n",
       "    <tr>\n",
       "      <th>Bayesian ARD regression.</th>\n",
       "      <td>0.755076</td>\n",
       "    </tr>\n",
       "    <tr>\n",
       "      <th>Linear model fitted by mi</th>\n",
       "      <td>0.756270</td>\n",
       "    </tr>\n",
       "    <tr>\n",
       "      <th>Cross-validated Orthogona</th>\n",
       "      <td>0.757079</td>\n",
       "    </tr>\n",
       "  </tbody>\n",
       "</table>\n",
       "</div>"
      ],
      "text/plain": [
       "                           performance\n",
       "Passive Aggressive Regres     0.385340\n",
       "Orthogonal Matching Pursu     0.570196\n",
       "RANSAC (RANdom SAmple Con     0.613112\n",
       "Theil-Sen Estimator           0.627573\n",
       "Nu Support Vector Regress     0.646397\n",
       "Linear regression with co     0.664673\n",
       "Epsilon-Support Vector Re     0.672981\n",
       "Linear Model trained with     0.698708\n",
       "Linear Support Vector Reg     0.746112\n",
       "Ordinary least squar          0.748384\n",
       "Lasso model fit with Lars     0.748384\n",
       "Least Angle Regression mo     0.748384\n",
       "Linear least squares with     0.749085\n",
       "Ridge regression with bui     0.749085\n",
       "Cross-validated Least Ang     0.751072\n",
       "Cross-validated Lasso, us     0.751072\n",
       "Lasso linear model with i     0.751454\n",
       "Bayesian ridge regression     0.751555\n",
       "Elastic Net model with it     0.752859\n",
       "Bayesian ARD regression.      0.755076\n",
       "Linear model fitted by mi     0.756270\n",
       "Cross-validated Orthogona     0.757079"
      ]
     },
     "execution_count": 58,
     "metadata": {},
     "output_type": "execute_result"
    }
   ],
   "source": [
    "df"
   ]
  },
  {
   "cell_type": "markdown",
   "metadata": {},
   "source": [
    "## Tracer les performances par algo"
   ]
  },
  {
   "cell_type": "code",
   "execution_count": 59,
   "metadata": {
    "collapsed": true
   },
   "outputs": [],
   "source": [
    "%matplotlib inline\n",
    "import matplotlib.pyplot as plt\n",
    "import matplotlib.ticker as ticker"
   ]
  },
  {
   "cell_type": "code",
   "execution_count": 60,
   "metadata": {
    "collapsed": false
   },
   "outputs": [
    {
     "data": {
      "image/png": "[encoded data removed]",
      "text/plain": [
       "<matplotlib.figure.Figure at 0x1134ece90>"
      ]
     },
     "metadata": {},
     "output_type": "display_data"
    }
   ],
   "source": [
    "df = df.sort_values(col_name)\n",
    "ax = df.plot(rot=45, x_compat=True)"
   ]
  },
  {
   "cell_type": "markdown",
   "metadata": {},
   "source": [
    "### Augmentation du nombre de légend"
   ]
  },
  {
   "cell_type": "code",
   "execution_count": 61,
   "metadata": {
    "collapsed": false
   },
   "outputs": [
    {
     "data": {
      "image/png": "[encoded data removed]",
      "text/plain": [
       "<matplotlib.figure.Figure at 0x11364e750>"
      ]
     },
     "metadata": {},
     "output_type": "display_data"
    }
   ],
   "source": [
    "df = df.sort_values(col_name)\n",
    "ax = df.plot(rot=90, x_compat=True)\n",
    "ax.xaxis.set_ticklabels(df.index)\n",
    "ax.xaxis.set_major_locator(ticker.MultipleLocator(1))"
   ]
  },
  {
   "cell_type": "markdown",
   "metadata": {},
   "source": [
    "### Rotation des infos sur x, et image plus large"
   ]
  },
  {
   "cell_type": "code",
   "execution_count": 62,
   "metadata": {
    "collapsed": false
   },
   "outputs": [
    {
     "data": {
      "text/plain": [
       "<matplotlib.axes._subplots.AxesSubplot at 0x1138d4f50>"
      ]
     },
     "execution_count": 62,
     "metadata": {},
     "output_type": "execute_result"
    },
    {
     "data": {
      "image/png": "[encoded data removed]",
      "text/plain": [
       "<matplotlib.figure.Figure at 0x113857290>"
      ]
     },
     "metadata": {},
     "output_type": "display_data"
    }
   ],
   "source": [
    "fig , axes = plt.subplots(1,1)\n",
    "fig.set_size_inches(9,3)\n",
    "df = df.sort_values(col_name )\n",
    "axes.xaxis.set_ticklabels(df.index)\n",
    "axes.xaxis.set_major_locator(ticker.MultipleLocator(1))\n",
    "df.plot(rot=45, ax=axes)\n"
   ]
  },
  {
   "cell_type": "markdown",
   "metadata": {},
   "source": [
    "### affichage en barre"
   ]
  },
  {
   "cell_type": "code",
   "execution_count": 63,
   "metadata": {
    "collapsed": false
   },
   "outputs": [
    {
     "data": {
      "text/plain": [
       "<matplotlib.axes._subplots.AxesSubplot at 0x113899b90>"
      ]
     },
     "execution_count": 63,
     "metadata": {},
     "output_type": "execute_result"
    },
    {
     "data": {
      "image/png": "[encoded data removed]",
      "text/plain": [
       "<matplotlib.figure.Figure at 0x113662f10>"
      ]
     },
     "metadata": {},
     "output_type": "display_data"
    }
   ],
   "source": [
    "fig , axes = plt.subplots(1,1)\n",
    "fig.set_size_inches(9,3)\n",
    "df = df.sort_values(col_name )\n",
    "axes.xaxis.set_ticklabels(df.index)\n",
    "axes.xaxis.set_major_locator(ticker.MultipleLocator(1))\n",
    "df.plot(kind='bar', rot=90, ax=axes)"
   ]
  },
  {
   "cell_type": "markdown",
   "metadata": {},
   "source": [
    "## on rajoute la perforamnce dans les labels"
   ]
  },
  {
   "cell_type": "code",
   "execution_count": 64,
   "metadata": {
    "collapsed": false,
    "scrolled": true
   },
   "outputs": [
    {
     "data": {
      "image/png": "[encoded data removed]",
      "text/plain": [
       "<matplotlib.figure.Figure at 0x113970ad0>"
      ]
     },
     "metadata": {},
     "output_type": "display_data"
    }
   ],
   "source": [
    "new_labels = []\n",
    "for i, index in enumerate(df.index):\n",
    "    new_label = \"%s (%.2f)\"%(index,df.performance[i])\n",
    "    new_labels.append(new_label.replace(\"\\n\", \" \"))\n",
    "    \n",
    "fig , axes = plt.subplots(1,1)\n",
    "df.index = new_labels\n",
    "fig.set_size_inches(15,8)\n",
    "fig.subplots_adjust(left=0.65)\n",
    "df.sort_values(col_name).plot(kind='barh', ax=axes)\n",
    "axes.xaxis.set_major_locator(ticker.MultipleLocator(1))\n",
    "\n",
    "pass"
   ]
  },
  {
   "cell_type": "markdown",
   "metadata": {},
   "source": [
    "# 7) which scoring function ?"
   ]
  },
  {
   "cell_type": "markdown",
   "metadata": {},
   "source": [
    "## on récupère les fonctions de score"
   ]
  },
  {
   "cell_type": "code",
   "execution_count": 65,
   "metadata": {
    "collapsed": true
   },
   "outputs": [],
   "source": [
    "def get_sklearn_score_functions(verbose = False):\n",
    "    \"\"\"\n",
    "    Explore all submodule of sklearn and fetch functions named as 'score'.\n",
    "    \n",
    "    Parameters :\n",
    "        debug = print or not stuff on console\n",
    "    Return :\n",
    "        dict : { module : [ score_functions] }\n",
    "    \"\"\"\n",
    "    from collections import defaultdict\n",
    "    import importlib\n",
    "    import sklearn\n",
    "    algos = defaultdict(list)\n",
    "    if verbose : print dir(sklearn)\n",
    "    for nom_module in dir(sklearn):    \n",
    "        if verbose : print nom_module\n",
    "        try:\n",
    "            to_import = \"sklearn.%s\"%nom_module\n",
    "            module    = importlib.import_module(to_import)\n",
    "            for nom_fonction in dir(module):\n",
    "                fonction = getattr(module, nom_fonction)\n",
    "                if \"score\" in nom_fonction:\n",
    "                    algos[nom_module].append(fonction)                                            \n",
    "        except Exception as e:\n",
    "            if verbose : print e\n",
    "        if verbose: print \"=\"*30\n",
    "    return algos"
   ]
  },
  {
   "cell_type": "code",
   "execution_count": 66,
   "metadata": {
    "collapsed": false
   },
   "outputs": [],
   "source": [
    "scoring_modules = get_sklearn_score_functions(False)"
   ]
  },
  {
   "cell_type": "code",
   "execution_count": 67,
   "metadata": {
    "collapsed": false
   },
   "outputs": [
    {
     "data": {
      "text/plain": [
       "['grid_search', 'metrics', 'cross_validation']"
      ]
     },
     "execution_count": 67,
     "metadata": {},
     "output_type": "execute_result"
    }
   ],
   "source": [
    "scoring_modules.keys()"
   ]
  },
  {
   "cell_type": "markdown",
   "metadata": {},
   "source": [
    "## on s'intéresse aux métriques"
   ]
  },
  {
   "cell_type": "code",
   "execution_count": 68,
   "metadata": {
    "collapsed": false
   },
   "outputs": [
    {
     "data": {
      "text/plain": [
       "[<function sklearn.metrics.classification.accuracy_score>,\n",
       " <function sklearn.metrics.cluster.supervised.adjusted_mutual_info_score>,\n",
       " <function sklearn.metrics.cluster.supervised.adjusted_rand_score>,\n",
       " <function sklearn.metrics.ranking.average_precision_score>,\n",
       " <function sklearn.metrics.classification.brier_score_loss>,\n",
       " <function sklearn.metrics.classification.cohen_kappa_score>,\n",
       " <function sklearn.metrics.cluster.supervised.completeness_score>,\n",
       " <function sklearn.metrics.cluster.bicluster.consensus_score>,\n",
       " <function sklearn.metrics.regression.explained_variance_score>,\n",
       " <function sklearn.metrics.classification.f1_score>,\n",
       " <function sklearn.metrics.classification.fbeta_score>,\n",
       " <function sklearn.metrics.scorer.get_scorer>,\n",
       " <function sklearn.metrics.cluster.supervised.homogeneity_score>,\n",
       " <function sklearn.metrics.classification.jaccard_similarity_score>,\n",
       " <function sklearn.metrics.ranking.label_ranking_average_precision_score>,\n",
       " <function sklearn.metrics.scorer.make_scorer>,\n",
       " <function sklearn.metrics.cluster.supervised.mutual_info_score>,\n",
       " <function sklearn.metrics.cluster.supervised.normalized_mutual_info_score>,\n",
       " <function sklearn.metrics.classification.precision_recall_fscore_support>,\n",
       " <function sklearn.metrics.classification.precision_score>,\n",
       " <function sklearn.metrics.regression.r2_score>,\n",
       " <function sklearn.metrics.classification.recall_score>,\n",
       " <function sklearn.metrics.ranking.roc_auc_score>,\n",
       " <module 'sklearn.metrics.scorer' from '/Users/romain/anaconda/lib/python2.7/site-packages/sklearn/metrics/scorer.pyc'>,\n",
       " <function sklearn.metrics.cluster.unsupervised.silhouette_score>,\n",
       " <function sklearn.metrics.cluster.supervised.v_measure_score>]"
      ]
     },
     "execution_count": 68,
     "metadata": {},
     "output_type": "execute_result"
    }
   ],
   "source": [
    "scoring_modules[\"metrics\"]"
   ]
  },
  {
   "cell_type": "markdown",
   "metadata": {},
   "source": [
    "# 8) tester les métriques sur un algo"
   ]
  },
  {
   "cell_type": "code",
   "execution_count": 69,
   "metadata": {
    "collapsed": false
   },
   "outputs": [],
   "source": [
    "from sklearn.ensemble import BaggingRegressor"
   ]
  },
  {
   "cell_type": "markdown",
   "metadata": {},
   "source": [
    "# 8.1) l'algo a des performances variables"
   ]
  },
  {
   "cell_type": "code",
   "execution_count": 70,
   "metadata": {
    "collapsed": false
   },
   "outputs": [
    {
     "name": "stdout",
     "output_type": "stream",
     "text": [
      "0 0.875152694243\n",
      "1 0.886705676437\n",
      "2 0.889211326493\n",
      "3 0.869657209423\n",
      "4 0.839075125445\n",
      "5 0.885239421773\n",
      "6 0.881646659982\n",
      "7 0.877158219726\n",
      "8 0.8689677812\n",
      "9 0.883690176553\n"
     ]
    }
   ],
   "source": [
    "performances = {}\n",
    "for i in range(10):\n",
    "    algorithme = BaggingRegressor()\n",
    "    algorithme.fit(X_train, y_train)\n",
    "    performance = algorithme.score(X_test, y_test)\n",
    "    print i, performance\n",
    "    performances[i] = [performance]"
   ]
  },
  {
   "cell_type": "code",
   "execution_count": 71,
   "metadata": {
    "collapsed": false
   },
   "outputs": [
    {
     "data": {
      "text/plain": [
       "<matplotlib.axes._subplots.AxesSubplot at 0x1135aedd0>"
      ]
     },
     "execution_count": 71,
     "metadata": {},
     "output_type": "execute_result"
    },
    {
     "data": {
      "image/png": "[encoded data removed]",
      "text/plain": [
       "<matplotlib.figure.Figure at 0x1135ae7d0>"
      ]
     },
     "metadata": {},
     "output_type": "display_data"
    }
   ],
   "source": [
    "pd.DataFrame.from_dict(performances).T.plot()"
   ]
  },
  {
   "cell_type": "markdown",
   "metadata": {},
   "source": [
    "## On peut calculer diverses métriques"
   ]
  },
  {
   "cell_type": "code",
   "execution_count": 72,
   "metadata": {
    "collapsed": false
   },
   "outputs": [],
   "source": [
    "y_pred = algorithme.predict(X_test)"
   ]
  },
  {
   "cell_type": "code",
   "execution_count": 75,
   "metadata": {
    "collapsed": false
   },
   "outputs": [
    {
     "name": "stdout",
     "output_type": "stream",
     "text": [
      "adjusted_mutual_info_score  =>  -0.00102189425976\n",
      "adjusted_rand_score  =>  -0.000413061171917\n",
      "completeness_score  =>  0.916946313301\n",
      "explained_variance_score  =>  0.88384552252\n",
      "homogeneity_score  =>  0.994695735047\n",
      "mutual_info_score  =>  4.67009039306\n",
      "normalized_mutual_info_score  =>  0.955030149842\n",
      "r2_score  =>  0.883690176553\n",
      "v_measure_score  =>  0.954239929903\n"
     ]
    }
   ],
   "source": [
    "score_par_metric = {}\n",
    "for scoring_function in scoring_modules[\"metrics\"]:\n",
    "    try:\n",
    "        info         = str(scoring_function)\n",
    "        nom_metrique = info[info.find(\" \"):info.find(\" at \")].strip()\n",
    "        score_algo   = scoring_function(y_test, y_pred)\n",
    "        score_par_metric[nom_metrique] =  [score_algo]\n",
    "        print nom_metrique, \" => \", score_algo\n",
    "    except:\n",
    "        pass"
   ]
  },
  {
   "cell_type": "markdown",
   "metadata": {},
   "source": [
    "## on les manipule dans une dataframe pandas"
   ]
  },
  {
   "cell_type": "code",
   "execution_count": 78,
   "metadata": {
    "collapsed": false
   },
   "outputs": [],
   "source": [
    "df_metriques = pd.DataFrame.from_dict(score_par_metric).T"
   ]
  },
  {
   "cell_type": "code",
   "execution_count": 79,
   "metadata": {
    "collapsed": false
   },
   "outputs": [
    {
     "data": {
      "text/html": [
       "<div>\n",
       "<table border=\"1\" class=\"dataframe\">\n",
       "  <thead>\n",
       "    <tr style=\"text-align: right;\">\n",
       "      <th></th>\n",
       "      <th>score</th>\n",
       "    </tr>\n",
       "  </thead>\n",
       "  <tbody>\n",
       "    <tr>\n",
       "      <th>adjusted_mutual_info_score</th>\n",
       "      <td>-0.001022</td>\n",
       "    </tr>\n",
       "    <tr>\n",
       "      <th>adjusted_rand_score</th>\n",
       "      <td>-0.000413</td>\n",
       "    </tr>\n",
       "    <tr>\n",
       "      <th>r2_score</th>\n",
       "      <td>0.883690</td>\n",
       "    </tr>\n",
       "    <tr>\n",
       "      <th>explained_variance_score</th>\n",
       "      <td>0.883846</td>\n",
       "    </tr>\n",
       "    <tr>\n",
       "      <th>completeness_score</th>\n",
       "      <td>0.916946</td>\n",
       "    </tr>\n",
       "    <tr>\n",
       "      <th>v_measure_score</th>\n",
       "      <td>0.954240</td>\n",
       "    </tr>\n",
       "    <tr>\n",
       "      <th>normalized_mutual_info_score</th>\n",
       "      <td>0.955030</td>\n",
       "    </tr>\n",
       "    <tr>\n",
       "      <th>homogeneity_score</th>\n",
       "      <td>0.994696</td>\n",
       "    </tr>\n",
       "    <tr>\n",
       "      <th>mutual_info_score</th>\n",
       "      <td>4.670090</td>\n",
       "    </tr>\n",
       "  </tbody>\n",
       "</table>\n",
       "</div>"
      ],
      "text/plain": [
       "                                 score\n",
       "adjusted_mutual_info_score   -0.001022\n",
       "adjusted_rand_score          -0.000413\n",
       "r2_score                      0.883690\n",
       "explained_variance_score      0.883846\n",
       "completeness_score            0.916946\n",
       "v_measure_score               0.954240\n",
       "normalized_mutual_info_score  0.955030\n",
       "homogeneity_score             0.994696\n",
       "mutual_info_score             4.670090"
      ]
     },
     "execution_count": 79,
     "metadata": {},
     "output_type": "execute_result"
    }
   ],
   "source": [
    "colonne_de_score = \"score\"\n",
    "df_metriques.columns = [colonne_de_score]\n",
    "df_metriques.sort_values(colonne_de_score)"
   ]
  },
  {
   "cell_type": "markdown",
   "metadata": {},
   "source": [
    "## on peut les dessiner"
   ]
  },
  {
   "cell_type": "code",
   "execution_count": 80,
   "metadata": {
    "collapsed": false
   },
   "outputs": [
    {
     "data": {
      "text/plain": [
       "<matplotlib.axes._subplots.AxesSubplot at 0x1134ec910>"
      ]
     },
     "execution_count": 80,
     "metadata": {},
     "output_type": "execute_result"
    },
    {
     "data": {
      "image/png": "[encoded data removed]",
      "text/plain": [
       "<matplotlib.figure.Figure at 0x11455a850>"
      ]
     },
     "metadata": {},
     "output_type": "display_data"
    }
   ],
   "source": [
    "df_metriques.sort_values(by=colonne_de_score).plot(kind=\"barh\")"
   ]
  },
  {
   "cell_type": "markdown",
   "metadata": {},
   "source": [
    "# on s'intéresse en général au r2 et à la variance expliquée"
   ]
  }
 ],
 "metadata": {
  "kernelspec": {
   "display_name": "Python [Root]",
   "language": "python",
   "name": "Python [Root]"
  },
  "language_info": {
   "codemirror_mode": {
    "name": "ipython",
    "version": 2
   },
   "file_extension": ".py",
   "mimetype": "text/x-python",
   "name": "python",
   "nbconvert_exporter": "python",
   "pygments_lexer": "ipython2",
   "version": "2.7.11"
  }
 },
 "nbformat": 4,
 "nbformat_minor": 0
}
