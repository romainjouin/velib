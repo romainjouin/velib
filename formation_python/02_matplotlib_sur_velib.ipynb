{
 "cells": [
  {
   "cell_type": "markdown",
   "metadata": {},
   "source": [
    "# Figure avec deux axes différents sur x"
   ]
  },
  {
   "cell_type": "code",
   "execution_count": 34,
   "metadata": {
    "collapsed": false
   },
   "outputs": [
    {
     "data": {
      "image/png": "[encoded data removed]",
      "text/plain": [
       "<matplotlib.figure.Figure at 0x10cc2b550>"
      ]
     },
     "metadata": {},
     "output_type": "display_data"
    }
   ],
   "source": [
    "import matplotlib.pyplot as plt\n",
    "import numpy as np\n",
    "%matplotlib inline\n",
    "k=5\n",
    "# ___________________\n",
    "# figure\n",
    "fig = plt.figure()\n",
    "ax1 = fig.add_subplot(111)\n",
    "ax2 = ax1.twiny() # partage de l’axe y :\n",
    "# ___________________\n",
    "# fonction 1 \n",
    "# x est un tableau de 15 valeurs :\n",
    "# puis on calcule 15 y pour chacun des 15 x\n",
    "x1 = np.arange(0.1, 1.5, 0.1)         \n",
    "y1 = k*(np.power(x1,(k-1))) * np.exp(-(np.power(x1,(k-1))))    \n",
    "\n",
    "ax1.set_xlabel(r\"values of x\") # titre sur l’axe des x       \n",
    "ax1.set_xlim(0.1,1.4) # on met une limite de x pour le premier axe \n",
    "ax1.plot(x1,y1)       # dessiner la première fonction \n",
    "# ___________________\n",
    "# fonction 2 \n",
    "x2 = x1*1000\n",
    "y2 = x1*7\n",
    "ax2.set_xlabel(r\"time in seconds\")\n",
    "ax2.set_xlim(1500)   # on change le x sur le second axe\n",
    "ax2.invert_xaxis()   # inversion de l’axe x (pourquoi ?)\n",
    "ax2.plot(x2,y2)      # fonction linéaire : x => 7x\n",
    "# ___________________\n",
    "plt.show()\n"
   ]
  },
  {
   "cell_type": "markdown",
   "metadata": {},
   "source": [
    "# lister les csvs"
   ]
  },
  {
   "cell_type": "code",
   "execution_count": 32,
   "metadata": {
    "collapsed": true
   },
   "outputs": [],
   "source": [
    "def get_all_specific_paths_under_dir(directory_path, wanted_end = \".csv\"):\n",
    "    \"\"\"\n",
    "    Recursevely walk a directory and create an array of path leading to a csv file.\n",
    "        Parameter:\n",
    "            directory:string\n",
    "                Path to the root directory to walk through.\n",
    "            wanted_ends:string\n",
    "                Ending we are looking for into the filename. (ie: '.csv' for csv files)\n",
    "                Default = \".csv\" (ie returning list of csv files)int\n",
    "        Return: array\n",
    "            Array of paths (csv as defaults).\n",
    "    \"\"\"\n",
    "    import os\n",
    "    files_paths = []\n",
    "    for dirname, dirnames, filenames in os.walk(directory_path) :\n",
    "        for filename in filenames:\n",
    "            if filename.endswith(wanted_end): \n",
    "                files_paths.append(os.path.join(dirname, filename))\n",
    "    return files_paths"
   ]
  },
  {
   "cell_type": "code",
   "execution_count": 33,
   "metadata": {
    "collapsed": false
   },
   "outputs": [
    {
     "data": {
      "text/plain": [
       "['./cyclistes.csv']"
      ]
     },
     "execution_count": 33,
     "metadata": {},
     "output_type": "execute_result"
    }
   ],
   "source": [
    "get_all_specific_paths_under_dir(\".\")"
   ]
  },
  {
   "cell_type": "code",
   "execution_count": 21,
   "metadata": {
    "collapsed": true
   },
   "outputs": [],
   "source": [
    "path_to_cyclistes = \"./cyclistes.csv\""
   ]
  },
  {
   "cell_type": "markdown",
   "metadata": {},
   "source": [
    "# Analsyer l'output de la création des cyclistes"
   ]
  },
  {
   "cell_type": "code",
   "execution_count": 20,
   "metadata": {
    "collapsed": true
   },
   "outputs": [],
   "source": [
    "import pandas as pd"
   ]
  },
  {
   "cell_type": "code",
   "execution_count": 22,
   "metadata": {
    "collapsed": false
   },
   "outputs": [],
   "source": [
    "df = pd.DataFrame.from_csv(path_to_cyclistes)"
   ]
  },
  {
   "cell_type": "markdown",
   "metadata": {},
   "source": [
    "## Groupes par sexe"
   ]
  },
  {
   "cell_type": "code",
   "execution_count": 23,
   "metadata": {
    "collapsed": false
   },
   "outputs": [
    {
     "name": "stdout",
     "output_type": "stream",
     "text": [
      "15\n",
      "     sexe  sportivite  age sur_velo\n",
      "id                                 \n",
      "226     H    3.389193   15     True\n",
      "442     H    3.861592   15    False\n",
      "743     H    0.886540   15     True\n",
      "837     H    3.555805   15     True\n",
      "958     H    3.643358   15     True\n",
      "1022    H    1.498227   15    False\n"
     ]
    },
    {
     "data": {
      "image/png": "[encoded data removed]",
      "text/plain": [
       "<matplotlib.figure.Figure at 0x10d77b490>"
      ]
     },
     "metadata": {},
     "output_type": "display_data"
    }
   ],
   "source": [
    "# (1) masque sur le sexe\n",
    "mask    = df[\"sexe\"] == \"H\"\n",
    "# (2) groupement par âge\n",
    "groupes = df[mask].groupby([\"age\"])\n",
    "# (3) observations par groupe : \n",
    "for valeur_de_groupement, groupe in groupes:\n",
    "    print valeur_de_groupement\n",
    "    print groupe\n",
    "    groupe.plot(kind='bar')\n",
    "    break\n"
   ]
  },
  {
   "cell_type": "markdown",
   "metadata": {},
   "source": [
    "## Création d'une pyramide des âges"
   ]
  },
  {
   "cell_type": "markdown",
   "metadata": {},
   "source": [
    "### Préparation"
   ]
  },
  {
   "cell_type": "code",
   "execution_count": 35,
   "metadata": {
    "collapsed": false
   },
   "outputs": [],
   "source": [
    "mask      = df[\"sexe\"] == \"H\"\n",
    "hommes    = df[mask]\n",
    "nb_hommes = hommes.groupby(\"age\").count()"
   ]
  },
  {
   "cell_type": "code",
   "execution_count": 36,
   "metadata": {
    "collapsed": false
   },
   "outputs": [],
   "source": [
    "mask      = df[\"sexe\"] == \"F\"\n",
    "femmes    = df[mask]\n",
    "nb_femmes = femmes.groupby(\"age\").count()"
   ]
  },
  {
   "cell_type": "code",
   "execution_count": 37,
   "metadata": {
    "collapsed": false
   },
   "outputs": [],
   "source": [
    "hommes_femmes = nb_hommes.join(nb_femmes, \n",
    "                               lsuffix=\"_homme\", \n",
    "                               rsuffix=\"_femme\")[[\"sexe_homme\", \"sexe_femme\"]]"
   ]
  },
  {
   "cell_type": "code",
   "execution_count": 38,
   "metadata": {
    "collapsed": false
   },
   "outputs": [
    {
     "data": {
      "text/html": [
       "<div>\n",
       "<table border=\"1\" class=\"dataframe\">\n",
       "  <thead>\n",
       "    <tr style=\"text-align: right;\">\n",
       "      <th></th>\n",
       "      <th>sexe_homme</th>\n",
       "      <th>sexe_femme</th>\n",
       "    </tr>\n",
       "    <tr>\n",
       "      <th>age</th>\n",
       "      <th></th>\n",
       "      <th></th>\n",
       "    </tr>\n",
       "  </thead>\n",
       "  <tbody>\n",
       "    <tr>\n",
       "      <th>15</th>\n",
       "      <td>6</td>\n",
       "      <td>4</td>\n",
       "    </tr>\n",
       "    <tr>\n",
       "      <th>16</th>\n",
       "      <td>9</td>\n",
       "      <td>5</td>\n",
       "    </tr>\n",
       "    <tr>\n",
       "      <th>17</th>\n",
       "      <td>6</td>\n",
       "      <td>6</td>\n",
       "    </tr>\n",
       "    <tr>\n",
       "      <th>18</th>\n",
       "      <td>8</td>\n",
       "      <td>7</td>\n",
       "    </tr>\n",
       "    <tr>\n",
       "      <th>19</th>\n",
       "      <td>7</td>\n",
       "      <td>15</td>\n",
       "    </tr>\n",
       "  </tbody>\n",
       "</table>\n",
       "</div>"
      ],
      "text/plain": [
       "     sexe_homme  sexe_femme\n",
       "age                        \n",
       "15            6           4\n",
       "16            9           5\n",
       "17            6           6\n",
       "18            8           7\n",
       "19            7          15"
      ]
     },
     "execution_count": 38,
     "metadata": {},
     "output_type": "execute_result"
    }
   ],
   "source": [
    "hommes_femmes.head()"
   ]
  },
  {
   "cell_type": "code",
   "execution_count": 39,
   "metadata": {
    "collapsed": false
   },
   "outputs": [],
   "source": [
    "de_0_a_100_ans = hommes_femmes.reindex(index=range(100))"
   ]
  },
  {
   "cell_type": "code",
   "execution_count": 40,
   "metadata": {
    "collapsed": false
   },
   "outputs": [
    {
     "data": {
      "text/html": [
       "<div>\n",
       "<table border=\"1\" class=\"dataframe\">\n",
       "  <thead>\n",
       "    <tr style=\"text-align: right;\">\n",
       "      <th></th>\n",
       "      <th>sexe_homme</th>\n",
       "      <th>sexe_femme</th>\n",
       "    </tr>\n",
       "    <tr>\n",
       "      <th>age</th>\n",
       "      <th></th>\n",
       "      <th></th>\n",
       "    </tr>\n",
       "  </thead>\n",
       "  <tbody>\n",
       "    <tr>\n",
       "      <th>0</th>\n",
       "      <td>NaN</td>\n",
       "      <td>NaN</td>\n",
       "    </tr>\n",
       "    <tr>\n",
       "      <th>1</th>\n",
       "      <td>NaN</td>\n",
       "      <td>NaN</td>\n",
       "    </tr>\n",
       "    <tr>\n",
       "      <th>2</th>\n",
       "      <td>NaN</td>\n",
       "      <td>NaN</td>\n",
       "    </tr>\n",
       "    <tr>\n",
       "      <th>3</th>\n",
       "      <td>NaN</td>\n",
       "      <td>NaN</td>\n",
       "    </tr>\n",
       "    <tr>\n",
       "      <th>4</th>\n",
       "      <td>NaN</td>\n",
       "      <td>NaN</td>\n",
       "    </tr>\n",
       "  </tbody>\n",
       "</table>\n",
       "</div>"
      ],
      "text/plain": [
       "     sexe_homme  sexe_femme\n",
       "age                        \n",
       "0           NaN         NaN\n",
       "1           NaN         NaN\n",
       "2           NaN         NaN\n",
       "3           NaN         NaN\n",
       "4           NaN         NaN"
      ]
     },
     "execution_count": 40,
     "metadata": {},
     "output_type": "execute_result"
    }
   ],
   "source": [
    "de_0_a_100_ans.head()"
   ]
  },
  {
   "cell_type": "markdown",
   "metadata": {},
   "source": [
    "### Pyramide des âges"
   ]
  },
  {
   "cell_type": "code",
   "execution_count": 30,
   "metadata": {
    "collapsed": false
   },
   "outputs": [
    {
     "data": {
      "image/png": "[encoded data removed]",
      "text/plain": [
       "<matplotlib.figure.Figure at 0x10d7cbfd0>"
      ]
     },
     "metadata": {},
     "output_type": "display_data"
    }
   ],
   "source": [
    "%matplotlib inline\n",
    "import matplotlib.pyplot as plt\n",
    "\n",
    "y  = range(100)\n",
    "x1 = de_0_a_100_ans[\"sexe_femme\"]\n",
    "x2 = de_0_a_100_ans[\"sexe_homme\"]\n",
    "\n",
    "fig, axes = plt.subplots(ncols=2, sharey=True)\n",
    "\n",
    "axes[0].set(title='Hommes')\n",
    "axes[1].set(title='Femmes')\n",
    "\n",
    "axes[0].barh(y, x1, align='center', color='blue')\n",
    "axes[1].barh(y, x2, align='center', color='green')\n",
    "\n",
    "axes[0].invert_xaxis()\n",
    "axes[0].yaxis.tick_right()\n",
    "\n",
    "plt.show()"
   ]
  },
  {
   "cell_type": "code",
   "execution_count": null,
   "metadata": {
    "collapsed": true
   },
   "outputs": [],
   "source": []
  }
 ],
 "metadata": {
  "celltoolbar": "Raw Cell Format",
  "kernelspec": {
   "display_name": "Python [Root]",
   "language": "python",
   "name": "Python [Root]"
  },
  "language_info": {
   "codemirror_mode": {
    "name": "ipython",
    "version": 2
   },
   "file_extension": ".py",
   "mimetype": "text/x-python",
   "name": "python",
   "nbconvert_exporter": "python",
   "pygments_lexer": "ipython2",
   "version": "2.7.11"
  }
 },
 "nbformat": 4,
 "nbformat_minor": 0
}
