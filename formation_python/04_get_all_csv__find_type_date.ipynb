{
 "cells": [
  {
   "cell_type": "code",
   "execution_count": 1,
   "metadata": {
    "collapsed": false
   },
   "outputs": [],
   "source": [
    "def get_all_specific_paths_under_dir(directory_path, wanted_end = \".csv\"):\n",
    "    \"\"\"\n",
    "    Recursevely walk a directory and create an array of path leading to a csv file.\n",
    "        Parameter:\n",
    "            directory:string\n",
    "                Path to the root directory to walk through.\n",
    "            wanted_ends:string\n",
    "                Ending we are looking for into the filename. (ie: '.csv' for csv files)\n",
    "                Default = \".csv\" (ie returning list of csv files)int\n",
    "        Return: array\n",
    "            Array of paths (csv as defaults).\n",
    "    \"\"\"\n",
    "    import os\n",
    "    files_paths = []\n",
    "    for dirname, dirnames, filenames in os.walk(directory_path) :\n",
    "        for filename in filenames:\n",
    "            if filename.endswith(wanted_end): \n",
    "                files_paths.append(os.path.join(dirname, filename))\n",
    "    return files_paths"
   ]
  },
  {
   "cell_type": "code",
   "execution_count": 2,
   "metadata": {
    "collapsed": false
   },
   "outputs": [],
   "source": [
    "def find_type(string):\n",
    "    \"\"\"\n",
    "        Test the data type contained inside a string (int, float, chararray). \n",
    "        Returns (str): string's type\n",
    "    \"\"\"\n",
    "    from datetime import datetime\n",
    "    tests = [   (\"int\"          , int      ), \n",
    "                (\"float\"        , float    ), \n",
    "                (\"date-dmy\"     , lambda value : datetime.strptime(value, \"%d/%m/%y\")),\n",
    "                (\"date-Ymd\"     , lambda value : datetime.strptime(value, \"%Y/%m/%d\")),\n",
    "                (\"date-dmY\"     , lambda value : datetime.strptime(value, \"%d/%m/%Y\")),\n",
    "                (\"date-Y-m-d\"   , lambda value : datetime.strptime(value, \"%Y-%m-%d\")),\n",
    "                (\"date-d-m-d\"   , lambda value : datetime.strptime(value, \"%d-%m-%d\")),\n",
    "                (\"date-ymd\"     , lambda value : datetime.strptime(value, \"%y/%m/%d\")),]\n",
    "    \n",
    "    for type_de_string, function_de_test in tests:\n",
    "        try     : \n",
    "            function_de_test(string)\n",
    "            return type_de_string \n",
    "        except     : pass\n",
    "    \n",
    "    try:\n",
    "        s = string.replace(\",\", \".\")\n",
    "        float(s)\n",
    "        return \"float\"\n",
    "    except : pass\n",
    "    return \"chararray\"\n"
   ]
  },
  {
   "cell_type": "code",
   "execution_count": 3,
   "metadata": {
    "collapsed": false
   },
   "outputs": [
    {
     "data": {
      "text/plain": [
       "'date-dmy'"
      ]
     },
     "execution_count": 3,
     "metadata": {},
     "output_type": "execute_result"
    }
   ],
   "source": [
    "find_type(\"18/10/21\")"
   ]
  },
  {
   "cell_type": "code",
   "execution_count": 4,
   "metadata": {
    "collapsed": false
   },
   "outputs": [
    {
     "data": {
      "text/plain": [
       "['./base_x.csv', './base_y.csv']"
      ]
     },
     "execution_count": 4,
     "metadata": {},
     "output_type": "execute_result"
    }
   ],
   "source": [
    "get_all_specific_paths_under_dir(\".\")"
   ]
  },
  {
   "cell_type": "code",
   "execution_count": null,
   "metadata": {
    "collapsed": true
   },
   "outputs": [],
   "source": []
  }
 ],
 "metadata": {
  "kernelspec": {
   "display_name": "Python [Root]",
   "language": "python",
   "name": "Python [Root]"
  },
  "language_info": {
   "codemirror_mode": {
    "name": "ipython",
    "version": 2
   },
   "file_extension": ".py",
   "mimetype": "text/x-python",
   "name": "python",
   "nbconvert_exporter": "python",
   "pygments_lexer": "ipython2",
   "version": "2.7.11"
  }
 },
 "nbformat": 4,
 "nbformat_minor": 0
}
